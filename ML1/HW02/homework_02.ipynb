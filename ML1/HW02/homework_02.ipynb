{
 "cells": [
  {
   "cell_type": "markdown",
   "id": "0cf75ab4-bd4d-4ec2-a708-74797dbfce44",
   "metadata": {},
   "source": [
    "# Úkol č. 2 - regrese\n",
    "\n",
    "* Termíny jsou uvedeny na [courses.fit.cvut.cz](https://courses.fit.cvut.cz/BI-ML1/homeworks/index.html).\n",
    "* Pokud odevzdáte úkol po prvním termínu ale před nejzazším termínem, budete penalizování -12 body, pozdější odevzdání je bez bodu.\n",
    "* V rámci tohoto úkolu se musíte vypořádat s regresní úlohou, s příznaky různých typů a s chybějícími hodnotami.\n",
    "* Před tím, než na nich postavíte predikční model, je třeba je nějakým způsobem převést do číselné reprezentace.\n",
    "    \n",
    "> **Úkoly jsou zadány tak, aby Vám daly prostor pro invenci. Vymyslet _jak přesně_ budete úkol řešit, je důležitou součástí zadání a originalita či nápaditost bude také hodnocena!**\n",
    "\n",
    "Využívejte buňky typu `Markdown` k vysvětlování Vašeho postupu. Za nepřehlednost budeme strhávat body.\n",
    "\n",
    "## Zdroj dat\n",
    "\n",
    "Budeme se zabývat predikcí délky dožití v různých zemích a letech.\n",
    "K dispozici máte trénovací data v souboru `data.csv` a data na vyhodnocení v souboru `evaluation.csv`.\n",
    "\n",
    "#### Seznam příznaků:\n",
    "\n",
    "* Year - Rok\n",
    "* Status - Status rozvinuté nebo rozvojové země\n",
    "* Life expectancy - Délka dožití v letech - **cílová proměnná, kterou budete predikovat**\n",
    "* Adult Mortality - Úmrtnost dospělých bez ohledu na pohlaví (pravděpodobnost, že osoby, které dosáhly věku 15 let, zemřou před dosažením věku 60 let (uvedeno na 1 000 osob)).\n",
    "* infant deaths - počet zemřelých kojenců na 1000 obyvatel\n",
    "* Alcohol - Alkohol, zaznamenaná spotřeba na obyvatele (15+) (v litrech čistého alkoholu)\n",
    "* percentage expenditure - Výdaje na zdravotnictví v procentech hrubého domácího produktu na obyvatele (%)\n",
    "* Hepatitis B - pokrytí očkováním proti hepatitidě B (HepB) u dětí ve věku 1 roku (%)\n",
    "* Measles - Spalničky - počet hlášených případů na 1000 obyvatel\n",
    "* BMI - průměrný index tělesné hmotnosti celé populace\n",
    "* under-five deaths - počet úmrtí dětí do pěti let na 1000 obyvatel\n",
    "* Polio - proočkovanost proti dětské obrně (Pol3) u dětí ve věku 1 roku (%)\n",
    "* Total expenditure - Výdaje vládních institucí na zdravotnictví jako procento celkových vládních výdajů (%)\n",
    "* Diphtheria - pokrytí očkováním proti záškrtu, tetanu a černému kašli (DTP3) u jednoletých dětí (%)\n",
    "* HIV/AIDS - počet úmrtí na 1 000 živě narozených dětí na HIV/AIDS (0-4 roky)\n",
    "* GDP - hrubý domácí produkt na obyvatele (v USD)\n",
    "* Population - počet obyvatel země\n",
    "* thinness 1-19 years - podíl dětí ve věku 10-19 let s indexem tělesné hmotnosti (BMI) menším než 2 směrodatné odchylky pod mediánem (%)\n",
    "* thinness 5-9 years - podíl dětí ve věku 5-9 let s indexem tělesné hmotnosti (BMI) menším než 2 směrodatné odchylky pod mediánem (%)\n",
    "* Income composition of resources - Index lidského rozvoje z hlediska příjmového složení zdrojů (index v rozmezí 0 až 1)\n",
    "* Schooling - počet let školní docházky (roky)\n",
    "\n",
    "\n",
    "## Pokyny k vypracování\n",
    "\n",
    "**Body zadání**, za jejichž (poctivé) vypracování získáte **25 bodů**: \n",
    "  * V notebooku načtěte data ze souboru `data.csv`. Vhodným způsobem si je rozdělte na podmnožiny, které Vám poslouží pro trénování (trénovací), porovnávání modelů (validační) a následnou predikci výkonnosti finálního modelu (testovací).\n",
    "    \n",
    "  * Proveďte základní předzpracování dat:\n",
    "    * Projděte si jednotlivé příznaky a transformujte je do vhodné podoby pro použití ve vybraném regresním modelu.\n",
    "    * Nějakým způsobem se vypořádejte s chybějícími hodnotami. _Pozor na metodické chyby!_\n",
    "    * Můžete využívat i vizualizace. Vše stručně ale náležitě komentujte.\n",
    "<br /><br />\n",
    "  * Vytvořte **vlastní implementaci náhodného lesa**. Použijte k tomu níže předpřipravenou kostru.\n",
    "  \n",
    "  * Na připravená data postupně aplikujte Vaši předchozí implementaci modelu náhodného lesa, dále jeden z modelů **lineární regrese** nebo **hřebenové regrese**, a alespoň jeden další model podle Vašeho uvážení, přičemž pro každý z těchto modelů přiměřeně:\n",
    "    * Okomentujte vhodnost daného modelu pro daný typ úlohy.\n",
    "    * Experimentujte s normalizací (standardizace/min-max), pokud pro daný model očekáváte její příznivý vliv.\n",
    "    * Vyberte si hlavní hyperparametry k ladění a najděte jejich nejlepší hodnoty (vzhledem k RMSE).\n",
    "    * Pro model s nejlepšími hodnotami hyperparametrů určete jeho chybu pomocí RMSE a MAE. _Pozor na metodické chyby!_\n",
    "    * Získané výsledky vždy řádně okomentujte.\n",
    "<br /><br />\n",
    "  * Ze všech zkoušených možností v předchozím kroku vyberte finální model a odhadněte, jakou chybu (RMSE) můžete očekávat na nových datech, která jste doposud neměli k dispozici. _Pozor na metodické chyby!_\n",
    "    \n",
    "  * Nakonec načtěte vyhodnocovací data ze souboru `evaluation.csv`. Pomocí finálního modelu napočítejte predikce pro tato data. Vytvořte soubor `results.csv`, ve kterém získané predikce uložíte s využitím tří sloupců: **Country**, **Year** a **Life expectancy**. Tento soubor též odevzdejte (uložte do repozitáře vedle notebooku).\n",
    "\n",
    "  * Ukázka prvních řádků souboru `results.csv`:\n",
    "  \n",
    "```\n",
    "Country,Year,Life expectancy\n",
    "Peru,2012,71.4\n",
    "Peru,2013,72.6\n",
    "...\n",
    "```\n",
    "\n",
    "\n",
    "## Poznámky k odevzdání\n",
    "\n",
    "  * Řiďte se pokyny ze stránky https://courses.fit.cvut.cz/BI-ML1/homeworks/index.html."
   ]
  },
  {
   "cell_type": "code",
   "execution_count": 91,
   "id": "f5a008a7",
   "metadata": {},
   "outputs": [],
   "source": [
    "import pandas as pd\n",
    "import numpy as np\n",
    "\n",
    "from sklearn.model_selection import train_test_split, ParameterGrid\n",
    "\n",
    "import matplotlib.pyplot as plt\n",
    "import matplotlib\n",
    "%matplotlib inline\n",
    "rd_seed=666"
   ]
  },
  {
   "cell_type": "markdown",
   "id": "a51b0abe",
   "metadata": {},
   "source": [
    "Read data from data.csv:"
   ]
  },
  {
   "cell_type": "code",
   "execution_count": 92,
   "id": "45fab4fa",
   "metadata": {},
   "outputs": [
    {
     "name": "stdout",
     "output_type": "stream",
     "text": [
      "<class 'pandas.core.frame.DataFrame'>\n",
      "RangeIndex: 2718 entries, 0 to 2717\n",
      "Data columns (total 22 columns):\n",
      " #   Column                           Non-Null Count  Dtype  \n",
      "---  ------                           --------------  -----  \n",
      " 0   Country                          2718 non-null   object \n",
      " 1   Year                             2718 non-null   int64  \n",
      " 2   Status                           2718 non-null   object \n",
      " 3   Life expectancy                  2718 non-null   float64\n",
      " 4   Adult Mortality                  2718 non-null   float64\n",
      " 5   infant deaths                    2718 non-null   int64  \n",
      " 6   Alcohol                          2564 non-null   float64\n",
      " 7   percentage expenditure           2718 non-null   float64\n",
      " 8   Hepatitis B                      2188 non-null   float64\n",
      " 9   Measles                          2718 non-null   int64  \n",
      " 10  BMI                              2692 non-null   float64\n",
      " 11  under-five deaths                2718 non-null   int64  \n",
      " 12  Polio                            2700 non-null   float64\n",
      " 13  Total expenditure                2529 non-null   float64\n",
      " 14  Diphtheria                       2700 non-null   float64\n",
      " 15  HIV/AIDS                         2718 non-null   float64\n",
      " 16  GDP                              2317 non-null   float64\n",
      " 17  Population                       2116 non-null   float64\n",
      " 18  thinness  1-19 years             2692 non-null   float64\n",
      " 19  thinness 5-9 years               2692 non-null   float64\n",
      " 20  Income composition of resources  2576 non-null   float64\n",
      " 21  Schooling                        2576 non-null   float64\n",
      "dtypes: float64(16), int64(4), object(2)\n",
      "memory usage: 467.3+ KB\n"
     ]
    }
   ],
   "source": [
    "data = pd.read_csv('data.csv')\n",
    "data.info()"
   ]
  },
  {
   "cell_type": "markdown",
   "id": "f41fbf3e",
   "metadata": {},
   "source": [
    "Change all Object type columns on categories"
   ]
  },
  {
   "cell_type": "code",
   "execution_count": 93,
   "id": "2bc266ef",
   "metadata": {},
   "outputs": [
    {
     "name": "stdout",
     "output_type": "stream",
     "text": [
      "<class 'pandas.core.frame.DataFrame'>\n",
      "RangeIndex: 2718 entries, 0 to 2717\n",
      "Data columns (total 22 columns):\n",
      " #   Column                           Non-Null Count  Dtype  \n",
      "---  ------                           --------------  -----  \n",
      " 0   Country                          2718 non-null   int16  \n",
      " 1   Year                             2718 non-null   int64  \n",
      " 2   Status                           2718 non-null   int8   \n",
      " 3   Life expectancy                  2718 non-null   float64\n",
      " 4   Adult Mortality                  2718 non-null   float64\n",
      " 5   infant deaths                    2718 non-null   int64  \n",
      " 6   Alcohol                          2564 non-null   float64\n",
      " 7   percentage expenditure           2718 non-null   float64\n",
      " 8   Hepatitis B                      2188 non-null   float64\n",
      " 9   Measles                          2718 non-null   int64  \n",
      " 10  BMI                              2692 non-null   float64\n",
      " 11  under-five deaths                2718 non-null   int64  \n",
      " 12  Polio                            2700 non-null   float64\n",
      " 13  Total expenditure                2529 non-null   float64\n",
      " 14  Diphtheria                       2700 non-null   float64\n",
      " 15  HIV/AIDS                         2718 non-null   float64\n",
      " 16  GDP                              2317 non-null   float64\n",
      " 17  Population                       2116 non-null   float64\n",
      " 18  thinness  1-19 years             2692 non-null   float64\n",
      " 19  thinness 5-9 years               2692 non-null   float64\n",
      " 20  Income composition of resources  2576 non-null   float64\n",
      " 21  Schooling                        2576 non-null   float64\n",
      "dtypes: float64(16), int16(1), int64(4), int8(1)\n",
      "memory usage: 432.8 KB\n"
     ]
    }
   ],
   "source": [
    "data = data.replace('?', np.nan)\n",
    "object_cols = data.select_dtypes(['object']).columns\n",
    "data[object_cols] = data[object_cols].astype('category').apply(lambda x: x.cat.codes)\n",
    "data.info()"
   ]
  },
  {
   "cell_type": "markdown",
   "id": "18d0af33",
   "metadata": {},
   "source": [
    "Replace missing values based on each country's mean value  in each column. If country has no not-NaN values for a column - replace it with global mean value."
   ]
  },
  {
   "cell_type": "code",
   "execution_count": 94,
   "id": "b22449d1",
   "metadata": {},
   "outputs": [
    {
     "data": {
      "text/plain": [
       "Country                            0\n",
       "Year                               0\n",
       "Status                             0\n",
       "Life expectancy                    0\n",
       "Adult Mortality                    0\n",
       "infant deaths                      0\n",
       "Alcohol                            0\n",
       "percentage expenditure             0\n",
       "Hepatitis B                        0\n",
       "Measles                            0\n",
       "BMI                                0\n",
       "under-five deaths                  0\n",
       "Polio                              0\n",
       "Total expenditure                  0\n",
       "Diphtheria                         0\n",
       "HIV/AIDS                           0\n",
       "GDP                                0\n",
       "Population                         0\n",
       "thinness  1-19 years               0\n",
       "thinness 5-9 years                 0\n",
       "Income composition of resources    0\n",
       "Schooling                          0\n",
       "dtype: int64"
      ]
     },
     "execution_count": 94,
     "metadata": {},
     "output_type": "execute_result"
    }
   ],
   "source": [
    "for column in data.columns:\n",
    "    country_mean_value=data.groupby('Country')[column].transform('mean')\n",
    "    mean_value = data[column].mean()\n",
    "    data[column].fillna(country_mean_value, inplace=True)\n",
    "    data[column].fillna(mean_value, inplace=True)\n",
    "#check if there're any NaN in table \n",
    "data.isnull().sum(axis=0)"
   ]
  },
  {
   "cell_type": "markdown",
   "id": "1ed34b48",
   "metadata": {},
   "source": [
    "Provide custom randomForest method"
   ]
  },
  {
   "cell_type": "code",
   "execution_count": 95,
   "id": "280dc5d5-087b-4060-bd0a-c950c91f0533",
   "metadata": {},
   "outputs": [],
   "source": [
    "# Váš kód zde\n",
    "from sklearn.tree import DecisionTreeRegressor\n",
    "from sklearn.utils import resample\n",
    "\n",
    "########################################################\n",
    "# Předpřipravená kostra modelu náhodného lesa\n",
    "class CustomRandomForest:\n",
    "    \"\"\"\n",
    "    Třída Vašeho modelu\n",
    "    Bude se jednat o model náhodného lesa, kde podmodely tvoří rozhodovací stromy pro regresi.\n",
    "    Pro podmodely můžete použít implementaci DecisionTreeRegressor ze sklearn.\n",
    "    \"\"\"\n",
    "    def __init__(self, n_estimators, max_samples, max_depth,rd_seed=None, **kwargs):\n",
    "        \"\"\"\n",
    "        Konstruktor modelu\n",
    "        Základní hyperparametery:\n",
    "            n_estimators - počet podmodelů - rozhodovacích stromů.\n",
    "            max_samples - vyberte si, zda tento parametr bude označovat relativní počet bodů (tj. číslo mezi 0 a 1) \n",
    "                          nebo absolutní počet bodů (tj. číslo mezi 1 a velikostí trénovací množiny), \n",
    "                          které budou pro každý podmodel rozhodovacího stromu náhodně vybrány z trénovací množiny (bootstrap) a použity k jeho trénování.\n",
    "            max_depth - maximální hloubka každého z podmodelů rozhodovacího stromu.\n",
    "            kwargs - (volitelně) případné další hyperparametry, které pošlete do podmodelů rozhodovacího stromu\n",
    "        \"\"\"\n",
    "        \n",
    "        self.n_estimators = n_estimators\n",
    "        self.max_samples = max_samples\n",
    "        self.max_depth = max_depth\n",
    "        self.params = kwargs\n",
    "        self.rd_seed = rd_seed\n",
    "        self.trees = []\n",
    "        \n",
    "    def fit(self, X, y):\n",
    "        \"\"\"\n",
    "        Natrénování modelu. Trénovací data jsou v argumentech X a y.\n",
    "        Pro trénování podmodelů používejte bootstraping a velikost samplovaného vzorku vezměte z hyperparametru max_samples_fraction\n",
    "        \"\"\"\n",
    "\n",
    "        for _ in range(self.n_estimators):\n",
    "            X_bs, y_bs = resample(X, y, n_samples=self.max_samples, replace=True)\n",
    "            clf = DecisionTreeRegressor(max_depth=self.max_depth, random_state=self.rd_seed, **self.params)\n",
    "            clf.fit(X_bs, y_bs)\n",
    "            self.trees.append(clf)\n",
    "\n",
    "        \n",
    "    def predict(self, X):\n",
    "        \"\"\"\n",
    "        Predikce y v zadaných bodech X\n",
    "        \"\"\"\n",
    "\n",
    "        y_predicted = np.zeros((X.shape[0],))\n",
    "        for tree in self.trees:\n",
    "            y_predicted += tree.predict(X)\n",
    "        y_predicted /= len(self.trees)\n",
    "        return y_predicted"
   ]
  },
  {
   "cell_type": "markdown",
   "id": "8bbd9cd1",
   "metadata": {},
   "source": [
    "Divide all data on train, validate and test subsets"
   ]
  },
  {
   "cell_type": "code",
   "execution_count": 96,
   "id": "8216231d-137d-4a04-b8f8-5e088e6ac6bb",
   "metadata": {},
   "outputs": [
    {
     "name": "stdout",
     "output_type": "stream",
     "text": [
      "<class 'pandas.core.frame.DataFrame'>\n",
      "Index: 1630 entries, 1492 to 2284\n",
      "Data columns (total 20 columns):\n",
      " #   Column                           Non-Null Count  Dtype  \n",
      "---  ------                           --------------  -----  \n",
      " 0   Year                             1630 non-null   int64  \n",
      " 1   Status                           1630 non-null   int8   \n",
      " 2   Adult Mortality                  1630 non-null   float64\n",
      " 3   infant deaths                    1630 non-null   int64  \n",
      " 4   Alcohol                          1630 non-null   float64\n",
      " 5   percentage expenditure           1630 non-null   float64\n",
      " 6   Hepatitis B                      1630 non-null   float64\n",
      " 7   Measles                          1630 non-null   int64  \n",
      " 8   BMI                              1630 non-null   float64\n",
      " 9   under-five deaths                1630 non-null   int64  \n",
      " 10  Polio                            1630 non-null   float64\n",
      " 11  Total expenditure                1630 non-null   float64\n",
      " 12  Diphtheria                       1630 non-null   float64\n",
      " 13  HIV/AIDS                         1630 non-null   float64\n",
      " 14  GDP                              1630 non-null   float64\n",
      " 15  Population                       1630 non-null   float64\n",
      " 16  thinness  1-19 years             1630 non-null   float64\n",
      " 17  thinness 5-9 years               1630 non-null   float64\n",
      " 18  Income composition of resources  1630 non-null   float64\n",
      " 19  Schooling                        1630 non-null   float64\n",
      "dtypes: float64(15), int64(4), int8(1)\n",
      "memory usage: 256.3 KB\n"
     ]
    }
   ],
   "source": [
    "Xdata = data.drop([\"Country\",\"Life expectancy\"],axis=1)\n",
    "ydata = data[\"Life expectancy\"]\n",
    "Xtrain, Xrest, ytrain, yrest = train_test_split(Xdata, ydata, test_size=0.4, random_state=rd_seed)\n",
    "Xtest, Xval, ytest, yval = train_test_split(Xrest, yrest, test_size=0.6, random_state=rd_seed)\n",
    "Xtrain.info()"
   ]
  },
  {
   "cell_type": "markdown",
   "id": "72e0e65c",
   "metadata": {},
   "source": [
    "Train CustomRandomForest:"
   ]
  },
  {
   "cell_type": "code",
   "execution_count": 97,
   "id": "8b22b521",
   "metadata": {},
   "outputs": [],
   "source": [
    "import sklearn.metrics as metrics\n",
    "\n",
    "#scaler isn't necessary in RandomForestRegressor\n",
    "param_grid = {\n",
    "    'n_estimators': range(5, 40, 4),\n",
    "    'max_samples': range (2,50,4),\n",
    "    'max_depth': range(1, 10)\n",
    "}\n",
    "\n",
    "param_comb = ParameterGrid(param_grid)\n",
    "val_metric = []\n",
    "for params in param_comb:\n",
    "    clfCRF = CustomRandomForest(**params)\n",
    "    clfCRF.fit(Xtrain,ytrain)\n",
    "    val_metric.append(metrics.mean_squared_error(yval, clfCRF.predict(Xval), squared = False))"
   ]
  },
  {
   "cell_type": "markdown",
   "id": "18da6064",
   "metadata": {},
   "source": [
    "Choose best parameters for CustomRandomForest model"
   ]
  },
  {
   "cell_type": "code",
   "execution_count": 98,
   "id": "b49817a7",
   "metadata": {},
   "outputs": [
    {
     "name": "stdout",
     "output_type": "stream",
     "text": [
      "We found the best params {'n_estimators': 21, 'max_samples': 46, 'max_depth': 6} with validation RMSE 3.34351.\n",
      "MAE for the best params is 2.44197\n"
     ]
    }
   ],
   "source": [
    "best_params_CRF = param_comb[np.argmin(val_metric)]\n",
    "clfCRF_fc = CustomRandomForest(**best_params_CRF)\n",
    "clfCRF_fc.fit(Xtrain,ytrain)\n",
    "print(f\"We found the best params {best_params_CRF} with validation RMSE {min(val_metric):.5f}.\")\n",
    "print(f\"MAE for the best params is {metrics.mean_absolute_error(yval,clfCRF_fc.predict(Xval)):.5f}\")"
   ]
  },
  {
   "cell_type": "markdown",
   "id": "0b509343",
   "metadata": {},
   "source": [
    "Scale Data"
   ]
  },
  {
   "cell_type": "code",
   "execution_count": 99,
   "id": "db6c96d5",
   "metadata": {},
   "outputs": [],
   "source": [
    "\n",
    "from sklearn.preprocessing import StandardScaler\n",
    "from sklearn.preprocessing import MinMaxScaler\n",
    "\n",
    "# use standard scaler\n",
    "SS = StandardScaler().fit(Xtrain)\n",
    "X_train_SS = SS.transform(Xtrain)\n",
    "X_val_SS = SS.transform(Xval)\n",
    "X_test_SS = SS.transform(Xtest)\n",
    "# use MinMax scaler\n",
    "MMS = MinMaxScaler().fit(Xtrain)\n",
    "X_train_MMS = MMS.transform(Xtrain)\n",
    "X_val_MMS = MMS.transform(Xval)\n",
    "X_test_MMS = MMS.transform(Xtest)\n"
   ]
  },
  {
   "cell_type": "markdown",
   "id": "04ecb8b6",
   "metadata": {},
   "source": [
    "Train linear regression model on data with different scaling"
   ]
  },
  {
   "cell_type": "code",
   "execution_count": 108,
   "id": "ab4ff2ac",
   "metadata": {},
   "outputs": [
    {
     "name": "stdout",
     "output_type": "stream",
     "text": [
      "RMSE for LinearRegression model using unscaled data: 4.226576155\n",
      "RMSE for LinearRegression model using standard scaler: 4.226576155\n",
      "RMSE for LinearRegression model using MinMax scaler: 4.226576155\n"
     ]
    }
   ],
   "source": [
    "from sklearn.linear_model import LinearRegression\n",
    "from sklearn.metrics import mean_squared_error\n",
    "clf_LR = LinearRegression()\n",
    "clf_LR.fit(Xtrain,ytrain)\n",
    "print (f\"RMSE for LinearRegression model using unscaled data: {metrics.mean_squared_error(yval, clf_LR.predict(Xval), squared = False):.9f}\")\n",
    "clf_LR.fit(X_train_SS,ytrain)\n",
    "print (f\"RMSE for LinearRegression model using standard scaler: {metrics.mean_squared_error(yval, clf_LR.predict(X_val_SS), squared = False):.9f}\")\n",
    "clf_LR.fit(X_train_MMS,ytrain)\n",
    "print (f\"RMSE for LinearRegression model using MinMax scaler: {metrics.mean_squared_error(yval, clf_LR.predict(X_val_MMS), squared = False):.9f}\")\n",
    "#scaler usage doesn't affect the RMSE score for Linear regression model si we will use unscaled data\n",
    "\n"
   ]
  },
  {
   "cell_type": "markdown",
   "id": "d856b4dd",
   "metadata": {},
   "source": [
    "Evaluate RMSE and MAE for non-scaled Linear regression model"
   ]
  },
  {
   "cell_type": "code",
   "execution_count": 101,
   "id": "c3347688",
   "metadata": {},
   "outputs": [
    {
     "name": "stdout",
     "output_type": "stream",
     "text": [
      "RMSE for LinearRegression model using unscaled data: 4.22658\n",
      "MAE for Linear regression model with uscaled data is 3.11005\n"
     ]
    }
   ],
   "source": [
    "clf_LR.fit(Xtrain,ytrain)\n",
    "print (f\"RMSE for LinearRegression model using unscaled data: {metrics.mean_squared_error(yval, clf_LR.predict(Xval), squared = False):.5f}\")\n",
    "print(f\"MAE for Linear regression model with uscaled data is {metrics.mean_absolute_error(yval,clf_LR.predict(Xval)):.5f}\")"
   ]
  },
  {
   "cell_type": "markdown",
   "id": "b0809eec",
   "metadata": {},
   "source": [
    "As we can see Custom RandomForest has significantly smaller RMSE score"
   ]
  },
  {
   "cell_type": "markdown",
   "id": "484cb9c2",
   "metadata": {},
   "source": [
    "Find the best parameters and train Adaboost model:"
   ]
  },
  {
   "cell_type": "code",
   "execution_count": 102,
   "id": "7bf612a6",
   "metadata": {},
   "outputs": [],
   "source": [
    "from sklearn.ensemble import AdaBoostRegressor\n",
    "from sklearn.tree import DecisionTreeRegressor\n",
    "param_grid = {\n",
    "    'n_estimators': range(1, 100, 5),\n",
    "    'max_depth': range(2, 10)\n",
    "}\n",
    "\n",
    "param_comb = ParameterGrid(param_grid)\n",
    "\n",
    "RMSE_val_metric = []\n",
    "MAE_val_metric = []\n",
    "for params in param_comb:\n",
    "    dt_depth = params.pop(\"max_depth\")\n",
    "    params[\"estimator\"] = DecisionTreeRegressor(max_depth = dt_depth)\n",
    "    clf_AD = AdaBoostRegressor(**params, random_state = rd_seed)\n",
    "    clf_AD.fit(Xtrain, ytrain)\n",
    "    RMSE_val_metric.append(metrics.mean_squared_error(yval, clf_AD.predict(Xval)))\n",
    "    MAE_val_metric.append(metrics.mean_absolute_error(yval, clf_AD.predict(Xval)))\n",
    "    \n"
   ]
  },
  {
   "cell_type": "code",
   "execution_count": 103,
   "id": "b0f45cea",
   "metadata": {},
   "outputs": [
    {
     "name": "stdout",
     "output_type": "stream",
     "text": [
      "We found the best params {'n_estimators': 41, 'max_depth': 9} with RMSE 3.92347 and MAE 1.25548.\n"
     ]
    }
   ],
   "source": [
    "best_params = param_comb[np.argmin(RMSE_val_metric)]\n",
    "print(f\"We found the best params {best_params} with RMSE {min(RMSE_val_metric):.5f} and MAE {min(MAE_val_metric):.5f}.\")\n"
   ]
  },
  {
   "cell_type": "markdown",
   "id": "695d63e0",
   "metadata": {},
   "source": [
    "As we can see there AdaBoostRegressor has better RMSE than Linear regression model, but significantly worse, then CustomRandomForest model, so the final choice will be CustomRandomForest model"
   ]
  },
  {
   "cell_type": "code",
   "execution_count": 104,
   "id": "2aba8e5a",
   "metadata": {},
   "outputs": [
    {
     "name": "stdout",
     "output_type": "stream",
     "text": [
      "RMSE for test data in a final model : 3.34349\n"
     ]
    }
   ],
   "source": [
    "clf_final = clfCRF_fc\n",
    "clf_final.fit(Xtrain,ytrain)\n",
    "#evaluate RMSE for new (test) data in final model\n",
    "print (f\"RMSE for test data in a final model : {metrics.mean_squared_error(ytest, clf_final.predict(Xtest), squared = False):.5f}\") "
   ]
  },
  {
   "cell_type": "markdown",
   "id": "a3af2916",
   "metadata": {},
   "source": [
    "Test data has slightly worse RMSE than val data, which means that final model works stable for new data"
   ]
  },
  {
   "cell_type": "markdown",
   "id": "6790a92a",
   "metadata": {},
   "source": [
    "Read evaluation data and edit data to be usable in prediction model"
   ]
  },
  {
   "cell_type": "code",
   "execution_count": 105,
   "id": "1b611af4",
   "metadata": {},
   "outputs": [
    {
     "data": {
      "text/plain": [
       "Country                            0\n",
       "Year                               0\n",
       "Status                             0\n",
       "Adult Mortality                    0\n",
       "infant deaths                      0\n",
       "Alcohol                            0\n",
       "percentage expenditure             0\n",
       "Hepatitis B                        0\n",
       "Measles                            0\n",
       "BMI                                0\n",
       "under-five deaths                  0\n",
       "Polio                              0\n",
       "Total expenditure                  0\n",
       "Diphtheria                         0\n",
       "HIV/AIDS                           0\n",
       "GDP                                0\n",
       "Population                         0\n",
       "thinness  1-19 years               0\n",
       "thinness 5-9 years                 0\n",
       "Income composition of resources    0\n",
       "Schooling                          0\n",
       "dtype: int64"
      ]
     },
     "execution_count": 105,
     "metadata": {},
     "output_type": "execute_result"
    }
   ],
   "source": [
    "ev = pd.read_csv('evaluation.csv')\n",
    "ev_countries=ev.Country\n",
    "#replace missing values and change object columns to categories\n",
    "ev = ev.replace('?', np.nan)\n",
    "object_cols = ev.select_dtypes(['object']).columns\n",
    "ev[object_cols] = ev[object_cols].astype('category').apply(lambda x: x.cat.codes)\n",
    "#replace missing values\n",
    "for column in ev.columns:\n",
    "    country_mean_value=ev.groupby('Country')[column].transform('mean')\n",
    "    mean_value = ev[column].mean()\n",
    "    ev[column].fillna(country_mean_value, inplace=True)\n",
    "    ev[column].fillna(mean_value, inplace=True)\n",
    "#check if there're any NaN in table \n",
    "ev.isnull().sum(axis=0)"
   ]
  },
  {
   "cell_type": "markdown",
   "id": "77564e3d",
   "metadata": {},
   "source": [
    "Predict target values for ev dataset"
   ]
  },
  {
   "cell_type": "code",
   "execution_count": 106,
   "id": "903bad10",
   "metadata": {},
   "outputs": [],
   "source": [
    "yev = clf_final.predict(ev.drop([\"Country\"],axis=1))"
   ]
  },
  {
   "cell_type": "markdown",
   "id": "a8164a50",
   "metadata": {},
   "source": [
    "make a new dataset with \"Country\",\"Year\" and \"Life expectancy\" columns"
   ]
  },
  {
   "cell_type": "code",
   "execution_count": 107,
   "id": "4a44eff4",
   "metadata": {},
   "outputs": [
    {
     "data": {
      "text/html": [
       "<div>\n",
       "<style scoped>\n",
       "    .dataframe tbody tr th:only-of-type {\n",
       "        vertical-align: middle;\n",
       "    }\n",
       "\n",
       "    .dataframe tbody tr th {\n",
       "        vertical-align: top;\n",
       "    }\n",
       "\n",
       "    .dataframe thead th {\n",
       "        text-align: right;\n",
       "    }\n",
       "</style>\n",
       "<table border=\"1\" class=\"dataframe\">\n",
       "  <thead>\n",
       "    <tr style=\"text-align: right;\">\n",
       "      <th></th>\n",
       "      <th>Country</th>\n",
       "      <th>Year</th>\n",
       "      <th>Life expectancy</th>\n",
       "    </tr>\n",
       "  </thead>\n",
       "  <tbody>\n",
       "    <tr>\n",
       "      <th>0</th>\n",
       "      <td>Azerbaijan</td>\n",
       "      <td>2015</td>\n",
       "      <td>74.313249</td>\n",
       "    </tr>\n",
       "    <tr>\n",
       "      <th>1</th>\n",
       "      <td>Azerbaijan</td>\n",
       "      <td>2014</td>\n",
       "      <td>73.754286</td>\n",
       "    </tr>\n",
       "    <tr>\n",
       "      <th>2</th>\n",
       "      <td>Azerbaijan</td>\n",
       "      <td>2013</td>\n",
       "      <td>73.664337</td>\n",
       "    </tr>\n",
       "    <tr>\n",
       "      <th>3</th>\n",
       "      <td>Azerbaijan</td>\n",
       "      <td>2012</td>\n",
       "      <td>73.494909</td>\n",
       "    </tr>\n",
       "    <tr>\n",
       "      <th>4</th>\n",
       "      <td>Azerbaijan</td>\n",
       "      <td>2011</td>\n",
       "      <td>73.421117</td>\n",
       "    </tr>\n",
       "    <tr>\n",
       "      <th>...</th>\n",
       "      <td>...</td>\n",
       "      <td>...</td>\n",
       "      <td>...</td>\n",
       "    </tr>\n",
       "    <tr>\n",
       "      <th>205</th>\n",
       "      <td>United Republic of Tanzania</td>\n",
       "      <td>2014</td>\n",
       "      <td>67.085072</td>\n",
       "    </tr>\n",
       "    <tr>\n",
       "      <th>206</th>\n",
       "      <td>United Republic of Tanzania</td>\n",
       "      <td>2013</td>\n",
       "      <td>59.378373</td>\n",
       "    </tr>\n",
       "    <tr>\n",
       "      <th>207</th>\n",
       "      <td>United Republic of Tanzania</td>\n",
       "      <td>2012</td>\n",
       "      <td>58.633135</td>\n",
       "    </tr>\n",
       "    <tr>\n",
       "      <th>208</th>\n",
       "      <td>United Republic of Tanzania</td>\n",
       "      <td>2011</td>\n",
       "      <td>58.390278</td>\n",
       "    </tr>\n",
       "    <tr>\n",
       "      <th>209</th>\n",
       "      <td>United Republic of Tanzania</td>\n",
       "      <td>2010</td>\n",
       "      <td>63.148082</td>\n",
       "    </tr>\n",
       "  </tbody>\n",
       "</table>\n",
       "<p>210 rows × 3 columns</p>\n",
       "</div>"
      ],
      "text/plain": [
       "                         Country  Year  Life expectancy\n",
       "0                     Azerbaijan  2015        74.313249\n",
       "1                     Azerbaijan  2014        73.754286\n",
       "2                     Azerbaijan  2013        73.664337\n",
       "3                     Azerbaijan  2012        73.494909\n",
       "4                     Azerbaijan  2011        73.421117\n",
       "..                           ...   ...              ...\n",
       "205  United Republic of Tanzania  2014        67.085072\n",
       "206  United Republic of Tanzania  2013        59.378373\n",
       "207  United Republic of Tanzania  2012        58.633135\n",
       "208  United Republic of Tanzania  2011        58.390278\n",
       "209  United Republic of Tanzania  2010        63.148082\n",
       "\n",
       "[210 rows x 3 columns]"
      ]
     },
     "metadata": {},
     "output_type": "display_data"
    }
   ],
   "source": [
    "results = pd.DataFrame({'Country': ev_countries, 'Year': ev.Year, 'Life expectancy': yev})\n",
    "display(results)\n",
    "results.to_csv('results.csv',index=False)"
   ]
  },
  {
   "cell_type": "code",
   "execution_count": null,
   "id": "04edd7d5",
   "metadata": {},
   "outputs": [],
   "source": []
  }
 ],
 "metadata": {
  "kernelspec": {
   "display_name": "Python 3 (ipykernel)",
   "language": "python",
   "name": "python3"
  },
  "language_info": {
   "codemirror_mode": {
    "name": "ipython",
    "version": 3
   },
   "file_extension": ".py",
   "mimetype": "text/x-python",
   "name": "python",
   "nbconvert_exporter": "python",
   "pygments_lexer": "ipython3",
   "version": "3.9.2"
  }
 },
 "nbformat": 4,
 "nbformat_minor": 5
}
