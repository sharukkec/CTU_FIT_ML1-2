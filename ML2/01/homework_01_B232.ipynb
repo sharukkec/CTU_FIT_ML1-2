{
 "cells": [
  {
   "cell_type": "markdown",
   "metadata": {},
   "source": [
    "# Úkol č. 1 - redukce dimenzionality a binární klasifikace\n",
    "\n",
    "  * **Deadline je 22. 4. 2024, 23:59:59**, pokud odevzdáte úkol do 29. 4. 2024, 23:59:59, budete penalizování -12 body, pozdější odevzdání je bez bodu.\n",
    "  * V rámci tohoto úkolu se musíte vypořádat s vysokou dimenzí problému a poté úspěšně aplikovat vhodný klasfikační model.\n",
    "    \n",
    "> **Úkoly jsou zadány tak, aby Vám daly prostor pro invenci. Vymyslet _jak přesně_ budete úkol řešit, je důležitou součástí zadání a originalita či nápaditost bude také hodnocena!**\n",
    "\n",
    "Využívejte buňky typu `Markdown` k vysvětlování Vašeho postupu. Za nepřehlednost budou strhávány body.\n",
    "\n",
    "## Zdroj dat\n",
    "\n",
    " * Zdrojem dat jsou soubory `train.csv` a `evaluate.csv`.\n",
    " * Jedná se o obrázky 28x28 pixelů ve stupních šedi, které byly získány z [Fashion Mnist datasetu](https://www.kaggle.com/datasets/zalando-research/fashionmnist).\n",
    " * Soubor `train.csv` obsahuje trénovací data.\n",
    " * Cílová (vysvětlovaná) proměnná se jmenuje **label**.\n",
    " * Soubor `evaluate.csv` obsahuje testovací data bez hodnot skutečných labelů.\n",
    "\n",
    "## Pokyny k vypracování\n",
    "\n",
    "**Body zadání**, za jejichž (poctivé) vypracování získáte **25 bodů**:\n",
    "  * V notebooku načtěte data ze souboru `train.csv`. Vhodným způsobem si je rozdělte na podmnožiny, které Vám poslouží pro trénování, porovnávání modelů a následnou predikci výkonnosti finálního modelu.\n",
    "  * Proveďte základní průzkum dat a svá pozorování diskutujte. Některé obrázky také zobrazte.\n",
    "  * Postupně aplikujte modely **SVM**, **naivní Bayesův klasifikátor** a **LDA**, přičemž pro každý z nich:\n",
    "      * Okomentujte vhodnost daného modelu pro daný typ úlohy.\n",
    "      * Vyberte si hlavní hyperparametry k ladění (pokud model má hyperparametry) a najděte jejich nejlepší hodnoty.\n",
    "      * Experimentujte se standardizací/normalizací dat.\n",
    "      * U SVM vyzkoušejte alespoň dvě různé jádrové funkce.\n",
    "      * Získané výsledky vždy řádně okomentujte.\n",
    "\n",
    "\n",
    "  * Postupně aplikujte metody redukce dimenzionality PCA a LLE, přičemž pro každou z nich: \n",
    "      * Zopakujte předchozí kroky a pokuste modely vylepšit\n",
    "      * Zkoumejte jaká dimenze je z hlediska výkonnosti finálního modelu nejlepší.\n",
    "      * Získané výsledky vždy řádně okomentujte.\n",
    "    \n",
    "  * Ze všech zkoušených možností vyberte finální model a odhadněte, jakou přesnost můžete očekávat na nových datech, která jste doposud neměli k dispozici.\n",
    "  \n",
    "  * Nakonec načtěte vyhodnocovací data ze souboru`evaluate.csv`. Pomocí finálního modelu napočítejte predikce pro tyto data (vysvětlovaná proměnná v nich již není). Vytvořte soubor `results.csv`, ve kterém získané predikce uložíte do sloupce **label** a identifikátory do sloupce **ID**. Tento soubor též odevzdejte (uložte do projektu vedle notebooku).\n",
    "   \n",
    "   * Ukázka prvních řádků souboru `results.csv`:\n",
    "  \n",
    "```\n",
    "ID,label\n",
    "0,0\n",
    "1,1\n",
    "...\n",
    "```\n",
    "\n",
    "## Poznámky k odevzdání\n",
    "\n",
    "  * Řiďte se pokyny ze stránky https://courses.fit.cvut.cz/BI-ML2/homeworks/index.html.\n",
    "  * Vytvořte i csv soubor `results.csv` s predikcemi a uložte ho v rámci projektu vedle ipython notebooku."
   ]
  },
  {
   "cell_type": "code",
   "execution_count": 22,
   "metadata": {},
   "outputs": [],
   "source": [
    "### odtud už je to Vaše\n",
    "\n",
    "import pandas as pd\n",
    "import numpy as np\n",
    "\n",
    "\n",
    "from sklearn.metrics import mean_squared_error\n",
    "from sklearn.model_selection import train_test_split, ParameterGrid\n",
    "import sklearn.metrics as metrics\n",
    "\n",
    "import matplotlib.pyplot as plt\n",
    "\n",
    "rd_seed=666\n",
    "\n"
   ]
  },
  {
   "cell_type": "markdown",
   "metadata": {},
   "source": [
    "Load the train.cvs dataset and show it contains:"
   ]
  },
  {
   "cell_type": "code",
   "execution_count": 23,
   "metadata": {},
   "outputs": [
    {
     "name": "stdout",
     "output_type": "stream",
     "text": [
      "   label  pixel1  pixel2  pixel3  pixel4  pixel5  pixel6  pixel7  pixel8  \\\n",
      "0      1       0       0       0       0       0       0       0       0   \n",
      "1      0       0       0       0       0       0       0       0       0   \n",
      "2      1       0       0       0       0       0       0       0       0   \n",
      "3      0       0       0       0       0       0       0       0       0   \n",
      "4      1       0       0       0       0       0       0       0       0   \n",
      "\n",
      "   pixel9  ...  pixel775  pixel776  pixel777  pixel778  pixel779  pixel780  \\\n",
      "0       0  ...       208       122         0         0         0         0   \n",
      "1       0  ...         0         0         0         0         0         0   \n",
      "2       1  ...        75        11         0         1         0         0   \n",
      "3       0  ...       106       103        76         0         0         0   \n",
      "4       0  ...         0         0         0         0         0         0   \n",
      "\n",
      "   pixel781  pixel782  pixel783  pixel784  \n",
      "0         0         0         0         0  \n",
      "1         0         0         0         0  \n",
      "2         0         0         0         0  \n",
      "3         0         0         0         0  \n",
      "4         0         0         0         0  \n",
      "\n",
      "[5 rows x 785 columns]\n",
      "<class 'pandas.core.frame.DataFrame'>\n",
      "RangeIndex: 2400 entries, 0 to 2399\n",
      "Columns: 785 entries, label to pixel784\n",
      "dtypes: int64(785)\n",
      "memory usage: 14.4 MB\n"
     ]
    }
   ],
   "source": [
    "data = pd.read_csv('train.csv')\n",
    "print(data.head())\n",
    "data.info()"
   ]
  },
  {
   "cell_type": "markdown",
   "metadata": {},
   "source": [
    "Extract the \"label\" column to a target vector Y and split into train, val, test subsets:"
   ]
  },
  {
   "cell_type": "code",
   "execution_count": 24,
   "metadata": {},
   "outputs": [],
   "source": [
    "Xdata = data.drop('label', axis = 1)\n",
    "ydata = data.label\n",
    "Xtrain, Xtest, ytrain, ytest = train_test_split(Xdata, ydata, test_size=0.4, random_state=rd_seed) \n",
    "Xtest, Xval, ytest, yval = train_test_split (Xtest,ytest, test_size= 0.5, random_state=rd_seed)"
   ]
  },
  {
   "cell_type": "markdown",
   "metadata": {},
   "source": [
    "Research some info about the dataset"
   ]
  },
  {
   "cell_type": "code",
   "execution_count": 25,
   "metadata": {},
   "outputs": [
    {
     "name": "stdout",
     "output_type": "stream",
     "text": [
      "label\n",
      "0    1238\n",
      "1    1162\n",
      "Name: count, dtype: int64\n",
      "0       785\n",
      "1       785\n",
      "2       785\n",
      "3       785\n",
      "4       785\n",
      "       ... \n",
      "2395    785\n",
      "2396    785\n",
      "2397    785\n",
      "2398    785\n",
      "2399    785\n",
      "Length: 2400, dtype: int64\n"
     ]
    }
   ],
   "source": [
    "#As we can see, the target vector may have only 0 or 1 as it's value and the count of each value is generally even\n",
    "print( ydata.value_counts() )\n",
    "#There's 2400 images 28*28 pixels\n",
    "print( data.count(axis=1) )"
   ]
  },
  {
   "cell_type": "code",
   "execution_count": null,
   "metadata": {},
   "outputs": [],
   "source": []
  },
  {
   "cell_type": "markdown",
   "metadata": {},
   "source": [
    "Pick 5 random pictures from the dataset and print them:"
   ]
  },
  {
   "cell_type": "code",
   "execution_count": 26,
   "metadata": {},
   "outputs": [
    {
     "data": {
      "image/png": "[encoded data removed]",
      "text/plain": [
       "<Figure size 640x480 with 1 Axes>"
      ]
     },
     "metadata": {},
     "output_type": "display_data"
    },
    {
     "data": {
      "image/png": "[encoded data removed]",
      "text/plain": [
       "<Figure size 640x480 with 1 Axes>"
      ]
     },
     "metadata": {},
     "output_type": "display_data"
    },
    {
     "data": {
      "image/png": "[encoded data removed]",
      "text/plain": [
       "<Figure size 640x480 with 1 Axes>"
      ]
     },
     "metadata": {},
     "output_type": "display_data"
    },
    {
     "data": {
      "image/png": "[encoded data removed]",
      "text/plain": [
       "<Figure size 640x480 with 1 Axes>"
      ]
     },
     "metadata": {},
     "output_type": "display_data"
    },
    {
     "data": {
      "image/png": "[encoded data removed]",
      "text/plain": [
       "<Figure size 640x480 with 1 Axes>"
      ]
     },
     "metadata": {},
     "output_type": "display_data"
    }
   ],
   "source": [
    "random_rows = Xdata.sample(n=5)\n",
    "\n",
    "for index, row in random_rows.iterrows():\n",
    "    row_data = row.values\n",
    "\n",
    "    image = np.array(row_data).reshape(28, 28)\n",
    "\n",
    "    plt.imshow(image, cmap='gray')\n",
    "    plt.axis('off')  # Hide axes\n",
    "    plt.title(f\"Image {index}\")\n",
    "    plt.show()"
   ]
  },
  {
   "cell_type": "markdown",
   "metadata": {},
   "source": [
    "As we can see pictures tend to have \"blank\" black corners and side edges, so we could reduce the amount of parameters later"
   ]
  },
  {
   "cell_type": "markdown",
   "metadata": {},
   "source": [
    "create scaled data:"
   ]
  },
  {
   "cell_type": "code",
   "execution_count": 27,
   "metadata": {},
   "outputs": [],
   "source": [
    "from sklearn.preprocessing import StandardScaler\n",
    "from sklearn.preprocessing import MinMaxScaler\n",
    "\n",
    "# use standard scaler\n",
    "SS = StandardScaler().fit(Xtrain)\n",
    "Xtrain_SS = SS.transform(Xtrain)\n",
    "Xval_SS = SS.transform(Xval)\n",
    "Xtest_SS = SS.transform(Xtest)\n",
    "# use MinMax scaler\n",
    "MMS = MinMaxScaler().fit(Xtrain)\n",
    "Xtrain_MMS = MMS.transform(Xtrain)\n",
    "Xval_MMS = MMS.transform(Xval)\n",
    "Xtest_MMS = MMS.transform(Xtest)"
   ]
  },
  {
   "cell_type": "markdown",
   "metadata": {},
   "source": [
    "SVM model:"
   ]
  },
  {
   "cell_type": "code",
   "execution_count": 95,
   "metadata": {},
   "outputs": [],
   "source": [
    "from sklearn.svm import SVC\n",
    "#create the parameter grid\n",
    "param_grid = {\n",
    "    'kernel': ['linear', 'poly', 'rbf', 'sigmoid'],\n",
    "    'degree': range (2,10,2),\n",
    "    'C': np.arange(0.1, 2.0, 0.2)\n",
    "}\n",
    "#find the best parameters\n",
    "param_comb = ParameterGrid(param_grid)\n",
    "val_metric = []\n",
    "for params in param_comb:\n",
    "    clfSVC = SVC(**params)\n",
    "    clfSVC.fit(Xtrain,ytrain)\n",
    "    val_metric.append(clfSVC.score(Xval, yval))\n",
    "    \n",
    "\n"
   ]
  },
  {
   "cell_type": "code",
   "execution_count": 101,
   "metadata": {},
   "outputs": [
    {
     "name": "stdout",
     "output_type": "stream",
     "text": [
      "We found the best params {'kernel': 'poly', 'degree': 2, 'C': 1.1000000000000003} with accuracy score 0.98125.\n"
     ]
    }
   ],
   "source": [
    "best_params_SVC = param_comb[np.argmax(val_metric)]\n",
    "clfSVC_fc = SVC(**best_params_SVC)\n",
    "clfSVC_fc.fit(Xtrain,ytrain)\n",
    "print(f\"We found the best params {best_params_SVC} with accuracy score {max(val_metric):.5f}.\")"
   ]
  },
  {
   "cell_type": "markdown",
   "metadata": {},
   "source": [
    "Try find the best parameters for scaled data:"
   ]
  },
  {
   "cell_type": "code",
   "execution_count": 97,
   "metadata": {},
   "outputs": [],
   "source": [
    "param_comb = ParameterGrid(param_grid)\n",
    "val_metric_SS = []\n",
    "for params in param_comb:\n",
    "    clfSVC = SVC(**params)\n",
    "    clfSVC.fit(Xtrain_SS,ytrain)\n",
    "    val_metric_SS.append(clfSVC.score(Xval_SS, yval))"
   ]
  },
  {
   "cell_type": "code",
   "execution_count": 98,
   "metadata": {},
   "outputs": [
    {
     "name": "stdout",
     "output_type": "stream",
     "text": [
      "We found the best params {'kernel': 'rbf', 'degree': 2, 'C': 0.9000000000000001} with accuracy score 0.97917.\n"
     ]
    }
   ],
   "source": [
    "best_params_SWC_SS = param_comb[np.argmax(val_metric_SS)]\n",
    "clfSWC_fc_SS = SVC(**best_params_SVC)\n",
    "clfSWC_fc_SS.fit(Xtrain_SS,ytrain)\n",
    "print(f\"We found the best params {best_params_SWC_SS} with accuracy score {max(val_metric_SS):.5f}.\")"
   ]
  },
  {
   "cell_type": "markdown",
   "metadata": {},
   "source": [
    "As we can see, accuracy score got worse using Standard scaler, now try doing the same step with MMS scaler:"
   ]
  },
  {
   "cell_type": "code",
   "execution_count": 99,
   "metadata": {},
   "outputs": [],
   "source": [
    "param_comb = ParameterGrid(param_grid)\n",
    "val_metric_MMS = []\n",
    "for params in param_comb:\n",
    "    clfSVC = SVC(**params)\n",
    "    clfSVC.fit(Xtrain_MMS,ytrain)\n",
    "    val_metric_MMS.append(clfSVC.score(Xval_MMS, yval))"
   ]
  },
  {
   "cell_type": "code",
   "execution_count": 100,
   "metadata": {},
   "outputs": [
    {
     "name": "stdout",
     "output_type": "stream",
     "text": [
      "We found the best params {'kernel': 'linear', 'degree': 2, 'C': 0.1} with accuracy score 0.98125.\n"
     ]
    }
   ],
   "source": [
    "best_params_SVC_MMS = param_comb[np.argmax(val_metric_MMS)]\n",
    "clfSVC_fc_MMS = SVC(**best_params_SVC)\n",
    "clfSVC_fc_MMS.fit(Xtrain_MMS,ytrain)\n",
    "print(f\"We found the best params {best_params_SVC_MMS} with accuracy score {max(val_metric_MMS):.5f}.\")"
   ]
  },
  {
   "cell_type": "markdown",
   "metadata": {},
   "source": [
    "MMS scaler has the same accuracy score as non-scaled data"
   ]
  },
  {
   "cell_type": "markdown",
   "metadata": {},
   "source": [
    "Train a naive bayes model:\n",
    "\n",
    "Scaling is unlikely to improve the perfomance of NB"
   ]
  },
  {
   "cell_type": "code",
   "execution_count": 35,
   "metadata": {},
   "outputs": [
    {
     "name": "stdout",
     "output_type": "stream",
     "text": [
      "Train data accuracy is 0.9174\n",
      "Val data accuracy is 0.9146\n",
      "\n",
      "From 480 point in Xval were classified wrong: 41\n"
     ]
    }
   ],
   "source": [
    "# Try GaussianNB:\n",
    "from sklearn.naive_bayes import GaussianNB\n",
    "\n",
    "clf_GNB = GaussianNB();\n",
    "clf_GNB.fit(Xtrain, ytrain);\n",
    "print(f\"Train data accuracy is {clf_GNB.score(Xtrain, ytrain):.4f}\")\n",
    "\n",
    "print(f\"Val data accuracy is {clf_GNB.score(Xval, yval):.4f}\")\n",
    "ypred = clf_GNB.predict(Xval)\n",
    "print(f\"\\nFrom {Xval.shape[0]} point in Xval were classified wrong: {(yval != ypred).sum()}\")"
   ]
  },
  {
   "cell_type": "code",
   "execution_count": 36,
   "metadata": {},
   "outputs": [
    {
     "name": "stdout",
     "output_type": "stream",
     "text": [
      "Train data accuracy is 0.9340\n",
      "Val data accuracy is 0.9417\n",
      "\n",
      "From 480 point in Xval were classified wrong: 28\n"
     ]
    }
   ],
   "source": [
    "# Try BernoulliNB:\n",
    "from sklearn.naive_bayes import BernoulliNB\n",
    "\n",
    "clf_BNB = BernoulliNB();\n",
    "clf_BNB.fit(Xtrain, ytrain);\n",
    "print(f\"Train data accuracy is {clf_BNB.score(Xtrain, ytrain):.4f}\")\n",
    "\n",
    "print(f\"Val data accuracy is {clf_BNB.score(Xval, yval):.4f}\")\n",
    "ypred = clf_BNB.predict(Xval)\n",
    "print(f\"\\nFrom {Xval.shape[0]} point in Xval were classified wrong: {(yval != ypred).sum()}\")"
   ]
  },
  {
   "cell_type": "code",
   "execution_count": 37,
   "metadata": {},
   "outputs": [
    {
     "name": "stdout",
     "output_type": "stream",
     "text": [
      "Train data accuracy is 0.9361\n",
      "Val data accuracy is 0.9500\n",
      "\n",
      "From 480 point in Xval were classified wrong: 24\n"
     ]
    }
   ],
   "source": [
    "from sklearn.naive_bayes import MultinomialNB\n",
    "\n",
    "clf_MNB = MultinomialNB()\n",
    "clf_MNB.fit(Xtrain, ytrain);\n",
    "print(f\"Train data accuracy is {clf_MNB.score(Xtrain, ytrain):.4f}\")\n",
    "\n",
    "print(f\"Val data accuracy is {clf_MNB.score(Xval, yval):.4f}\")\n",
    "ypred = clf_MNB.predict(Xval)\n",
    "print(f\"\\nFrom {Xval.shape[0]} point in Xval were classified wrong: {(yval != ypred).sum()}\")"
   ]
  },
  {
   "cell_type": "markdown",
   "metadata": {},
   "source": [
    "As we can see, MultinomialNB has significantly better prediction accuracy than GaussianNB with less wrong classifications and slightly better prediction accuracy than BernoulliNB, but worse accuracy than SVM method \n",
    "\n",
    "Now try LDA model:"
   ]
  },
  {
   "cell_type": "code",
   "execution_count": 102,
   "metadata": {},
   "outputs": [],
   "source": [
    "from sklearn.discriminant_analysis import LinearDiscriminantAnalysis\n",
    "\n",
    "#create the parameter grid\n",
    "param_grid_lda = {\n",
    "    'solver': ['svd', 'lsqr'],\n",
    "    'store_covariance': [True, False],\n",
    "    'shrinkage': [None, 'auto', 0.1, 0.3, 0.5, 0.7, 0.9],\n",
    "    'priors': [None, [0.1, 0.9], [0.5, 0.5], [0.9, 0.1]],\n",
    "}\n",
    "#find the best parameters\n",
    "param_comb = ParameterGrid(param_grid_lda)\n",
    "val_metric_lda = []\n",
    "for params in param_comb:\n",
    "    if params['solver'] == 'svd':\n",
    "        params.pop('shrinkage', None)\n",
    "    clfLDA = LinearDiscriminantAnalysis(**params)\n",
    "    clfLDA.fit(Xtrain,ytrain)\n",
    "    val_metric_lda.append(clfLDA.score(Xval, yval))"
   ]
  },
  {
   "cell_type": "code",
   "execution_count": 104,
   "metadata": {},
   "outputs": [
    {
     "name": "stdout",
     "output_type": "stream",
     "text": [
      "We found the best params {'store_covariance': True, 'solver': 'lsqr', 'shrinkage': 'auto', 'priors': None} with accuracy score 0.97708.\n"
     ]
    }
   ],
   "source": [
    "best_params_LDA = param_comb[np.argmax(val_metric_lda)]\n",
    "clfLDA_fc = LinearDiscriminantAnalysis(**best_params_LDA)\n",
    "clfLDA_fc.fit(Xtrain,ytrain)\n",
    "print(f\"We found the best params {best_params_LDA} with accuracy score {max(val_metric_lda):.5f}.\")"
   ]
  },
  {
   "cell_type": "markdown",
   "metadata": {},
   "source": [
    "Find the best LDA parameters for scaled data"
   ]
  },
  {
   "cell_type": "code",
   "execution_count": 105,
   "metadata": {},
   "outputs": [],
   "source": [
    "# standard scaler\n",
    "param_comb = ParameterGrid(param_grid_lda)\n",
    "val_metric_lda_SS = []\n",
    "for params in param_comb:\n",
    "    if params['solver'] == 'svd':\n",
    "        params.pop('shrinkage', None)\n",
    "    clfLDA = LinearDiscriminantAnalysis(**params)\n",
    "    clfLDA.fit(Xtrain_SS,ytrain)\n",
    "    val_metric_lda_SS.append(clfLDA.score(Xval_SS, yval))"
   ]
  },
  {
   "cell_type": "code",
   "execution_count": 106,
   "metadata": {},
   "outputs": [
    {
     "name": "stdout",
     "output_type": "stream",
     "text": [
      "We found the best params {'store_covariance': True, 'solver': 'lsqr', 'shrinkage': 'auto', 'priors': None} with accuracy score 0.97500.\n"
     ]
    }
   ],
   "source": [
    "best_params_LDA_SS = param_comb[np.argmax(val_metric_lda_SS)]\n",
    "clfLDA_fc_SS = LinearDiscriminantAnalysis(**best_params_LDA_SS)\n",
    "clfLDA_fc_SS.fit(Xtrain_SS,ytrain)\n",
    "print(f\"We found the best params {best_params_LDA_SS} with accuracy score {max(val_metric_lda_SS):.5f}.\")"
   ]
  },
  {
   "cell_type": "code",
   "execution_count": 42,
   "metadata": {},
   "outputs": [],
   "source": [
    "# MMS scaler\n",
    "val_metric_lda_MMS = []\n",
    "for params in param_comb:\n",
    "    if params['solver'] == 'svd':\n",
    "        params.pop('shrinkage', None)\n",
    "    clfLDA = LinearDiscriminantAnalysis(**params)\n",
    "    clfLDA.fit(Xtrain_MMS,ytrain)\n",
    "    val_metric_lda_MMS.append(metrics.accuracy_score(yval, clfLDA.predict(Xval_MMS)))"
   ]
  },
  {
   "cell_type": "code",
   "execution_count": 43,
   "metadata": {},
   "outputs": [
    {
     "name": "stdout",
     "output_type": "stream",
     "text": [
      "We found the best params {'store_covariance': True, 'solver': 'lsqr', 'shrinkage': 0.3, 'priors': None} with accuracy score 0.97708.\n"
     ]
    }
   ],
   "source": [
    "best_params_LDA_MMS = param_comb[np.argmax(val_metric_lda_MMS)]\n",
    "clfLDA_fc_MMS = LinearDiscriminantAnalysis(**best_params_LDA_MMS)\n",
    "clfLDA_fc_MMS.fit(Xtrain_MMS,ytrain)\n",
    "print(f\"We found the best params {best_params_LDA_MMS} with accuracy score {max(val_metric_lda_MMS):.5f}.\")"
   ]
  },
  {
   "cell_type": "markdown",
   "metadata": {},
   "source": [
    "Again, unscaled data got the best accuracy score as well as MMS scaled data"
   ]
  },
  {
   "cell_type": "markdown",
   "metadata": {},
   "source": [
    "Applicate PCA method to given data\n",
    "\n",
    "for SVM:"
   ]
  },
  {
   "cell_type": "code",
   "execution_count": 44,
   "metadata": {},
   "outputs": [
    {
     "name": "stdout",
     "output_type": "stream",
     "text": [
      "Best Number of Components: 51\n",
      "Best Accuracy: 0.96875\n"
     ]
    }
   ],
   "source": [
    "from sklearn.decomposition import PCA\n",
    "\n",
    "best_accuracy = 0.0\n",
    "best_n_components = None\n",
    "clfSVC_pca = SVC(**best_params_SVC)\n",
    "\n",
    "for n in range(1, 28*28, 5):\n",
    "    pca = PCA(n_components=n)\n",
    "    Xtrain_pca = pca.fit_transform(Xtrain)\n",
    "    Xval_pca = pca.transform(Xval)\n",
    "    # choose the best hyperparameters found for uncompressed data\n",
    "    clfSVC_pca.fit(Xtrain_pca, ytrain)\n",
    "    val_accuracy = metrics.accuracy_score(yval, clfSVC_pca.predict(Xval_pca))\n",
    "    if val_accuracy > best_accuracy:\n",
    "        best_accuracy = val_accuracy\n",
    "        best_params = params\n",
    "        best_n_components = n   \n",
    "\n",
    "print(\"Best Number of Components:\", best_n_components)\n",
    "print(\"Best Accuracy:\", best_accuracy)\n"
   ]
  },
  {
   "cell_type": "code",
   "execution_count": 45,
   "metadata": {},
   "outputs": [
    {
     "name": "stdout",
     "output_type": "stream",
     "text": [
      "Best Number of Components: 91\n",
      "Best Accuracy: 0.9520833333333333\n"
     ]
    }
   ],
   "source": [
    "from sklearn.decomposition import PCA\n",
    "# for a normal scaler\n",
    "best_accuracy = 0.0\n",
    "best_n_components = None\n",
    "clfSVC_pca_SS = SVC(**best_params_SVC)\n",
    "\n",
    "for n in range(1, 28*28, 5):\n",
    "    pca = PCA(n_components=n)\n",
    "    Xtrain_pca_SS = pca.fit_transform(Xtrain_SS)\n",
    "    Xval_pca_SS = pca.transform(Xval_SS)\n",
    "    # choose the best hyperparameters found for uncompressed data\n",
    "    clfSVC_pca_SS.fit(Xtrain_pca_SS, ytrain)\n",
    "    val_accuracy = metrics.accuracy_score(yval, clfSVC_pca_SS.predict(Xval_pca_SS))\n",
    "    if val_accuracy > best_accuracy:\n",
    "        best_accuracy = val_accuracy\n",
    "        best_params = params\n",
    "        best_n_components = n   \n",
    "\n",
    "print(\"Best Number of Components:\", best_n_components)\n",
    "print(\"Best Accuracy:\", best_accuracy)\n"
   ]
  },
  {
   "cell_type": "markdown",
   "metadata": {},
   "source": [
    "SVM with LLE:"
   ]
  },
  {
   "cell_type": "code",
   "execution_count": 46,
   "metadata": {},
   "outputs": [],
   "source": [
    "from sklearn.manifold import LocallyLinearEmbedding\n",
    "\n",
    "param_grid_lle = {\n",
    "    'n_neighbors': range(2,50,5),\n",
    "    'n_components': range(1,50,5),\n",
    "    'eigen_solver':  ['dense']\n",
    "}\n",
    "clfSVC_lle = SVC(**best_params_SVC)\n",
    "#find the best parameters for LLE\n",
    "param_comb = ParameterGrid(param_grid_lle)\n",
    "val_metric_lle = []\n",
    "for params in param_comb:\n",
    "    lle = LocallyLinearEmbedding(**params)\n",
    "    Xtrain_lle = lle.fit_transform(Xtrain)\n",
    "    Xval_lle = lle.fit_transform(Xval)\n",
    "    clfSVC_lle.fit(Xtrain_lle,ytrain)\n",
    "    val_metric_lle.append(metrics.accuracy_score(yval, clfSVC_lle.predict(Xval_lle)))"
   ]
  },
  {
   "cell_type": "code",
   "execution_count": 47,
   "metadata": {},
   "outputs": [
    {
     "name": "stdout",
     "output_type": "stream",
     "text": [
      "We found the best params {'n_neighbors': 22, 'n_components': 6, 'eigen_solver': 'dense'} with accuracy score 0.83333.\n"
     ]
    }
   ],
   "source": [
    "best_params_SVC_lle = param_comb[np.argmax(val_metric_lle)]\n",
    "lle_fc = LocallyLinearEmbedding(**best_params_SVC_lle)\n",
    "clfSVC_lle_fc = SVC(**best_params_SVC)\n",
    "Xtrain_lle = lle_fc.fit_transform(Xtrain)\n",
    "clfSVC_lle_fc.fit(Xtrain_lle, ytrain)\n",
    "print(f\"We found the best params {best_params_SVC_lle} with accuracy score {max(val_metric_lle):.5f}.\")"
   ]
  },
  {
   "cell_type": "code",
   "execution_count": 48,
   "metadata": {},
   "outputs": [],
   "source": [
    "# using normal scaler"
   ]
  },
  {
   "cell_type": "code",
   "execution_count": 49,
   "metadata": {},
   "outputs": [],
   "source": [
    "clfSVC_lle = SVC(**best_params_SVC)\n",
    "#find the best parameters for LLE\n",
    "param_comb = ParameterGrid(param_grid_lle)\n",
    "val_metric_lle_SS = []\n",
    "clfSVC_lle_SS = SVC(**best_params_SVC)\n",
    "for params in param_comb:\n",
    "    lle = LocallyLinearEmbedding(**params)\n",
    "    Xtrain_lle_SS = lle.fit_transform(Xtrain_SS)\n",
    "    Xval_lle_SS = lle.fit_transform(Xval_SS)\n",
    "    clfSVC_lle_SS.fit(Xtrain_lle_SS,ytrain)\n",
    "    val_metric_lle_SS.append(metrics.accuracy_score(yval, clfSVC_lle_SS.predict(Xval_lle_SS)))"
   ]
  },
  {
   "cell_type": "code",
   "execution_count": 50,
   "metadata": {},
   "outputs": [
    {
     "name": "stdout",
     "output_type": "stream",
     "text": [
      "We found the best params {'n_neighbors': 2, 'n_components': 16, 'eigen_solver': 'dense'} with accuracy score 0.80833.\n"
     ]
    }
   ],
   "source": [
    "best_params_SVC_lle_SS = param_comb[np.argmax(val_metric_lle_SS)]\n",
    "lle_SS_fc = LocallyLinearEmbedding(**best_params_SVC_lle)\n",
    "clfSVC_lle_SS_fc = SVC(**best_params_SVC)\n",
    "Xtrain_lle_SS = lle_SS_fc.fit_transform(Xtrain)\n",
    "clfSVC_lle_SS_fc.fit(Xtrain_lle_SS, ytrain)\n",
    "print(f\"We found the best params {best_params_SVC_lle_SS} with accuracy score {max(val_metric_lle_SS):.5f}.\")"
   ]
  },
  {
   "cell_type": "markdown",
   "metadata": {},
   "source": [
    "Yet again, unscaled data has better prediction accuracy,but both LLE and PCA haven't improved prediction accuracy in comparison to a simple SVC\n",
    "\n",
    "Now try applying both PCA and LLE to Naive Bayes model:"
   ]
  },
  {
   "cell_type": "code",
   "execution_count": 55,
   "metadata": {},
   "outputs": [],
   "source": [
    "# Gaussian With PCA\n",
    "clf_GNB_PCA = GaussianNB();\n",
    "best_accuracy_GNB = 0.0\n",
    "best_n_components_GNB = None\n",
    "for n in range(1, 28*28, 5):\n",
    "    pca = PCA(n_components=n)\n",
    "    Xtrain_pca = pca.fit_transform(Xtrain)\n",
    "    Xval_pca = pca.transform(Xval)\n",
    "    clf_GNB_PCA.fit(Xtrain_pca, ytrain);\n",
    "    val_accuracy =  clf_GNB_PCA.score(Xval_pca, yval)\n",
    "    if val_accuracy > best_accuracy_GNB:\n",
    "        best_accuracy_GNB = val_accuracy\n",
    "        best_n_components_GNB = n   \n",
    "\n"
   ]
  },
  {
   "cell_type": "code",
   "execution_count": 56,
   "metadata": {},
   "outputs": [
    {
     "name": "stdout",
     "output_type": "stream",
     "text": [
      "Best n_components number is 91 with val accuracy score: 0.9583\n",
      "\n",
      "From 480 point in Xval were classified wrong: 20\n"
     ]
    }
   ],
   "source": [
    "pca = PCA( n_components = best_n_components_GNB )\n",
    "Xtrain_pca = pca.fit_transform(Xtrain)\n",
    "Xval_pca = pca.transform(Xval)\n",
    "clf_GNB_PCA_fc =  GaussianNB()\n",
    "clf_GNB_PCA_fc.fit(Xtrain_pca, ytrain);\n",
    "print(f\"Best n_components number is {best_n_components} with val accuracy score: {clf_GNB_PCA_fc.score(Xval_pca, yval):.4f}\")\n",
    "\n",
    "ypred =  clf_GNB_PCA_fc.predict(Xval_pca)\n",
    "print(f\"\\nFrom {Xval_pca.shape[0]} point in Xval were classified wrong: {(yval != ypred).sum()}\")"
   ]
  },
  {
   "cell_type": "code",
   "execution_count": 59,
   "metadata": {},
   "outputs": [],
   "source": [
    "# Gaussian With PCA on scaled data\n",
    "clf_GNB_PCA = GaussianNB();\n",
    "best_accuracy_GNB_SS = 0.0\n",
    "best_n_components_GNB_SS = None\n",
    "for n in range(1, 28*28, 5):\n",
    "    pca = PCA(n_components=n)\n",
    "    Xtrain_pca_SS = pca.fit_transform(Xtrain_SS)\n",
    "    Xval_pca_SS = pca.transform(Xval_SS)\n",
    "    clf_GNB_PCA.fit(Xtrain_pca_SS, ytrain);\n",
    "    val_accuracy =  clf_GNB_PCA.score(Xval_pca_SS, yval)\n",
    "    if val_accuracy > best_accuracy_GNB_SS:\n",
    "        best_accuracy_GNB_SS = val_accuracy\n",
    "        best_n_components_GNB_SS = n   "
   ]
  },
  {
   "cell_type": "code",
   "execution_count": 64,
   "metadata": {},
   "outputs": [
    {
     "name": "stdout",
     "output_type": "stream",
     "text": [
      "Best n_components number is 11 with val accuracy score: 0.8208\n",
      "\n",
      "From 480 point in Xval were classified wrong: 86\n"
     ]
    }
   ],
   "source": [
    "pca = PCA( n_components = best_n_components_GNB )\n",
    "Xtrain_pca_SS = pca.fit_transform(Xtrain_SS)\n",
    "Xval_pca_SS = pca.transform(Xval_SS)\n",
    "clf_GNB_PCA_SS_fc =  GaussianNB()\n",
    "clf_GNB_PCA_SS_fc.fit(Xtrain_pca_SS, ytrain);\n",
    "print(f\"Best n_components number is {best_n_components_GNB_SS} with val accuracy score: {clf_GNB_PCA_SS_fc.score(Xval_pca_SS, yval):.4f}\")\n",
    "\n",
    "ypred =  clf_GNB_PCA_SS_fc.predict(Xval_pca_SS)\n",
    "print(f\"\\nFrom {Xval_pca_SS.shape[0]} point in Xval were classified wrong: {(yval != ypred).sum()}\")"
   ]
  },
  {
   "cell_type": "markdown",
   "metadata": {},
   "source": [
    "Scaled compressed data has worse accuracy\n",
    "\n",
    "Try LLE:"
   ]
  },
  {
   "cell_type": "code",
   "execution_count": 66,
   "metadata": {},
   "outputs": [],
   "source": [
    "clf_GNB_lle = GaussianNB()\n",
    "#find the best parameters for LLE\n",
    "param_comb = ParameterGrid(param_grid_lle)\n",
    "val_metric_gnb_lle = []\n",
    "for params in param_comb:\n",
    "    lle = LocallyLinearEmbedding(**params)\n",
    "    Xtrain_lle = lle.fit_transform(Xtrain)\n",
    "    Xval_lle = lle.fit_transform(Xval)\n",
    "    clf_GNB_lle.fit(Xtrain_lle,ytrain)\n",
    "    val_metric_gnb_lle.append(metrics.accuracy_score(yval, clf_GNB_lle.predict(Xval_lle)))"
   ]
  },
  {
   "cell_type": "code",
   "execution_count": 67,
   "metadata": {},
   "outputs": [
    {
     "name": "stdout",
     "output_type": "stream",
     "text": [
      "We found the best params {'n_neighbors': 12, 'n_components': 1, 'eigen_solver': 'dense'} with accuracy score 0.94792.\n"
     ]
    }
   ],
   "source": [
    "best_params_GNB_lle = param_comb[np.argmax(val_metric_gnb_lle)]\n",
    "lle_GNB_fc = LocallyLinearEmbedding(**best_params_GNB_lle)\n",
    "clf_GNB_lle_fc = GaussianNB()\n",
    "Xtrain_lle = lle_GNB_fc.fit_transform(Xtrain)\n",
    "clf_GNB_lle_fc.fit(Xtrain_lle, ytrain)\n",
    "print(f\"We found the best params {best_params_GNB_lle} with accuracy score {max(val_metric_gnb_lle):.5f}.\")"
   ]
  },
  {
   "cell_type": "markdown",
   "metadata": {},
   "source": [
    "GaussianNB was significantly improved with PCA method\n",
    "\n",
    "Now try BernoulliNB:"
   ]
  },
  {
   "cell_type": "code",
   "execution_count": 63,
   "metadata": {},
   "outputs": [],
   "source": [
    "# Bernoulli With PCA:\n",
    "clf_BNB_PCA = BernoulliNB();\n",
    "best_accuracy_BNB = 0.0\n",
    "best_n_components_BNB = None\n",
    "for n in range(1, 28*28, 5):\n",
    "    pca = PCA(n_components=n)\n",
    "    Xtrain_pca = pca.fit_transform(Xtrain)\n",
    "    Xval_pca = pca.transform(Xval)\n",
    "    # choose the best hyperparameters found for uncompressed data\n",
    "    clf_BNB_PCA.fit(Xtrain_pca, ytrain);\n",
    "    val_accuracy =  clf_BNB_PCA.score(Xval_pca, yval)\n",
    "    if val_accuracy > best_accuracy_BNB:\n",
    "        best_accuracy_BNB = val_accuracy\n",
    "        best_n_components_BNB = n   \n"
   ]
  },
  {
   "cell_type": "code",
   "execution_count": 65,
   "metadata": {},
   "outputs": [
    {
     "name": "stdout",
     "output_type": "stream",
     "text": [
      "Best n_components number is 116 with val accuracy score: 0.8708\n",
      "\n",
      "From 480 point in Xval were classified wrong: 62\n"
     ]
    }
   ],
   "source": [
    "pca = PCA( n_components = best_n_components_BNB )\n",
    "Xtrain_pca = pca.fit_transform(Xtrain)\n",
    "Xval_pca = pca.transform(Xval)\n",
    "clf_BNB_PCA_fc =  BernoulliNB()\n",
    "clf_BNB_PCA_fc.fit(Xtrain_pca, ytrain);\n",
    "print(f\"Best n_components number is {best_n_components_BNB} with val accuracy score: {clf_BNB_PCA_fc.score(Xval_pca, yval):.4f}\")\n",
    "\n",
    "ypred =  clf_BNB_PCA_fc.predict(Xval_pca)\n",
    "print(f\"\\nFrom {Xval_pca.shape[0]} point in Xval were classified wrong: {(yval != ypred).sum()}\")"
   ]
  },
  {
   "cell_type": "code",
   "execution_count": 68,
   "metadata": {},
   "outputs": [],
   "source": [
    "# Bernoulli With LLE:\n",
    "clf_BNB_lle = BernoulliNB()\n",
    "#find the best parameters for LLE\n",
    "param_comb = ParameterGrid(param_grid_lle)\n",
    "val_metric_bnb_lle = []\n",
    "for params in param_comb:\n",
    "    lle = LocallyLinearEmbedding(**params)\n",
    "    Xtrain_lle = lle.fit_transform(Xtrain)\n",
    "    Xval_lle = lle.fit_transform(Xval)\n",
    "    clf_BNB_lle.fit(Xtrain_lle,ytrain)\n",
    "    val_metric_bnb_lle.append(metrics.accuracy_score(yval, clf_BNB_lle.predict(Xval_lle)))"
   ]
  },
  {
   "cell_type": "code",
   "execution_count": 69,
   "metadata": {},
   "outputs": [
    {
     "name": "stdout",
     "output_type": "stream",
     "text": [
      "We found the best params {'n_neighbors': 12, 'n_components': 1, 'eigen_solver': 'dense'} with accuracy score 0.94792.\n"
     ]
    }
   ],
   "source": [
    "best_params_BNB_lle = param_comb[np.argmax(val_metric_bnb_lle)]\n",
    "lle_BNB_fc = LocallyLinearEmbedding(**best_params_BNB_lle)\n",
    "clf_BNB_lle_fc = BernoulliNB()\n",
    "Xtrain_lle = lle_BNB_fc.fit_transform(Xtrain)\n",
    "clf_BNB_lle_fc.fit(Xtrain_lle, ytrain)\n",
    "print(f\"We found the best params {best_params_BNB_lle} with accuracy score {max(val_metric_bnb_lle):.5f}.\")"
   ]
  },
  {
   "cell_type": "markdown",
   "metadata": {},
   "source": [
    "For BernoulliNB LLE was more effective and also got better accuracy than simple BernoulliNB\n",
    "\n",
    "neither PCA nor LLE cannot be used for MultinomialNB because of negative values\n",
    "\n",
    "now apply it to LDA model:"
   ]
  },
  {
   "cell_type": "code",
   "execution_count": 73,
   "metadata": {},
   "outputs": [],
   "source": [
    "# PCA:\n",
    "\n",
    "clfLDA_PCA = LinearDiscriminantAnalysis(**best_params_LDA)\n",
    "\n",
    "best_accuracy_LDA_PCA = 0.0\n",
    "best_n_components_LDA_PCA = None\n",
    "for n in range(1, 28*28, 5):\n",
    "    pca = PCA(n_components=n)\n",
    "    Xtrain_pca = pca.fit_transform(Xtrain)\n",
    "    Xval_pca = pca.transform(Xval)\n",
    "    # choose the best hyperparameters found for uncompressed data\n",
    "    clfLDA_PCA.fit(Xtrain_pca, ytrain);\n",
    "    val_accuracy =  clfLDA_PCA.score(Xval_pca, yval)\n",
    "    if val_accuracy > best_accuracy_LDA_PCA:\n",
    "        best_accuracy_LDA_PCA = val_accuracy\n",
    "        best_n_components_LDA_PCA = n   \n"
   ]
  },
  {
   "cell_type": "code",
   "execution_count": 88,
   "metadata": {},
   "outputs": [
    {
     "name": "stdout",
     "output_type": "stream",
     "text": [
      "Best n_components number is 156 with val accuracy score: 0.9750\n",
      "\n",
      "From 480 point in Xval were classified wrong: 12\n"
     ]
    }
   ],
   "source": [
    "pca = PCA( n_components = best_n_components_LDA_PCA )\n",
    "Xtrain_pca = pca.fit_transform(Xtrain)\n",
    "Xval_pca = pca.transform(Xval)\n",
    "clfLDA_PCA = LinearDiscriminantAnalysis(**best_params_LDA)\n",
    "clfLDA_PCA.fit(Xtrain_pca, ytrain);\n",
    "print(f\"Best n_components number is {best_n_components_LDA_PCA} with val accuracy score: {clfLDA_PCA.score(Xval_pca, yval):.4f}\")\n",
    "\n",
    "ypred =  clfLDA_PCA.predict(Xval_pca)\n",
    "print(f\"\\nFrom {Xval_pca.shape[0]} point in Xval were classified wrong: {(yval != ypred).sum()}\")"
   ]
  },
  {
   "cell_type": "markdown",
   "metadata": {},
   "source": [
    "PCA method didn't improve accuracy of LDA\n",
    "\n",
    "Try LLE:"
   ]
  },
  {
   "cell_type": "code",
   "execution_count": 89,
   "metadata": {},
   "outputs": [],
   "source": [
    "clfLDA_lle = LinearDiscriminantAnalysis(**best_params_LDA)\n",
    "#find the best parameters for LLE\n",
    "param_comb = ParameterGrid(param_grid_lle)\n",
    "val_metric_lda_lle = []\n",
    "for params in param_comb:\n",
    "    lle = LocallyLinearEmbedding(**params)\n",
    "    Xtrain_lle = lle.fit_transform(Xtrain)\n",
    "    Xval_lle = lle.fit_transform(Xval)\n",
    "    clfLDA_lle.fit(Xtrain_lle,ytrain)\n",
    "    val_metric_lda_lle.append(metrics.accuracy_score(yval, clfLDA_lle.predict(Xval_lle)))"
   ]
  },
  {
   "cell_type": "code",
   "execution_count": 90,
   "metadata": {},
   "outputs": [
    {
     "name": "stdout",
     "output_type": "stream",
     "text": [
      "We found the best params {'n_neighbors': 7, 'n_components': 6, 'eigen_solver': 'dense'} with accuracy score 0.95000.\n"
     ]
    }
   ],
   "source": [
    "best_params_lda_lle = param_comb[np.argmax(val_metric_lda_lle)]\n",
    "lle_lda_fc = LocallyLinearEmbedding(**best_params_lda_lle)\n",
    "Xtrain_lle = lle_lda_fc.fit_transform(Xtrain)\n",
    "clfLDA_lle_fc = LinearDiscriminantAnalysis(**best_params_LDA)\n",
    "clfLDA_lle_fc.fit(Xtrain_lle, ytrain)\n",
    "print(f\"We found the best params {best_params_lda_lle} with accuracy score {max(val_metric_lda_lle):.5f}.\")"
   ]
  },
  {
   "cell_type": "markdown",
   "metadata": {},
   "source": [
    "LLE didn't improve the result either\n",
    "\n",
    "try applying it to scaled data:"
   ]
  },
  {
   "cell_type": "code",
   "execution_count": 91,
   "metadata": {},
   "outputs": [],
   "source": [
    "clfLDA_PCA_SS = LinearDiscriminantAnalysis(**best_params_LDA_SS)\n",
    "\n",
    "best_accuracy_LDA_PCA_SS = 0.0\n",
    "best_n_components_LDA_PCA_SS = None\n",
    "for n in range(1, 28*28, 5):\n",
    "    pca = PCA(n_components=n)\n",
    "    Xtrain_pca = pca.fit_transform(Xtrain_SS)\n",
    "    Xval_pca = pca.transform(Xval_SS)\n",
    "    # choose the best hyperparameters found for uncompressed data\n",
    "    clfLDA_PCA_SS.fit(Xtrain_pca, ytrain);\n",
    "    val_accuracy =  clfLDA_PCA_SS.score(Xval_pca, yval)\n",
    "    if val_accuracy > best_accuracy_LDA_PCA_SS:\n",
    "        best_accuracy_LDA_PCA_SS = val_accuracy\n",
    "        best_n_components_LDA_PCA_SS = n   "
   ]
  },
  {
   "cell_type": "code",
   "execution_count": 92,
   "metadata": {},
   "outputs": [
    {
     "name": "stdout",
     "output_type": "stream",
     "text": [
      "Best n_components number is 181 with val accuracy score: 0.9667\n"
     ]
    }
   ],
   "source": [
    "pca = PCA( n_components = best_n_components_LDA_PCA )\n",
    "Xtrain_pca = pca.fit_transform(Xtrain_SS)\n",
    "Xval_pca = pca.transform(Xval_SS)\n",
    "clfLDA_PCA_SS_fc = LinearDiscriminantAnalysis(**best_params_LDA_SS)\n",
    "\n",
    "clfLDA_PCA_SS_fc.fit(Xtrain_pca, ytrain);\n",
    "print(f\"Best n_components number is {best_n_components_LDA_PCA_SS} with val accuracy score: {clfLDA_PCA_SS_fc.score(Xval_pca, yval):.4f}\")"
   ]
  },
  {
   "cell_type": "markdown",
   "metadata": {},
   "source": [
    "it also didn't get better for scaled data\n",
    "\n",
    "From all the models simple SVC seems to have the best result, so we will use it as a final model:"
   ]
  },
  {
   "cell_type": "code",
   "execution_count": 108,
   "metadata": {},
   "outputs": [
    {
     "name": "stdout",
     "output_type": "stream",
     "text": [
      "The best model is SVC with params {'kernel': 'poly', 'degree': 2, 'C': 1.1000000000000003} with accuracy score 0.98125.\n"
     ]
    }
   ],
   "source": [
    "clfSVC_fc = SVC(**best_params_SVC)\n",
    "clfSVC_fc.fit(Xtrain,ytrain)\n",
    "print(f\"The best model is SVC with params {best_params_SVC} with accuracy score {clfSVC_fc.score(Xval, yval):.5f}.\")"
   ]
  },
  {
   "cell_type": "code",
   "execution_count": 109,
   "metadata": {},
   "outputs": [],
   "source": [
    "# find its accuracy score on test data:"
   ]
  },
  {
   "cell_type": "code",
   "execution_count": 112,
   "metadata": {},
   "outputs": [
    {
     "name": "stdout",
     "output_type": "stream",
     "text": [
      " Accuracy score on the test data is: 0.96250.\n"
     ]
    }
   ],
   "source": [
    "print(f\" Accuracy score on the test data is: {clfSVC_fc.score(Xtest, ytest):.5f}.\")"
   ]
  },
  {
   "cell_type": "markdown",
   "metadata": {},
   "source": [
    "read evaluate dataset"
   ]
  },
  {
   "cell_type": "code",
   "execution_count": 117,
   "metadata": {},
   "outputs": [
    {
     "name": "stdout",
     "output_type": "stream",
     "text": [
      "        ID  pixel1  pixel2  pixel3  pixel4  pixel5  pixel6  pixel7  pixel8  \\\n",
      "0        0       0       0       0       0       0       0       0       0   \n",
      "1        1       0       0       0       0       0       0       0       0   \n",
      "2        2       0       0       0       0       0       0       0       0   \n",
      "3        3       0       0       0       0       0       0       0       0   \n",
      "4        4       0       0       0       0       0       0       0       3   \n",
      "...    ...     ...     ...     ...     ...     ...     ...     ...     ...   \n",
      "9595  9595       0       0       0       0       0       0       0       0   \n",
      "9596  9596       0       0       0       0       0       0       0       0   \n",
      "9597  9597       0       0       0       0       0       0       0       0   \n",
      "9598  9598       0       0       0       0       0       0       0       0   \n",
      "9599  9599       0       0       0       0       0       0       0       0   \n",
      "\n",
      "      pixel9  ...  pixel775  pixel776  pixel777  pixel778  pixel779  pixel780  \\\n",
      "0          0  ...         0         0         0         0         0         0   \n",
      "1          0  ...        61         0         0         0         0         0   \n",
      "2          0  ...       109       121        76         0         0         0   \n",
      "3          0  ...         0         1         0         0         0         0   \n",
      "4          0  ...       198       195       206         0         0         0   \n",
      "...      ...  ...       ...       ...       ...       ...       ...       ...   \n",
      "9595       0  ...        22         0         0         0         0         0   \n",
      "9596       0  ...        81         0         0         0         0         0   \n",
      "9597       0  ...        45        64         0         0         0         0   \n",
      "9598       0  ...         0         0         0         0         0         0   \n",
      "9599       0  ...       167       111         0         0         0         0   \n",
      "\n",
      "      pixel781  pixel782  pixel783  pixel784  \n",
      "0            0         0         0         0  \n",
      "1            0         0         0         0  \n",
      "2            0         0         0         0  \n",
      "3            0         0         0         0  \n",
      "4            0         0         0         0  \n",
      "...        ...       ...       ...       ...  \n",
      "9595         0         0         0         0  \n",
      "9596         0         0         0         0  \n",
      "9597         0         0         0         0  \n",
      "9598         0         0         0         0  \n",
      "9599         0         0         0         0  \n",
      "\n",
      "[9600 rows x 785 columns]\n"
     ]
    }
   ],
   "source": [
    "ev = pd.read_csv('evaluate.csv')\n",
    "print (ev)\n",
    "ev_Xdata = ev.drop('ID', axis = 1)"
   ]
  },
  {
   "cell_type": "markdown",
   "metadata": {},
   "source": [
    "Predict target values for ev dataset:"
   ]
  },
  {
   "cell_type": "code",
   "execution_count": 124,
   "metadata": {},
   "outputs": [
    {
     "data": {
      "text/html": [
       "<div>\n",
       "<style scoped>\n",
       "    .dataframe tbody tr th:only-of-type {\n",
       "        vertical-align: middle;\n",
       "    }\n",
       "\n",
       "    .dataframe tbody tr th {\n",
       "        vertical-align: top;\n",
       "    }\n",
       "\n",
       "    .dataframe thead th {\n",
       "        text-align: right;\n",
       "    }\n",
       "</style>\n",
       "<table border=\"1\" class=\"dataframe\">\n",
       "  <thead>\n",
       "    <tr style=\"text-align: right;\">\n",
       "      <th></th>\n",
       "      <th>ID</th>\n",
       "      <th>label</th>\n",
       "    </tr>\n",
       "  </thead>\n",
       "  <tbody>\n",
       "    <tr>\n",
       "      <th>0</th>\n",
       "      <td>0</td>\n",
       "      <td>1</td>\n",
       "    </tr>\n",
       "    <tr>\n",
       "      <th>1</th>\n",
       "      <td>1</td>\n",
       "      <td>0</td>\n",
       "    </tr>\n",
       "    <tr>\n",
       "      <th>2</th>\n",
       "      <td>2</td>\n",
       "      <td>1</td>\n",
       "    </tr>\n",
       "    <tr>\n",
       "      <th>3</th>\n",
       "      <td>3</td>\n",
       "      <td>0</td>\n",
       "    </tr>\n",
       "    <tr>\n",
       "      <th>4</th>\n",
       "      <td>4</td>\n",
       "      <td>1</td>\n",
       "    </tr>\n",
       "    <tr>\n",
       "      <th>...</th>\n",
       "      <td>...</td>\n",
       "      <td>...</td>\n",
       "    </tr>\n",
       "    <tr>\n",
       "      <th>9595</th>\n",
       "      <td>9595</td>\n",
       "      <td>0</td>\n",
       "    </tr>\n",
       "    <tr>\n",
       "      <th>9596</th>\n",
       "      <td>9596</td>\n",
       "      <td>0</td>\n",
       "    </tr>\n",
       "    <tr>\n",
       "      <th>9597</th>\n",
       "      <td>9597</td>\n",
       "      <td>0</td>\n",
       "    </tr>\n",
       "    <tr>\n",
       "      <th>9598</th>\n",
       "      <td>9598</td>\n",
       "      <td>0</td>\n",
       "    </tr>\n",
       "    <tr>\n",
       "      <th>9599</th>\n",
       "      <td>9599</td>\n",
       "      <td>1</td>\n",
       "    </tr>\n",
       "  </tbody>\n",
       "</table>\n",
       "<p>9600 rows × 2 columns</p>\n",
       "</div>"
      ],
      "text/plain": [
       "        ID  label\n",
       "0        0      1\n",
       "1        1      0\n",
       "2        2      1\n",
       "3        3      0\n",
       "4        4      1\n",
       "...    ...    ...\n",
       "9595  9595      0\n",
       "9596  9596      0\n",
       "9597  9597      0\n",
       "9598  9598      0\n",
       "9599  9599      1\n",
       "\n",
       "[9600 rows x 2 columns]"
      ]
     },
     "metadata": {},
     "output_type": "display_data"
    }
   ],
   "source": [
    "yev = clfSVC_fc.predict(ev_Xdata)\n",
    "results =  pd.DataFrame({'ID': ev.ID, 'label': yev})\n",
    "display(results)\n",
    "results.to_csv('results.csv',index=False)"
   ]
  },
  {
   "cell_type": "code",
   "execution_count": null,
   "metadata": {},
   "outputs": [],
   "source": []
  }
 ],
 "metadata": {
  "kernelspec": {
   "display_name": "Python 3 (ipykernel)",
   "language": "python",
   "name": "python3"
  },
  "language_info": {
   "codemirror_mode": {
    "name": "ipython",
    "version": 3
   },
   "file_extension": ".py",
   "mimetype": "text/x-python",
   "name": "python",
   "nbconvert_exporter": "python",
   "pygments_lexer": "ipython3",
   "version": "3.10.12"
  }
 },
 "nbformat": 4,
 "nbformat_minor": 4
}
