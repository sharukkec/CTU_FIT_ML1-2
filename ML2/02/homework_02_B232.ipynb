{
 "cells": [
  {
   "cell_type": "markdown",
   "metadata": {},
   "source": [
    "# Úkol č. 2 - Využití neuronových sítí\n",
    "\n",
    "  * **Deadline je 13. 5. 2024, 23:59:59**, pokud odevzdáte úkol do 20. 5. 2024, 23:59:59, budete penalizování -12 body, pozdější odevzdání je bez bodu.\n",
    "  * V rámci tohoto úkolu musíte sestrojit vhodný model neuronové sítě pro vícetřídou klasifikaci.\n",
    "  * Část bodů získáte za správné vypracování a část bodů získáte za výslednou přesnost Vašeho modelu na evaluačních datech.\n",
    "    \n",
    "> **Úkoly jsou zadány tak, aby Vám daly prostor pro invenci. Vymyslet _jak přesně_ budete úkol řešit, je důležitou součástí zadání a originalita či nápaditost bude také hodnocena!**\n",
    "\n",
    "Využívejte buňky typu `Markdown` k vysvětlování Vašeho postupu. Za nepřehlednost budou strhávány body.\n",
    "\n",
    "## Zdroj dat\n",
    "\n",
    " * Zdrojem dat jsou soubory `train.csv` a `evaluate.csv`.\n",
    " * Jedná se o obrázky 32x32 pixelů ve stupních šedi, které byly nějakým způsobem vyrobeny z [Fashion Mnist datasetu](https://www.kaggle.com/datasets/zalando-research/fashionmnist).\n",
    " * Soubor `train.csv` obsahuje trénovací data.\n",
    " * Cílová (vysvětlovaná) proměnná se jmenuje **label**.\n",
    " * Soubor `evaluate.csv` obsahuje testovací data bez hodnot skutečných labelů.\n",
    "\n",
    "## Pokyny k vypracování (max 18 bodů)\n",
    "\n",
    "**Body zadání**, za jejichž (poctivé) vypracování získáte **18 bodů**:\n",
    "  * V notebooku načtěte data ze souboru `train.csv`. Vhodným způsobem si je rozdělte na podmnožiny, které Vám poslouží pro trénování, porovnávání modelů a následnou predikci výkonnosti finálního modelu.\n",
    "  * Proveďte základní průzkum dat a svá pozorování diskutujte. Některé obrázky také zobrazte.\n",
    "  * Sestrojte a natrénujte několik variant modelu dopředné neuronové sítě. Přitom v rámci výpočetních možností:\n",
    "      * Okomentujte vhodnost daného modelu pro daný typ úlohy.\n",
    "      * Experimentujte s různými hloubkami a velikosmi vrstev.\n",
    "      * Experimentujte se standardizací/normalizací dat.\n",
    "      * Experimentujte s různými optimalizačními metodami.\n",
    "      * Experimentujte s různými regularizačními technikami.\n",
    "      * Získané výsledky vždy řádně okomentujte.\n",
    "\n",
    "  * Sestrojte model konvoluční neuronové sítě. Přitom v rámci výpočetních možností:\n",
    "      * Okomentujte vhodnost daného modelu pro daný typ úlohy.\n",
    "      * Experimentujte s různými hloubkami a velikosmi vrstev.\n",
    "      * Experimentujte se standardizací/normalizací dat.\n",
    "      * Experimentujte s různými optimalizačními metodami.\n",
    "      * Experimentujte s různými regularizačními technikami.\n",
    "      * Získané výsledky vždy řádně okomentujte.\n",
    "    \n",
    "  * Ze všech zkoušených možností vyberte finální model a odhadněte, jakou přesnost můžete očekávat na nových datech, která jste doposud neměli k dispozici.\n",
    "  \n",
    "  * Nakonec načtěte vyhodnocovací data ze souboru`evaluate.csv`. Pomocí finálního modelu napočítejte predikce pro tyto data (vysvětlovaná proměnná v nich již není). Vytvořte soubor `results.csv`, ve kterém získané predikce uložíte do sloupce **label** a identifikátory do sloupce **ID**. Tento soubor též odevzdejte (uložte do projektu vedle notebooku).\n",
    "   \n",
    "   * Ukázka prvních řádků souboru `results.csv`:\n",
    "  \n",
    "```\n",
    "ID,label\n",
    "0,0\n",
    "1,1\n",
    "...\n",
    "```\n",
    "\n",
    "## Vyhodnocovací část (max 7 bodů)\n",
    "Za přesnost (accuraccy) na odevzdaných predikcích pro vyhodnocovací množnu získáte dalších max **7 bodů**.\n",
    "\n",
    "Označíme-li $A$ přesnost, které jste dosáhli, zaokrouhlenou na 2 desetinná místa, akumulují se výsledné body podle následujících pravidel:\n",
    "* pokud $A \\geq 0.80$ obdržíte +1 bod\n",
    "* pokud $A \\geq 0.83$ obdržíte +1 bod\n",
    "* pokud $A \\geq 0.86$ obdržíte +1 bod\n",
    "* pokud $A \\geq 0.87$ obdržíte +1 bod\n",
    "* pokud $A \\geq 0.88$ obdržíte +1 bod\n",
    "* pokud $A \\geq 0.89$ obdržíte +1 bod\n",
    "* pokud $A \\geq 0.90$ obdržíte +1 bod\n",
    "\n",
    "**Příklad:** Pokud bude Vaše přesnost 0.856, vyjde A = 0.86 a vy získáte 3 body.\n",
    "\n",
    "\n",
    "## Poznámky k odevzdání\n",
    "\n",
    "  * Řiďte se pokyny ze stránky https://courses.fit.cvut.cz/BI-ML2/homeworks/index.html.\n",
    "  * Vytvořte i csv soubor `results.csv` s predikcemi a uložte ho v rámci projektu vedle ipython notebooku."
   ]
  },
  {
   "cell_type": "code",
   "execution_count": 2,
   "metadata": {},
   "outputs": [],
   "source": [
    "### odtud už je to Vaše\n",
    "\n",
    "import pandas as pd\n",
    "import numpy as np\n",
    "\n",
    "import matplotlib.pyplot as plt\n",
    "%matplotlib inline\n",
    "\n",
    "from matplotlib import colormaps\n",
    "from matplotlib import colors\n",
    "\n",
    "from sklearn.metrics import accuracy_score\n",
    "\n",
    "import torch\n",
    "from torch.utils.data import DataLoader\n",
    "import torch.nn as nn\n",
    "import torch.nn.functional as F\n",
    "import torch.optim as optim\n",
    "\n"
   ]
  },
  {
   "cell_type": "code",
   "execution_count": 3,
   "metadata": {},
   "outputs": [
    {
     "name": "stdout",
     "output_type": "stream",
     "text": [
      "cuda\n"
     ]
    }
   ],
   "source": [
    "device = torch.device(\"cuda\" if torch.cuda.is_available() else \"cpu\") #use gpu if cuda is available, otherwise use cpu \n",
    "print(device)"
   ]
  },
  {
   "cell_type": "markdown",
   "metadata": {},
   "source": [
    "Load data and process data:"
   ]
  },
  {
   "cell_type": "code",
   "execution_count": 4,
   "metadata": {},
   "outputs": [
    {
     "name": "stdout",
     "output_type": "stream",
     "text": [
      "   pix1  pix2  pix3  pix4  pix5  pix6  pix7  pix8  pix9  pix10  ...  pix1016  \\\n",
      "0     0     0     0     0     0     0     0     0     0      0  ...        0   \n",
      "1     1     1     1     1     1     1     1     1     1      1  ...        1   \n",
      "2     1     1     1     1     1     1     1     1     1      1  ...        1   \n",
      "3     0     0     0     0     0     0     0     0     0      0  ...        0   \n",
      "4     1     1     1     1     1     1     1     1     1      1  ...        1   \n",
      "\n",
      "   pix1017  pix1018  pix1019  pix1020  pix1021  pix1022  pix1023  pix1024  \\\n",
      "0        0        0        0        0        0        0        0        0   \n",
      "1        1        1        1        1        1        1        1        1   \n",
      "2        1        1        1        1        1        1        1        1   \n",
      "3        0        0        0        0        0        0        0        0   \n",
      "4        1        1        1        1        1        1        1        1   \n",
      "\n",
      "   label  \n",
      "0      3  \n",
      "1      3  \n",
      "2      7  \n",
      "3      9  \n",
      "4      5  \n",
      "\n",
      "[5 rows x 1025 columns]\n"
     ]
    }
   ],
   "source": [
    "dataset = pd.read_csv('train.csv')\n",
    "print(dataset.head())"
   ]
  },
  {
   "cell_type": "code",
   "execution_count": 5,
   "metadata": {},
   "outputs": [],
   "source": [
    "targets = dataset.label\n",
    "data = dataset.drop('label', axis = 1)"
   ]
  },
  {
   "cell_type": "markdown",
   "metadata": {},
   "source": [
    "create data and target value tensors: "
   ]
  },
  {
   "cell_type": "code",
   "execution_count": 6,
   "metadata": {},
   "outputs": [],
   "source": [
    "labels_tensor = torch.tensor(targets.values, device=device , dtype = torch.long)\n",
    "data_tensor_norm = torch.tensor(data.values, dtype=torch.float, device=device) / 255.0  # Normalize pixel values to range [0, 1]\n",
    "data_tensor = torch.tensor(data.values, dtype=torch.float, device=device)  # With no normalize"
   ]
  },
  {
   "cell_type": "code",
   "execution_count": 7,
   "metadata": {},
   "outputs": [
    {
     "name": "stdout",
     "output_type": "stream",
     "text": [
      "tensor([3, 3, 7,  ..., 9, 6, 3], device='cuda:0')\n",
      "unnormalized tenzor is: tensor([[0., 0., 0.,  ..., 0., 0., 0.],\n",
      "        [1., 1., 1.,  ..., 1., 1., 1.],\n",
      "        [1., 1., 1.,  ..., 1., 1., 1.],\n",
      "        ...,\n",
      "        [0., 0., 0.,  ..., 0., 0., 0.],\n",
      "        [0., 0., 0.,  ..., 0., 0., 0.],\n",
      "        [4., 4., 4.,  ..., 4., 4., 4.]], device='cuda:0')\n",
      "normalized tenzor is: tensor([[0.0000, 0.0000, 0.0000,  ..., 0.0000, 0.0000, 0.0000],\n",
      "        [0.0039, 0.0039, 0.0039,  ..., 0.0039, 0.0039, 0.0039],\n",
      "        [0.0039, 0.0039, 0.0039,  ..., 0.0039, 0.0039, 0.0039],\n",
      "        ...,\n",
      "        [0.0000, 0.0000, 0.0000,  ..., 0.0000, 0.0000, 0.0000],\n",
      "        [0.0000, 0.0000, 0.0000,  ..., 0.0000, 0.0000, 0.0000],\n",
      "        [0.0157, 0.0157, 0.0157,  ..., 0.0157, 0.0157, 0.0157]],\n",
      "       device='cuda:0')\n"
     ]
    }
   ],
   "source": [
    "print(labels_tensor)\n",
    "print (\"unnormalized tenzor is:\",data_tensor)\n",
    "print (\"normalized tenzor is:\",data_tensor_norm)"
   ]
  },
  {
   "cell_type": "code",
   "execution_count": 8,
   "metadata": {},
   "outputs": [
    {
     "name": "stdout",
     "output_type": "stream",
     "text": [
      "Dataset's size is : 52500\n"
     ]
    }
   ],
   "source": [
    "tensor_dataset = torch.utils.data.TensorDataset(data_tensor, labels_tensor)\n",
    "tensor_dataset_norm = torch.utils.data.TensorDataset(data_tensor_norm, labels_tensor)\n",
    "\n",
    "print(f\"Dataset's size is : {len(tensor_dataset)}\")"
   ]
  },
  {
   "cell_type": "markdown",
   "metadata": {},
   "source": [
    "Split data on train, val and test data:"
   ]
  },
  {
   "cell_type": "code",
   "execution_count": 9,
   "metadata": {},
   "outputs": [
    {
     "name": "stdout",
     "output_type": "stream",
     "text": [
      "The length of train data is: 31500\n",
      "The length of val data is: 10500\n",
      "The length of test data is: 10500\n"
     ]
    }
   ],
   "source": [
    "generator1 = torch.Generator().manual_seed(666)\n",
    "train_data, test_data = torch.utils.data.random_split(tensor_dataset, [0.6, 0.4], generator1)\n",
    "val_data, test_data = torch.utils.data.random_split(test_data, [0.5, 0.5], generator1)\n",
    "\n",
    "train_data_norm, test_data_norm = torch.utils.data.random_split(tensor_dataset_norm, [0.6, 0.4], generator1)\n",
    "val_data_norm, test_data_norm = torch.utils.data.random_split(test_data_norm, [0.5, 0.5], generator1)\n",
    "print(\"The length of train data is:\",len(train_data))\n",
    "print(\"The length of val data is:\",len(val_data))\n",
    "print(\"The length of test data is:\",len(test_data))"
   ]
  },
  {
   "cell_type": "markdown",
   "metadata": {},
   "source": [
    "Research some info about given dataset:"
   ]
  },
  {
   "cell_type": "code",
   "execution_count": 10,
   "metadata": {},
   "outputs": [
    {
     "name": "stdout",
     "output_type": "stream",
     "text": [
      "label\n",
      "5    5300\n",
      "9    5275\n",
      "8    5274\n",
      "3    5266\n",
      "7    5258\n",
      "0    5253\n",
      "6    5244\n",
      "4    5225\n",
      "2    5222\n",
      "1    5183\n",
      "Name: count, dtype: int64\n",
      "0        1024\n",
      "1        1024\n",
      "2        1024\n",
      "3        1024\n",
      "4        1024\n",
      "         ... \n",
      "52495    1024\n",
      "52496    1024\n",
      "52497    1024\n",
      "52498    1024\n",
      "52499    1024\n",
      "Length: 52500, dtype: int64\n"
     ]
    }
   ],
   "source": [
    "#As we can see, the label may be in the interval between 0 and 9 as it's value and the count of each value is generally even\n",
    "print( targets.value_counts() )\n",
    "#There're 52500 images 32*32 pixels\n",
    "print( data.count(axis=1) )"
   ]
  },
  {
   "cell_type": "markdown",
   "metadata": {},
   "source": [
    "Show examples of some images:"
   ]
  },
  {
   "cell_type": "code",
   "execution_count": 11,
   "metadata": {},
   "outputs": [
    {
     "data": {
      "image/png": "[encoded data removed]",
      "text/plain": [
       "<Figure size 640x480 with 1 Axes>"
      ]
     },
     "metadata": {},
     "output_type": "display_data"
    },
    {
     "data": {
      "image/png": "[encoded data removed]",
      "text/plain": [
       "<Figure size 640x480 with 1 Axes>"
      ]
     },
     "metadata": {},
     "output_type": "display_data"
    },
    {
     "data": {
      "image/png": "[encoded data removed]",
      "text/plain": [
       "<Figure size 640x480 with 1 Axes>"
      ]
     },
     "metadata": {},
     "output_type": "display_data"
    },
    {
     "data": {
      "image/png": "[encoded data removed]",
      "text/plain": [
       "<Figure size 640x480 with 1 Axes>"
      ]
     },
     "metadata": {},
     "output_type": "display_data"
    },
    {
     "data": {
      "image/png": "[encoded data removed]",
      "text/plain": [
       "<Figure size 640x480 with 1 Axes>"
      ]
     },
     "metadata": {},
     "output_type": "display_data"
    }
   ],
   "source": [
    "random_rows = data.sample(n=5)\n",
    "\n",
    "for index, row in random_rows.iterrows():\n",
    "    row_data = row.values\n",
    "\n",
    "    image = np.array(row_data).reshape(32, 32)\n",
    "\n",
    "    plt.imshow(image, cmap='gray')\n",
    "    plt.axis('off')  # Hide axes\n",
    "    plt.title(f\"Label {targets[index]}\")\n",
    "    plt.show()"
   ]
  },
  {
   "cell_type": "markdown",
   "metadata": {},
   "source": [
    "Construct a Feedforward neural network\n",
    "\n",
    "First create data loaders:"
   ]
  },
  {
   "cell_type": "code",
   "execution_count": 12,
   "metadata": {},
   "outputs": [],
   "source": [
    "training_loader = torch.utils.data.DataLoader(train_data, batch_size=32, shuffle=True)\n",
    "validation_loader = torch.utils.data.DataLoader(val_data, batch_size=128, shuffle=False)\n",
    "test_loader = torch.utils.data.DataLoader(test_data, batch_size=128, shuffle=False)\n",
    "training_loader_norm = torch.utils.data.DataLoader(train_data_norm, batch_size=32, shuffle=True)\n",
    "validation_loader_norm = torch.utils.data.DataLoader(val_data_norm, batch_size=128, shuffle=False)\n",
    "test_loader_norm = torch.utils.data.DataLoader(test_data_norm, batch_size=128, shuffle=False)\n"
   ]
  },
  {
   "cell_type": "code",
   "execution_count": 13,
   "metadata": {},
   "outputs": [
    {
     "name": "stdout",
     "output_type": "stream",
     "text": [
      "torch.Size([32, 1024])\n",
      "torch.Size([32])\n"
     ]
    }
   ],
   "source": [
    "dataiter = iter(training_loader)\n",
    "images, labels = next(dataiter)\n",
    "images, labels = images, labels\n",
    "print(images.shape)\n",
    "print(labels.shape)"
   ]
  },
  {
   "cell_type": "markdown",
   "metadata": {},
   "source": [
    "Define a neural network class:"
   ]
  },
  {
   "cell_type": "code",
   "execution_count": 14,
   "metadata": {},
   "outputs": [],
   "source": [
    "class MyNet(nn.Module):\n",
    "        def __init__(self,hidden_layer_size, num_hidden_layers):\n",
    "            super(MyNet, self).__init__()\n",
    "            self.num_hidden_layers = num_hidden_layers\n",
    "            self.layers = nn.ModuleList()\n",
    "            #input layer\n",
    "            self.layers.append(nn.Linear(1024, hidden_layer_size))\n",
    "            # hidden layers\n",
    "            for _ in range(num_hidden_layers):\n",
    "                self.layers.append(nn.Linear(hidden_layer_size, hidden_layer_size))\n",
    "            #output layer\n",
    "            self.layers.append(nn.Linear(hidden_layer_size, 10))\n",
    "\n",
    "        def forward(self, x):\n",
    "            for i in range (self.num_hidden_layers):\n",
    "                x = F.relu(self.layers[i](x))\n",
    "            x = self.layers[self.num_hidden_layers](x)\n",
    "            return x\n"
   ]
  },
  {
   "cell_type": "code",
   "execution_count": 15,
   "metadata": {},
   "outputs": [],
   "source": [
    "def train_one_epoch(model, loss_fn, optimizer, training_loader, device):\n",
    "    running_cum_loss = 0.\n",
    "\n",
    "    for i, data in enumerate(training_loader):\n",
    "        # Every data instance is an input + label pair\n",
    "        inputs, labels = data[0].to(device), data[1].to(device)  # Move data to device\n",
    "\n",
    "        # Zero gradients\n",
    "        optimizer.zero_grad()\n",
    "\n",
    "        # Forward pass\n",
    "        outputs = model(inputs)\n",
    "        # print(outputs.shape, labels.shape)\n",
    "\n",
    "        # Compute the loss\n",
    "        loss = loss_fn(outputs, labels)\n",
    "        \n",
    "        # Backpropagation\n",
    "        loss.backward()\n",
    "\n",
    "        # Update weights\n",
    "        optimizer.step()\n",
    "\n",
    "        # Gather data and report\n",
    "        last_mean_loss = loss.item()\n",
    "        running_cum_loss += last_mean_loss * inputs.shape[0]\n",
    "        # if i % 300 == 299:\n",
    "        #     print(f\"  Batch {i+1}, Loss: {last_mean_loss:.3f}\")\n",
    "            \n",
    "    # Return average loss over the whole training set\n",
    "    return running_cum_loss / len(training_loader.dataset)"
   ]
  },
  {
   "cell_type": "code",
   "execution_count": 16,
   "metadata": {},
   "outputs": [
    {
     "data": {
      "text/plain": [
       "0.934914697828747"
      ]
     },
     "execution_count": 16,
     "metadata": {},
     "output_type": "execute_result"
    }
   ],
   "source": [
    "model = MyNet(32,3).to(device)\n",
    "loss_fn = nn.CrossEntropyLoss()\n",
    "optimizer = torch.optim.Adam(model.parameters())\n",
    "train_one_epoch(model, loss_fn, optimizer, training_loader, device)"
   ]
  },
  {
   "cell_type": "code",
   "execution_count": 17,
   "metadata": {},
   "outputs": [],
   "source": [
    "def train_model(num_hidden_layers, hidden_layer_size, optimizer, device, EPOCHS=1000, lr=0.001, early_stop_epochs=20):\n",
    "    model = MyNet(hidden_layer_size, num_hidden_layers).to(device)\n",
    "    loss_fn = nn.CrossEntropyLoss()\n",
    "    if optimizer == \"Adam\":\n",
    "        optimizer = torch.optim.Adam(model.parameters(), lr=lr)\n",
    "    else: \n",
    "        optimizer = torch.optim.SGD(model.parameters(), lr=lr)\n",
    "    best_vacc = 0.0  # Best validation accuracy\n",
    "    epochs_without_improvement = 0  # Count of epochs without improvement\n",
    "    best_epochs_num = 0 \n",
    "\n",
    "    for epoch in range(EPOCHS):\n",
    "        #print('EPOCH {}:'.format(epoch + 1))\n",
    "        \n",
    "        # One training step\n",
    "        avg_loss = train_one_epoch(model, loss_fn, optimizer, training_loader, device)\n",
    "        \n",
    "        # Validation performance\n",
    "        running_cum_vloss = 0.0\n",
    "        vcorrect = 0\n",
    "        for i, vdata in enumerate(validation_loader):\n",
    "            vinputs, vlabels = vdata[0].to(device), vdata[1].to(device)  # Move validation data to device\n",
    "            with torch.no_grad():\n",
    "                voutputs = model(vinputs)\n",
    "                vloss = loss_fn(voutputs, vlabels)\n",
    "            running_cum_vloss += vloss * vinputs.shape[0]\n",
    "            # Count the correctly classified samples\n",
    "            vcorrect += (voutputs.argmax(1) == vlabels).float().sum()\n",
    "        \n",
    "        # Get average loss and accuracy\n",
    "        avg_vloss = running_cum_vloss / len(validation_loader.dataset)\n",
    "        vacc = vcorrect / len(validation_loader.dataset)\n",
    "        \n",
    "        #print(f\"TRAIN loss: {avg_loss:.3f}, VALIDATION loss: {avg_vloss:.3f}, accuracy: {vacc:.3f}\")\n",
    "        \n",
    "        # Check if validation accuracy improved\n",
    "        if vacc > best_vacc:\n",
    "            best_vacc = vacc\n",
    "            best_epochs_num = epoch\n",
    "            epochs_without_improvement = 0\n",
    "        else:\n",
    "            epochs_without_improvement += 1\n",
    "        \n",
    "        # Check for early stopping\n",
    "        if epochs_without_improvement >= early_stop_epochs:\n",
    "            #print(f\"Validation accuracy did not improve for {early_stop_epochs} epochs. Stopping training.\")\n",
    "            break\n",
    "\n",
    "    #print(\"Training finished. Best accuracy was: \", best_vacc)\n",
    "    return best_vacc,best_epochs_num"
   ]
  },
  {
   "cell_type": "code",
   "execution_count": 113,
   "metadata": {},
   "outputs": [
    {
     "name": "stdout",
     "output_type": "stream",
     "text": [
      "Hidden Layers: 0, Hidden Layer Size: 32, Optimizer: SGD\n",
      "Hidden Layers: 0, Hidden Layer Size: 64, Optimizer: SGD\n",
      "Hidden Layers: 0, Hidden Layer Size: 128, Optimizer: SGD\n",
      "Hidden Layers: 0, Hidden Layer Size: 256, Optimizer: SGD\n",
      "Hidden Layers: 1, Hidden Layer Size: 32, Optimizer: SGD\n",
      "Hidden Layers: 1, Hidden Layer Size: 64, Optimizer: SGD\n",
      "Hidden Layers: 1, Hidden Layer Size: 128, Optimizer: SGD\n",
      "Hidden Layers: 1, Hidden Layer Size: 256, Optimizer: SGD\n",
      "Hidden Layers: 2, Hidden Layer Size: 32, Optimizer: SGD\n",
      "Hidden Layers: 2, Hidden Layer Size: 64, Optimizer: SGD\n",
      "Hidden Layers: 2, Hidden Layer Size: 128, Optimizer: SGD\n",
      "Hidden Layers: 2, Hidden Layer Size: 256, Optimizer: SGD\n",
      "Hidden Layers: 3, Hidden Layer Size: 32, Optimizer: SGD\n",
      "Hidden Layers: 3, Hidden Layer Size: 64, Optimizer: SGD\n",
      "Hidden Layers: 3, Hidden Layer Size: 128, Optimizer: SGD\n",
      "Hidden Layers: 3, Hidden Layer Size: 256, Optimizer: SGD\n",
      "Hidden Layers: 0, Hidden Layer Size: 32, Optimizer: Adam\n",
      "Hidden Layers: 0, Hidden Layer Size: 64, Optimizer: Adam\n",
      "Hidden Layers: 0, Hidden Layer Size: 128, Optimizer: Adam\n",
      "Hidden Layers: 0, Hidden Layer Size: 256, Optimizer: Adam\n",
      "Hidden Layers: 1, Hidden Layer Size: 32, Optimizer: Adam\n",
      "Hidden Layers: 1, Hidden Layer Size: 64, Optimizer: Adam\n",
      "Hidden Layers: 1, Hidden Layer Size: 128, Optimizer: Adam\n",
      "Hidden Layers: 1, Hidden Layer Size: 256, Optimizer: Adam\n",
      "Hidden Layers: 2, Hidden Layer Size: 32, Optimizer: Adam\n",
      "Hidden Layers: 2, Hidden Layer Size: 64, Optimizer: Adam\n",
      "Hidden Layers: 2, Hidden Layer Size: 128, Optimizer: Adam\n",
      "Hidden Layers: 2, Hidden Layer Size: 256, Optimizer: Adam\n",
      "Hidden Layers: 3, Hidden Layer Size: 32, Optimizer: Adam\n",
      "Hidden Layers: 3, Hidden Layer Size: 64, Optimizer: Adam\n",
      "Hidden Layers: 3, Hidden Layer Size: 128, Optimizer: Adam\n",
      "Hidden Layers: 3, Hidden Layer Size: 256, Optimizer: Adam\n",
      "Best parameters:\n",
      "{'num_hidden_layers': 3, 'hidden_layer_size': 256, 'optimizer': 'SGD'}\n",
      "Best accuracy: tensor(0.8494, device='cuda:0')\n"
     ]
    }
   ],
   "source": [
    "# Define different layer configurations\n",
    "num_hidden_layers_list = range(4)\n",
    "hidden_layer_sizes = [32,64,128,256]\n",
    "optimizers= [\n",
    "    \"SGD\",\n",
    "    \"Adam\"\n",
    "]\n",
    "\n",
    "best_accuracy = 0.0\n",
    "best_epochs_num = 0\n",
    "best_params = None\n",
    "\n",
    "# Train models with different configurations\n",
    "\n",
    "for optimizer in optimizers:\n",
    "    for num_hidden_layers in num_hidden_layers_list:\n",
    "        for hidden_layer_size in hidden_layer_sizes:\n",
    "            print(f\"Hidden Layers: {num_hidden_layers}, Hidden Layer Size: {hidden_layer_size}, Optimizer: {optimizer}\")\n",
    "            accuracy, best_epochs_num = train_model(num_hidden_layers, hidden_layer_size, optimizer, device)\n",
    "             # Check if current configuration has better accuracy\n",
    "            if accuracy > best_accuracy:\n",
    "                best_accuracy = accuracy\n",
    "                best_params = {\n",
    "                    \"num_hidden_layers\": num_hidden_layers,\n",
    "                    \"hidden_layer_size\": hidden_layer_size,\n",
    "                    \"optimizer\": optimizer\n",
    "                }\n",
    "                \n",
    "print(\"Best parameters:\")\n",
    "print(best_params)\n",
    "print(\"Best accuracy:\", best_accuracy)"
   ]
  },
  {
   "cell_type": "code",
   "execution_count": 118,
   "metadata": {},
   "outputs": [
    {
     "name": "stdout",
     "output_type": "stream",
     "text": [
      "Best parameters with number of epochs:  35\n",
      "{'num_hidden_layers': 3, 'hidden_layer_size': 256, 'optimizer': 'SGD'}\n",
      "Best accuracy: tensor(0.8494, device='cuda:0')\n"
     ]
    }
   ],
   "source": [
    "print(\"Best parameters with number of epochs: \", best_epochs_num)\n",
    "print(best_params)\n",
    "print(\"Best accuracy:\", best_accuracy)\n",
    "#save accuracy, parameters and number of epochs\n",
    "best_params_FF= best_params\n",
    "best_acc_FF = best_accuracy\n",
    "best_epochs_num_FF = best_epochs_num"
   ]
  },
  {
   "cell_type": "markdown",
   "metadata": {},
   "source": [
    "Add parameter normalized to the function for future usings:"
   ]
  },
  {
   "cell_type": "code",
   "execution_count": 18,
   "metadata": {},
   "outputs": [],
   "source": [
    "def train_model_1(num_hidden_layers, hidden_layer_size, optimizer, device, normalized=False, EPOCHS=1000, lr=0.001, early_stop_epochs=20):\n",
    "    model = MyNet(hidden_layer_size, num_hidden_layers).to(device)\n",
    "    loss_fn = nn.CrossEntropyLoss()\n",
    "    if optimizer == \"Adam\":\n",
    "        optimizer = torch.optim.Adam(model.parameters(), lr=lr)\n",
    "    else: \n",
    "        optimizer = torch.optim.SGD(model.parameters(), lr=lr)\n",
    "    best_vacc = 0.0  # Best validation accuracy\n",
    "    epochs_without_improvement = 0  # Count of epochs without improvement\n",
    "    best_epochs_num = 0 \n",
    "    if normalized:\n",
    "        T_loader = training_loader_norm\n",
    "        V_loader = validation_loader_norm\n",
    "    else:\n",
    "        T_loader = training_loader\n",
    "        V_loader = validation_loader\n",
    "    for epoch in range(EPOCHS):\n",
    "        #print('EPOCH {}:'.format(epoch + 1))\n",
    "        \n",
    "        # One training step\n",
    "        avg_loss = train_one_epoch(model, loss_fn, optimizer, T_loader, device)\n",
    "        \n",
    "        # Validation performance\n",
    "        running_cum_vloss = 0.0\n",
    "        vcorrect = 0\n",
    "        for i, vdata in enumerate(V_loader):\n",
    "            vinputs, vlabels = vdata[0].to(device), vdata[1].to(device)  # Move validation data to device\n",
    "            with torch.no_grad():\n",
    "                voutputs = model(vinputs)\n",
    "                vloss = loss_fn(voutputs, vlabels)\n",
    "            running_cum_vloss += vloss * vinputs.shape[0]\n",
    "            # Count the correctly classified samples\n",
    "            vcorrect += (voutputs.argmax(1) == vlabels).float().sum()\n",
    "        \n",
    "        # Get average loss and accuracy\n",
    "        avg_vloss = running_cum_vloss / len(V_loader.dataset)\n",
    "        vacc = vcorrect / len(V_loader.dataset)\n",
    "        \n",
    "        #print(f\"TRAIN loss: {avg_loss:.3f}, VALIDATION loss: {avg_vloss:.3f}, accuracy: {vacc:.3f}\")\n",
    "        \n",
    "        # Check if validation accuracy improved\n",
    "        if vacc > best_vacc:\n",
    "            best_vacc = vacc\n",
    "            best_epochs_num = epoch\n",
    "            epochs_without_improvement = 0\n",
    "        else:\n",
    "            epochs_without_improvement += 1\n",
    "        \n",
    "        # Check for early stopping\n",
    "        if epochs_without_improvement >= early_stop_epochs:\n",
    "            #print(f\"Validation accuracy did not improve for {early_stop_epochs} epochs. Stopping training.\")\n",
    "            break\n",
    "\n",
    "    #print(\"Training finished. Best accuracy was: \", best_vacc)\n",
    "    return best_vacc,best_epochs_num"
   ]
  },
  {
   "cell_type": "code",
   "execution_count": 119,
   "metadata": {},
   "outputs": [
    {
     "name": "stdout",
     "output_type": "stream",
     "text": [
      "Hidden Layers: 0, Hidden Layer Size: 32, Optimizer: SGD\n",
      "Hidden Layers: 0, Hidden Layer Size: 64, Optimizer: SGD\n",
      "Hidden Layers: 0, Hidden Layer Size: 128, Optimizer: SGD\n",
      "Hidden Layers: 0, Hidden Layer Size: 256, Optimizer: SGD\n",
      "Hidden Layers: 1, Hidden Layer Size: 32, Optimizer: SGD\n",
      "Hidden Layers: 1, Hidden Layer Size: 64, Optimizer: SGD\n",
      "Hidden Layers: 1, Hidden Layer Size: 128, Optimizer: SGD\n",
      "Hidden Layers: 1, Hidden Layer Size: 256, Optimizer: SGD\n",
      "Hidden Layers: 2, Hidden Layer Size: 32, Optimizer: SGD\n",
      "Hidden Layers: 2, Hidden Layer Size: 64, Optimizer: SGD\n",
      "Hidden Layers: 2, Hidden Layer Size: 128, Optimizer: SGD\n",
      "Hidden Layers: 2, Hidden Layer Size: 256, Optimizer: SGD\n",
      "Hidden Layers: 3, Hidden Layer Size: 32, Optimizer: SGD\n",
      "Hidden Layers: 3, Hidden Layer Size: 64, Optimizer: SGD\n",
      "Hidden Layers: 3, Hidden Layer Size: 128, Optimizer: SGD\n",
      "Hidden Layers: 3, Hidden Layer Size: 256, Optimizer: SGD\n",
      "Hidden Layers: 0, Hidden Layer Size: 32, Optimizer: Adam\n",
      "Hidden Layers: 0, Hidden Layer Size: 64, Optimizer: Adam\n",
      "Hidden Layers: 0, Hidden Layer Size: 128, Optimizer: Adam\n",
      "Hidden Layers: 0, Hidden Layer Size: 256, Optimizer: Adam\n",
      "Hidden Layers: 1, Hidden Layer Size: 32, Optimizer: Adam\n",
      "Hidden Layers: 1, Hidden Layer Size: 64, Optimizer: Adam\n",
      "Hidden Layers: 1, Hidden Layer Size: 128, Optimizer: Adam\n",
      "Hidden Layers: 1, Hidden Layer Size: 256, Optimizer: Adam\n",
      "Hidden Layers: 2, Hidden Layer Size: 32, Optimizer: Adam\n",
      "Hidden Layers: 2, Hidden Layer Size: 64, Optimizer: Adam\n",
      "Hidden Layers: 2, Hidden Layer Size: 128, Optimizer: Adam\n",
      "Hidden Layers: 2, Hidden Layer Size: 256, Optimizer: Adam\n",
      "Hidden Layers: 3, Hidden Layer Size: 32, Optimizer: Adam\n",
      "Hidden Layers: 3, Hidden Layer Size: 64, Optimizer: Adam\n",
      "Hidden Layers: 3, Hidden Layer Size: 128, Optimizer: Adam\n",
      "Hidden Layers: 3, Hidden Layer Size: 256, Optimizer: Adam\n"
     ]
    }
   ],
   "source": [
    "best_accuracy = 0.0\n",
    "best_epochs_num = 0\n",
    "best_params = None\n",
    "\n",
    "for optimizer in optimizers:\n",
    "    for num_hidden_layers in num_hidden_layers_list:\n",
    "        for hidden_layer_size in hidden_layer_sizes:\n",
    "            print(f\"Hidden Layers: {num_hidden_layers}, Hidden Layer Size: {hidden_layer_size}, Optimizer: {optimizer}\")\n",
    "            accuracy, best_epochs_num = train_model_1(num_hidden_layers, hidden_layer_size, optimizer, device, True)\n",
    "             # Check if current configuration has better accuracy\n",
    "            if accuracy > best_accuracy:\n",
    "                best_accuracy = accuracy\n",
    "                best_params = {\n",
    "                    \"num_hidden_layers\": num_hidden_layers,\n",
    "                    \"hidden_layer_size\": hidden_layer_size,\n",
    "                    \"optimizer\": optimizer\n",
    "                }"
   ]
  },
  {
   "cell_type": "code",
   "execution_count": 120,
   "metadata": {},
   "outputs": [
    {
     "name": "stdout",
     "output_type": "stream",
     "text": [
      "Best parameters with number of epochs:  18\n",
      "{'num_hidden_layers': 3, 'hidden_layer_size': 256, 'optimizer': 'Adam'}\n",
      "Best accuracy: tensor(0.8519, device='cuda:0')\n"
     ]
    }
   ],
   "source": [
    "print(\"Best parameters with number of epochs: \", best_epochs_num)\n",
    "print(best_params)\n",
    "print(\"Best accuracy:\", best_accuracy)\n",
    "#save accuracy, parameters and number of epochs\n",
    "best_accuracy_FF_n = best_accuracy\n",
    "best_epochs_num_FF_n = best_epochs_num\n",
    "best_params_FF_n = best_params"
   ]
  },
  {
   "cell_type": "markdown",
   "metadata": {},
   "source": [
    "Now try applying Dropout regularization method:"
   ]
  },
  {
   "cell_type": "code",
   "execution_count": 19,
   "metadata": {},
   "outputs": [],
   "source": [
    "class MyNet_drop(nn.Module):\n",
    "        def __init__(self,hidden_layer_size, num_hidden_layers):\n",
    "            super(MyNet_drop, self).__init__()\n",
    "            self.num_hidden_layers = num_hidden_layers\n",
    "            self.layers = nn.ModuleList()\n",
    "            self.dropout_in = nn.Dropout( p = 0.1)\n",
    "            self.dropout_h = nn.Dropout( p = 0.5)\n",
    "            #input layer\n",
    "            self.layers.append(nn.Linear(1024, hidden_layer_size))\n",
    "            # hidden layers\n",
    "            for _ in range(num_hidden_layers):\n",
    "                self.layers.append(nn.Linear(hidden_layer_size, hidden_layer_size))\n",
    "            #output layer\n",
    "            self.layers.append(nn.Linear(hidden_layer_size, 10))\n",
    "            # for i in range (1,self.num_hidden_layers):\n",
    "            #     print(self.layers[i])\n",
    "\n",
    "        def forward(self, x):\n",
    "            x = F.relu(self.layers[0](x))\n",
    "            x = self.dropout_in(x)\n",
    "            for i in range (1,self.num_hidden_layers+1):\n",
    "                x = F.relu(self.layers[i](x))\n",
    "                x = self.dropout_h(x)\n",
    "            x = self.layers[self.num_hidden_layers+1](x)\n",
    "            return x\n",
    "\n",
    "# model = MyNet_drop(32 , 2)"
   ]
  },
  {
   "cell_type": "code",
   "execution_count": 24,
   "metadata": {},
   "outputs": [],
   "source": [
    "def train_model_w_dr(num_hidden_layers, hidden_layer_size, optimizer, device, normalized=False, EPOCHS=1000, lr=0.001, early_stop_epochs=20):\n",
    "    model = MyNet_drop(hidden_layer_size, num_hidden_layers).to(device)\n",
    "    loss_fn = nn.CrossEntropyLoss()\n",
    "    if optimizer == \"Adam\":\n",
    "        optimizer = torch.optim.Adam(model.parameters(), lr=lr)\n",
    "    else: \n",
    "        optimizer = torch.optim.SGD(model.parameters(), lr=lr)\n",
    "    best_vacc = 0.0  # Best validation accuracy\n",
    "    epochs_without_improvement = 0  # Count of epochs without improvement\n",
    "    best_epochs_num = 0 \n",
    "    if normalized:\n",
    "        T_loader = training_loader_norm\n",
    "        V_loader = validation_loader_norm\n",
    "    else:\n",
    "        T_loader = training_loader\n",
    "        V_loader = validation_loader\n",
    "    for epoch in range(EPOCHS):\n",
    "        #print('EPOCH {}:'.format(epoch + 1))\n",
    "        \n",
    "        # One training step\n",
    "        avg_loss = train_one_epoch(model, loss_fn, optimizer, T_loader, device)\n",
    "        \n",
    "        # Validation performance\n",
    "        running_cum_vloss = 0.0\n",
    "        vcorrect = 0\n",
    "        for i, vdata in enumerate(V_loader):\n",
    "            vinputs, vlabels = vdata[0].to(device), vdata[1].to(device)  # Move validation data to device\n",
    "            with torch.no_grad():\n",
    "                voutputs = model(vinputs)\n",
    "                vloss = loss_fn(voutputs, vlabels)\n",
    "            running_cum_vloss += vloss * vinputs.shape[0]\n",
    "            # Count the correctly classified samples\n",
    "            vcorrect += (voutputs.argmax(1) == vlabels).float().sum()\n",
    "        \n",
    "        # Get average loss and accuracy\n",
    "        avg_vloss = running_cum_vloss / len(V_loader.dataset)\n",
    "        vacc = vcorrect / len(V_loader.dataset)\n",
    "        \n",
    "        #print(f\"TRAIN loss: {avg_loss:.3f}, VALIDATION loss: {avg_vloss:.3f}, accuracy: {vacc:.3f}\")\n",
    "        \n",
    "        # Check if validation accuracy improved\n",
    "        if vacc > best_vacc:\n",
    "            best_vacc = vacc\n",
    "            best_epochs_num = epoch\n",
    "            epochs_without_improvement = 0\n",
    "        else:\n",
    "            epochs_without_improvement += 1\n",
    "        \n",
    "        # Check for early stopping\n",
    "        if epochs_without_improvement >= early_stop_epochs:\n",
    "            #print(f\"Validation accuracy did not improve for {early_stop_epochs} epochs. Stopping training.\")\n",
    "            break\n",
    "\n",
    "    #print(\"Training finished. Best accuracy was: \", best_vacc)\n",
    "    return best_vacc,best_epochs_num"
   ]
  },
  {
   "cell_type": "code",
   "execution_count": 202,
   "metadata": {},
   "outputs": [
    {
     "name": "stdout",
     "output_type": "stream",
     "text": [
      "Hidden Layers: 0, Hidden Layer Size: 32, Optimizer: SGD\n",
      "Hidden Layers: 0, Hidden Layer Size: 64, Optimizer: SGD\n",
      "Hidden Layers: 0, Hidden Layer Size: 128, Optimizer: SGD\n",
      "Hidden Layers: 0, Hidden Layer Size: 256, Optimizer: SGD\n",
      "Hidden Layers: 1, Hidden Layer Size: 32, Optimizer: SGD\n",
      "Hidden Layers: 1, Hidden Layer Size: 64, Optimizer: SGD\n",
      "Hidden Layers: 1, Hidden Layer Size: 128, Optimizer: SGD\n",
      "Hidden Layers: 1, Hidden Layer Size: 256, Optimizer: SGD\n",
      "Hidden Layers: 2, Hidden Layer Size: 32, Optimizer: SGD\n",
      "Hidden Layers: 2, Hidden Layer Size: 64, Optimizer: SGD\n",
      "Hidden Layers: 2, Hidden Layer Size: 128, Optimizer: SGD\n",
      "Hidden Layers: 2, Hidden Layer Size: 256, Optimizer: SGD\n",
      "Hidden Layers: 3, Hidden Layer Size: 32, Optimizer: SGD\n",
      "Hidden Layers: 3, Hidden Layer Size: 64, Optimizer: SGD\n",
      "Hidden Layers: 3, Hidden Layer Size: 128, Optimizer: SGD\n",
      "Hidden Layers: 3, Hidden Layer Size: 256, Optimizer: SGD\n",
      "Hidden Layers: 0, Hidden Layer Size: 32, Optimizer: Adam\n",
      "Hidden Layers: 0, Hidden Layer Size: 64, Optimizer: Adam\n",
      "Hidden Layers: 0, Hidden Layer Size: 128, Optimizer: Adam\n",
      "Hidden Layers: 0, Hidden Layer Size: 256, Optimizer: Adam\n",
      "Hidden Layers: 1, Hidden Layer Size: 32, Optimizer: Adam\n",
      "Hidden Layers: 1, Hidden Layer Size: 64, Optimizer: Adam\n",
      "Hidden Layers: 1, Hidden Layer Size: 128, Optimizer: Adam\n",
      "Hidden Layers: 1, Hidden Layer Size: 256, Optimizer: Adam\n",
      "Hidden Layers: 2, Hidden Layer Size: 32, Optimizer: Adam\n",
      "Hidden Layers: 2, Hidden Layer Size: 64, Optimizer: Adam\n",
      "Hidden Layers: 2, Hidden Layer Size: 128, Optimizer: Adam\n",
      "Hidden Layers: 2, Hidden Layer Size: 256, Optimizer: Adam\n",
      "Hidden Layers: 3, Hidden Layer Size: 32, Optimizer: Adam\n",
      "Hidden Layers: 3, Hidden Layer Size: 64, Optimizer: Adam\n",
      "Hidden Layers: 3, Hidden Layer Size: 128, Optimizer: Adam\n",
      "Hidden Layers: 3, Hidden Layer Size: 256, Optimizer: Adam\n"
     ]
    }
   ],
   "source": [
    "best_accuracy = 0.0\n",
    "best_epochs_num = 0\n",
    "best_params = None\n",
    "\n",
    "for optimizer in optimizers:\n",
    "    for num_hidden_layers in num_hidden_layers_list:\n",
    "        for hidden_layer_size in hidden_layer_sizes:\n",
    "            print(f\"Hidden Layers: {num_hidden_layers}, Hidden Layer Size: {hidden_layer_size}, Optimizer: {optimizer}\")\n",
    "            accuracy, best_epochs_num = train_model_w_dr(num_hidden_layers, hidden_layer_size, optimizer, device)\n",
    "             # Check if current configuration has better accuracy\n",
    "            if accuracy > best_accuracy:\n",
    "                best_accuracy = accuracy\n",
    "                best_params = {\n",
    "                    \"num_hidden_layers\": num_hidden_layers,\n",
    "                    \"hidden_layer_size\": hidden_layer_size,\n",
    "                    \"optimizer\": optimizer\n",
    "                }"
   ]
  },
  {
   "cell_type": "code",
   "execution_count": 203,
   "metadata": {},
   "outputs": [
    {
     "name": "stdout",
     "output_type": "stream",
     "text": [
      "Best parameters with number of epochs:  60\n",
      "{'num_hidden_layers': 3, 'hidden_layer_size': 256, 'optimizer': 'SGD'}\n",
      "Best accuracy: tensor(0.8347, device='cuda:0')\n"
     ]
    }
   ],
   "source": [
    "print(\"Best parameters with number of epochs: \", best_epochs_num)\n",
    "print(best_params)\n",
    "print(\"Best accuracy:\", best_accuracy)\n",
    "#save accuracy, parameters and number of epochs\n",
    "best_accuracy_FF_Dr = best_accuracy\n",
    "best_epochs_num_FF_Dr = best_epochs_num\n",
    "best_params_FF_Dr = best_params"
   ]
  },
  {
   "cell_type": "markdown",
   "metadata": {},
   "source": [
    "As we can see using dropout didn't significantly improve the baasic FF model but also is worse than basic model with normalized data\n",
    "\n",
    "now try applying dropout method for normalized data"
   ]
  },
  {
   "cell_type": "code",
   "execution_count": 204,
   "metadata": {},
   "outputs": [
    {
     "name": "stdout",
     "output_type": "stream",
     "text": [
      "Hidden Layers: 0, Hidden Layer Size: 32, Optimizer: SGD\n",
      "Hidden Layers: 0, Hidden Layer Size: 64, Optimizer: SGD\n",
      "Hidden Layers: 0, Hidden Layer Size: 128, Optimizer: SGD\n",
      "Hidden Layers: 0, Hidden Layer Size: 256, Optimizer: SGD\n",
      "Hidden Layers: 1, Hidden Layer Size: 32, Optimizer: SGD\n",
      "Hidden Layers: 1, Hidden Layer Size: 64, Optimizer: SGD\n",
      "Hidden Layers: 1, Hidden Layer Size: 128, Optimizer: SGD\n",
      "Hidden Layers: 1, Hidden Layer Size: 256, Optimizer: SGD\n",
      "Hidden Layers: 2, Hidden Layer Size: 32, Optimizer: SGD\n",
      "Hidden Layers: 2, Hidden Layer Size: 64, Optimizer: SGD\n",
      "Hidden Layers: 2, Hidden Layer Size: 128, Optimizer: SGD\n",
      "Hidden Layers: 2, Hidden Layer Size: 256, Optimizer: SGD\n",
      "Hidden Layers: 3, Hidden Layer Size: 32, Optimizer: SGD\n",
      "Hidden Layers: 3, Hidden Layer Size: 64, Optimizer: SGD\n",
      "Hidden Layers: 3, Hidden Layer Size: 128, Optimizer: SGD\n",
      "Hidden Layers: 3, Hidden Layer Size: 256, Optimizer: SGD\n",
      "Hidden Layers: 0, Hidden Layer Size: 32, Optimizer: Adam\n",
      "Hidden Layers: 0, Hidden Layer Size: 64, Optimizer: Adam\n",
      "Hidden Layers: 0, Hidden Layer Size: 128, Optimizer: Adam\n",
      "Hidden Layers: 0, Hidden Layer Size: 256, Optimizer: Adam\n",
      "Hidden Layers: 1, Hidden Layer Size: 32, Optimizer: Adam\n",
      "Hidden Layers: 1, Hidden Layer Size: 64, Optimizer: Adam\n",
      "Hidden Layers: 1, Hidden Layer Size: 128, Optimizer: Adam\n",
      "Hidden Layers: 1, Hidden Layer Size: 256, Optimizer: Adam\n",
      "Hidden Layers: 2, Hidden Layer Size: 32, Optimizer: Adam\n",
      "Hidden Layers: 2, Hidden Layer Size: 64, Optimizer: Adam\n",
      "Hidden Layers: 2, Hidden Layer Size: 128, Optimizer: Adam\n",
      "Hidden Layers: 2, Hidden Layer Size: 256, Optimizer: Adam\n",
      "Hidden Layers: 3, Hidden Layer Size: 32, Optimizer: Adam\n",
      "Hidden Layers: 3, Hidden Layer Size: 64, Optimizer: Adam\n",
      "Hidden Layers: 3, Hidden Layer Size: 128, Optimizer: Adam\n",
      "Hidden Layers: 3, Hidden Layer Size: 256, Optimizer: Adam\n"
     ]
    }
   ],
   "source": [
    "best_accuracy = 0.0\n",
    "best_epochs_num = 0\n",
    "best_params = None\n",
    "\n",
    "for optimizer in optimizers:\n",
    "    for num_hidden_layers in num_hidden_layers_list:\n",
    "        for hidden_layer_size in hidden_layer_sizes:\n",
    "            print(f\"Hidden Layers: {num_hidden_layers}, Hidden Layer Size: {hidden_layer_size}, Optimizer: {optimizer}\")\n",
    "            accuracy, best_epochs_num = train_model_w_dr(num_hidden_layers, hidden_layer_size, optimizer, device, True)\n",
    "             # Check if current configuration has better accuracy\n",
    "            if accuracy > best_accuracy:\n",
    "                best_accuracy = accuracy\n",
    "                best_params = {\n",
    "                    \"num_hidden_layers\": num_hidden_layers,\n",
    "                    \"hidden_layer_size\": hidden_layer_size,\n",
    "                    \"optimizer\": optimizer\n",
    "                }"
   ]
  },
  {
   "cell_type": "code",
   "execution_count": 205,
   "metadata": {},
   "outputs": [
    {
     "name": "stdout",
     "output_type": "stream",
     "text": [
      "Best parameters with number of epochs:  70\n",
      "{'num_hidden_layers': 0, 'hidden_layer_size': 256, 'optimizer': 'Adam'}\n",
      "Best accuracy: tensor(0.8442, device='cuda:0')\n"
     ]
    }
   ],
   "source": [
    "print(\"Best parameters with number of epochs: \", best_epochs_num)\n",
    "print(best_params)\n",
    "print(\"Best accuracy:\", best_accuracy)\n",
    "#save accuracy, parameters and number of epochs\n",
    "best_accuracy_FF_Dr_n = best_accuracy\n",
    "best_epochs_num_FF_Dr_n = best_epochs_num\n",
    "best_params_FF_Dr_n = best_params"
   ]
  },
  {
   "cell_type": "markdown",
   "metadata": {},
   "source": [
    "Try dropout + L1:"
   ]
  },
  {
   "cell_type": "code",
   "execution_count": 20,
   "metadata": {},
   "outputs": [],
   "source": [
    "def train_one_epoch_lreg(model, loss_fn, optimizer, training_loader, device, l_alpha = 0.1):\n",
    "    running_cum_loss = 0.\n",
    "\n",
    "    # tqdm is used for nice progress visualisation\n",
    "    for i, data in enumerate(training_loader):\n",
    "        # Every data instance is an input + label pair\n",
    "        inputs, labels = data[0].to(device), data[1].to(device)\n",
    "\n",
    "        # Zero your gradients for every batch!\n",
    "        optimizer.zero_grad()\n",
    "\n",
    "        # Make predictions for this batch\n",
    "        outputs = model(inputs)\n",
    "\n",
    "        # Compute the loss and its gradients\n",
    "        loss = loss_fn(outputs, labels)\n",
    "        \n",
    "        # compute the penalization\n",
    "        l_reg = torch.tensor(0.).to(device)\n",
    "        l_reg += torch.linalg.vector_norm(model.layers[model.num_hidden_layers+1].weight.flatten(),1)\n",
    "        \n",
    "        loss = loss + l_alpha*l_reg.to(device)\n",
    "        \n",
    "        # Backpropagation\n",
    "        loss.backward()\n",
    "\n",
    "        # Adjust learning weights\n",
    "        optimizer.step()\n",
    "\n",
    "        # Gather data and report\n",
    "        last_mean_loss = loss.item()\n",
    "        running_cum_loss += last_mean_loss * inputs.shape[0]\n",
    "            \n",
    "    # Return of the average over the whole training set\n",
    "    return running_cum_loss / len(train_data)"
   ]
  },
  {
   "cell_type": "code",
   "execution_count": 21,
   "metadata": {},
   "outputs": [],
   "source": [
    "def train_model_w_dr_L1(num_hidden_layers, hidden_layer_size, optimizer, device, normalized=False, EPOCHS=1000, lr=0.001, early_stop_epochs=20):\n",
    "    model = MyNet_drop(hidden_layer_size, num_hidden_layers).to(device)\n",
    "    loss_fn = nn.CrossEntropyLoss()\n",
    "    if optimizer == \"Adam\":\n",
    "        optimizer = torch.optim.Adam(model.parameters(), lr=lr)\n",
    "    else: \n",
    "        optimizer = torch.optim.SGD(model.parameters(), lr=lr)\n",
    "    best_vacc = 0.0  # Best validation accuracy\n",
    "    epochs_without_improvement = 0  # Count of epochs without improvement\n",
    "    best_epochs_num = 0 \n",
    "    if normalized:\n",
    "        T_loader = training_loader_norm\n",
    "        V_loader = validation_loader_norm\n",
    "    else:\n",
    "        T_loader = training_loader\n",
    "        V_loader = validation_loader\n",
    "    for epoch in range(EPOCHS):\n",
    "        #print('EPOCH {}:'.format(epoch + 1))\n",
    "        \n",
    "        # One training step\n",
    "        avg_loss = train_one_epoch_lreg(model, loss_fn, optimizer, T_loader, device)\n",
    "        \n",
    "        # Validation performance\n",
    "        running_cum_vloss = 0.0\n",
    "        vcorrect = 0\n",
    "        for i, vdata in enumerate(V_loader):\n",
    "            vinputs, vlabels = vdata[0].to(device), vdata[1].to(device)  # Move validation data to device\n",
    "            with torch.no_grad():\n",
    "                voutputs = model(vinputs)\n",
    "                vloss = loss_fn(voutputs, vlabels)\n",
    "            running_cum_vloss += vloss * vinputs.shape[0]\n",
    "            # Count the correctly classified samples\n",
    "            vcorrect += (voutputs.argmax(1) == vlabels).float().sum()\n",
    "        \n",
    "        # Get average loss and accuracy\n",
    "        avg_vloss = running_cum_vloss / len(V_loader.dataset)\n",
    "        vacc = vcorrect / len(V_loader.dataset)\n",
    "        \n",
    "        #print(f\"TRAIN loss: {avg_loss:.3f}, VALIDATION loss: {avg_vloss:.3f}, accuracy: {vacc:.3f}\")\n",
    "        \n",
    "        # Check if validation accuracy improved\n",
    "        if vacc > best_vacc:\n",
    "            best_vacc = vacc\n",
    "            best_epochs_num = epoch\n",
    "            epochs_without_improvement = 0\n",
    "        else:\n",
    "            epochs_without_improvement += 1\n",
    "        \n",
    "        # Check for early stopping\n",
    "        if epochs_without_improvement >= early_stop_epochs:\n",
    "            #print(f\"Validation accuracy did not improve for {early_stop_epochs} epochs. Stopping training.\")\n",
    "            break\n",
    "\n",
    "    #print(\"Training finished. Best accuracy was: \", best_vacc)\n",
    "    return best_vacc,best_epochs_num"
   ]
  },
  {
   "cell_type": "code",
   "execution_count": 208,
   "metadata": {},
   "outputs": [
    {
     "name": "stdout",
     "output_type": "stream",
     "text": [
      "Hidden Layers: 0, Hidden Layer Size: 32, Optimizer: SGD\n",
      "Hidden Layers: 0, Hidden Layer Size: 64, Optimizer: SGD\n",
      "Hidden Layers: 0, Hidden Layer Size: 128, Optimizer: SGD\n",
      "Hidden Layers: 0, Hidden Layer Size: 256, Optimizer: SGD\n",
      "Hidden Layers: 1, Hidden Layer Size: 32, Optimizer: SGD\n",
      "Hidden Layers: 1, Hidden Layer Size: 64, Optimizer: SGD\n",
      "Hidden Layers: 1, Hidden Layer Size: 128, Optimizer: SGD\n",
      "Hidden Layers: 1, Hidden Layer Size: 256, Optimizer: SGD\n",
      "Hidden Layers: 2, Hidden Layer Size: 32, Optimizer: SGD\n",
      "Hidden Layers: 2, Hidden Layer Size: 64, Optimizer: SGD\n",
      "Hidden Layers: 2, Hidden Layer Size: 128, Optimizer: SGD\n",
      "Hidden Layers: 2, Hidden Layer Size: 256, Optimizer: SGD\n",
      "Hidden Layers: 3, Hidden Layer Size: 32, Optimizer: SGD\n",
      "Hidden Layers: 3, Hidden Layer Size: 64, Optimizer: SGD\n",
      "Hidden Layers: 3, Hidden Layer Size: 128, Optimizer: SGD\n",
      "Hidden Layers: 3, Hidden Layer Size: 256, Optimizer: SGD\n",
      "Hidden Layers: 0, Hidden Layer Size: 32, Optimizer: Adam\n",
      "Hidden Layers: 0, Hidden Layer Size: 64, Optimizer: Adam\n",
      "Hidden Layers: 0, Hidden Layer Size: 128, Optimizer: Adam\n",
      "Hidden Layers: 0, Hidden Layer Size: 256, Optimizer: Adam\n",
      "Hidden Layers: 1, Hidden Layer Size: 32, Optimizer: Adam\n",
      "Hidden Layers: 1, Hidden Layer Size: 64, Optimizer: Adam\n",
      "Hidden Layers: 1, Hidden Layer Size: 128, Optimizer: Adam\n",
      "Hidden Layers: 1, Hidden Layer Size: 256, Optimizer: Adam\n",
      "Hidden Layers: 2, Hidden Layer Size: 32, Optimizer: Adam\n",
      "Hidden Layers: 2, Hidden Layer Size: 64, Optimizer: Adam\n",
      "Hidden Layers: 2, Hidden Layer Size: 128, Optimizer: Adam\n",
      "Hidden Layers: 2, Hidden Layer Size: 256, Optimizer: Adam\n",
      "Hidden Layers: 3, Hidden Layer Size: 32, Optimizer: Adam\n",
      "Hidden Layers: 3, Hidden Layer Size: 64, Optimizer: Adam\n",
      "Hidden Layers: 3, Hidden Layer Size: 128, Optimizer: Adam\n",
      "Hidden Layers: 3, Hidden Layer Size: 256, Optimizer: Adam\n"
     ]
    }
   ],
   "source": [
    "best_accuracy = 0.0\n",
    "best_epochs_num = 0\n",
    "best_params = None\n",
    "\n",
    "for optimizer in optimizers:\n",
    "    for num_hidden_layers in num_hidden_layers_list:\n",
    "        for hidden_layer_size in hidden_layer_sizes:\n",
    "            print(f\"Hidden Layers: {num_hidden_layers}, Hidden Layer Size: {hidden_layer_size}, Optimizer: {optimizer}\")\n",
    "            accuracy, best_epochs_num = train_model_w_dr_L1(num_hidden_layers, hidden_layer_size, optimizer, device)\n",
    "             # Check if current configuration has better accuracy\n",
    "            if accuracy > best_accuracy:\n",
    "                best_accuracy = accuracy\n",
    "                best_params = {\n",
    "                    \"num_hidden_layers\": num_hidden_layers,\n",
    "                    \"hidden_layer_size\": hidden_layer_size,\n",
    "                    \"optimizer\": optimizer\n",
    "                }"
   ]
  },
  {
   "cell_type": "code",
   "execution_count": 209,
   "metadata": {},
   "outputs": [
    {
     "name": "stdout",
     "output_type": "stream",
     "text": [
      "Best parameters with number of epochs:  28\n",
      "{'num_hidden_layers': 1, 'hidden_layer_size': 256, 'optimizer': 'SGD'}\n",
      "Best accuracy: tensor(0.8275, device='cuda:0')\n"
     ]
    }
   ],
   "source": [
    "print(\"Best parameters with number of epochs: \", best_epochs_num)\n",
    "print(best_params)\n",
    "print(\"Best accuracy:\", best_accuracy)\n",
    "#save accuracy, parameters and number of epochs\n",
    "best_accuracy_FF_Dr_R1 = best_accuracy\n",
    "best_epochs_num_FF_Dr_R1 = best_epochs_num\n",
    "best_params_FF_Dr_R1 = best_params"
   ]
  },
  {
   "cell_type": "markdown",
   "metadata": {},
   "source": [
    "with normalized data:"
   ]
  },
  {
   "cell_type": "code",
   "execution_count": 210,
   "metadata": {},
   "outputs": [
    {
     "name": "stdout",
     "output_type": "stream",
     "text": [
      "Hidden Layers: 0, Hidden Layer Size: 32, Optimizer: SGD\n",
      "Hidden Layers: 0, Hidden Layer Size: 64, Optimizer: SGD\n",
      "Hidden Layers: 0, Hidden Layer Size: 128, Optimizer: SGD\n",
      "Hidden Layers: 0, Hidden Layer Size: 256, Optimizer: SGD\n",
      "Hidden Layers: 1, Hidden Layer Size: 32, Optimizer: SGD\n",
      "Hidden Layers: 1, Hidden Layer Size: 64, Optimizer: SGD\n",
      "Hidden Layers: 1, Hidden Layer Size: 128, Optimizer: SGD\n",
      "Hidden Layers: 1, Hidden Layer Size: 256, Optimizer: SGD\n",
      "Hidden Layers: 2, Hidden Layer Size: 32, Optimizer: SGD\n",
      "Hidden Layers: 2, Hidden Layer Size: 64, Optimizer: SGD\n",
      "Hidden Layers: 2, Hidden Layer Size: 128, Optimizer: SGD\n",
      "Hidden Layers: 2, Hidden Layer Size: 256, Optimizer: SGD\n",
      "Hidden Layers: 3, Hidden Layer Size: 32, Optimizer: SGD\n",
      "Hidden Layers: 3, Hidden Layer Size: 64, Optimizer: SGD\n",
      "Hidden Layers: 3, Hidden Layer Size: 128, Optimizer: SGD\n",
      "Hidden Layers: 3, Hidden Layer Size: 256, Optimizer: SGD\n",
      "Hidden Layers: 0, Hidden Layer Size: 32, Optimizer: Adam\n",
      "Hidden Layers: 0, Hidden Layer Size: 64, Optimizer: Adam\n",
      "Hidden Layers: 0, Hidden Layer Size: 128, Optimizer: Adam\n",
      "Hidden Layers: 0, Hidden Layer Size: 256, Optimizer: Adam\n",
      "Hidden Layers: 1, Hidden Layer Size: 32, Optimizer: Adam\n",
      "Hidden Layers: 1, Hidden Layer Size: 64, Optimizer: Adam\n",
      "Hidden Layers: 1, Hidden Layer Size: 128, Optimizer: Adam\n",
      "Hidden Layers: 1, Hidden Layer Size: 256, Optimizer: Adam\n",
      "Hidden Layers: 2, Hidden Layer Size: 32, Optimizer: Adam\n",
      "Hidden Layers: 2, Hidden Layer Size: 64, Optimizer: Adam\n",
      "Hidden Layers: 2, Hidden Layer Size: 128, Optimizer: Adam\n",
      "Hidden Layers: 2, Hidden Layer Size: 256, Optimizer: Adam\n",
      "Hidden Layers: 3, Hidden Layer Size: 32, Optimizer: Adam\n",
      "Hidden Layers: 3, Hidden Layer Size: 64, Optimizer: Adam\n",
      "Hidden Layers: 3, Hidden Layer Size: 128, Optimizer: Adam\n",
      "Hidden Layers: 3, Hidden Layer Size: 256, Optimizer: Adam\n"
     ]
    }
   ],
   "source": [
    "best_accuracy = 0.0\n",
    "best_epochs_num = 0\n",
    "best_params = None\n",
    "\n",
    "for optimizer in optimizers:\n",
    "    for num_hidden_layers in num_hidden_layers_list:\n",
    "        for hidden_layer_size in hidden_layer_sizes:\n",
    "            print(f\"Hidden Layers: {num_hidden_layers}, Hidden Layer Size: {hidden_layer_size}, Optimizer: {optimizer}\")\n",
    "            accuracy, best_epochs_num = train_model_w_dr_L1(num_hidden_layers, hidden_layer_size, optimizer, device, True)\n",
    "             # Check if current configuration has better accuracy\n",
    "            if accuracy > best_accuracy:\n",
    "                best_accuracy = accuracy\n",
    "                best_params = {\n",
    "                    \"num_hidden_layers\": num_hidden_layers,\n",
    "                    \"hidden_layer_size\": hidden_layer_size,\n",
    "                    \"optimizer\": optimizer\n",
    "                }"
   ]
  },
  {
   "cell_type": "code",
   "execution_count": 212,
   "metadata": {},
   "outputs": [
    {
     "name": "stdout",
     "output_type": "stream",
     "text": [
      "Best parameters with number of epochs:  50\n",
      "{'num_hidden_layers': 1, 'hidden_layer_size': 256, 'optimizer': 'Adam'}\n",
      "Best accuracy: tensor(0.8414, device='cuda:0')\n"
     ]
    }
   ],
   "source": [
    "print(\"Best parameters with number of epochs: \", best_epochs_num)\n",
    "print(best_params)\n",
    "print(\"Best accuracy:\", best_accuracy)\n",
    "#save accuracy, parameters and number of epochs\n",
    "best_accuracy_FF_Dr_R1_n = best_accuracy\n",
    "best_epochs_num_FF_Dr_R1_n = best_epochs_num\n",
    "best_params_FF_Dr_R1_n = best_params"
   ]
  },
  {
   "cell_type": "markdown",
   "metadata": {},
   "source": [
    "As we can see, neither dropout nor dropout + R1 improved the accuracy. Simple FF model trained on normalized data seems to have the best result.\n",
    "\n",
    "A convolutional neural network should provide us with better accuracy, as these networks are primarily used for working with images:"
   ]
  },
  {
   "cell_type": "code",
   "execution_count": 23,
   "metadata": {},
   "outputs": [],
   "source": [
    "#first reshape flattened image vektor to 32*32 matrix\n",
    "\n",
    "\n",
    "def reshape_dataset(dataset):\n",
    "    reshaped_dataset = []\n",
    "    for data, label in dataset:\n",
    "        # Reshape data tensor to [32, 32]\n",
    "        reshaped_data = torch.reshape(data, (32, 32)).to(device)\n",
    "        # Add a singleton dimension for the channel\n",
    "        reshaped_data = reshaped_data.unsqueeze(0)\n",
    "        # Reshape label tensor to [1]\n",
    "        reshaped_dataset.append((reshaped_data, label))\n",
    "    return reshaped_dataset\n",
    "\n",
    "\n",
    "# Create reshaped datasets\n",
    "train_data_reshaped = reshape_dataset(train_data)\n",
    "val_data_reshaped = reshape_dataset(val_data)\n",
    "test_data_reshaped = reshape_dataset(test_data)\n",
    "train_data_reshaped_norm = reshape_dataset(train_data_norm)\n",
    "val_data_reshaped_norm = reshape_dataset(val_data_norm)\n",
    "test_data_reshaped_norm = reshape_dataset(test_data_norm)"
   ]
  },
  {
   "cell_type": "code",
   "execution_count": 24,
   "metadata": {},
   "outputs": [
    {
     "name": "stdout",
     "output_type": "stream",
     "text": [
      "torch.Size([1, 32, 32])\n"
     ]
    }
   ],
   "source": [
    "#show it:\n",
    "print(train_data_reshaped[0][0].shape)\n",
    "#done\n",
    "\n",
    "training_loader_reshaped = torch.utils.data.DataLoader(train_data_reshaped, batch_size=32, shuffle=True)\n",
    "validation_loader_reshaped = torch.utils.data.DataLoader(val_data_reshaped, batch_size=128, shuffle=False)\n",
    "test_loader_reshaped = torch.utils.data.DataLoader(test_data_reshaped, batch_size=128, shuffle=False)\n",
    "training_loader_reshaped_norm = torch.utils.data.DataLoader(train_data_reshaped_norm, batch_size=32, shuffle=True)\n",
    "validation_loader_reshaped_norm = torch.utils.data.DataLoader(val_data_reshaped_norm, batch_size=128, shuffle=False)\n",
    "test_loader_reshaped_norm = torch.utils.data.DataLoader(test_data_reshaped_norm, batch_size=128, shuffle=False)\n",
    "\n",
    "# dataiter_reshaped = iter(training_loader_reshaped)"
   ]
  },
  {
   "cell_type": "code",
   "execution_count": 25,
   "metadata": {},
   "outputs": [
    {
     "name": "stdout",
     "output_type": "stream",
     "text": [
      "torch.Size([32, 1, 32, 32])\n",
      "torch.Size([32])\n"
     ]
    }
   ],
   "source": [
    "dataiter_reshaped = iter(training_loader_reshaped)\n",
    "images, labels = next(dataiter_reshaped)\n",
    "print(images.shape)\n",
    "print(labels.shape)"
   ]
  },
  {
   "cell_type": "markdown",
   "metadata": {},
   "source": [
    "Create a convolutional neural network:"
   ]
  },
  {
   "cell_type": "code",
   "execution_count": 26,
   "metadata": {},
   "outputs": [
    {
     "name": "stdout",
     "output_type": "stream",
     "text": [
      "torch.Size([32, 1, 32, 32]) torch.Size([32, 10]) tensor(2, device='cuda:0')\n"
     ]
    }
   ],
   "source": [
    "class MyCNN(nn.Module):\n",
    "    def __init__(self, num_conv_layers, num_hidden_layers, hidden_layer_size, kernel_size=2):\n",
    "        super(MyCNN, self).__init__()\n",
    "        \n",
    "        self.num_conv_layers = num_conv_layers\n",
    "        \n",
    "        self.kernel_size = kernel_size\n",
    "        \n",
    "        self.hidden_layers = nn.ModuleList()\n",
    "        self.hidden_layer_size = hidden_layer_size\n",
    "\n",
    "        width = 32\n",
    "        input_size = width\n",
    "        \n",
    "        # Add convolutional layers\n",
    "        self.conv_layers = nn.ModuleList()\n",
    "        in_channels = 1 # for first layer\n",
    "        for _ in range(num_conv_layers):\n",
    "            conv_layer = nn.Conv2d(in_channels = in_channels, out_channels = 32, kernel_size = 3)\n",
    "            self.conv_layers.append(conv_layer)\n",
    "            in_channels = 32\n",
    "            input_size = int((input_size - 3 + 1)/2)\n",
    "            \n",
    "        # Max pooling layer\n",
    "        self.pool = nn.MaxPool2d(kernel_size = kernel_size, stride=2)\n",
    "        input_size = 32 * input_size * input_size\n",
    "        for _ in range(num_hidden_layers):\n",
    "            hidden_layer = nn.Linear(input_size, hidden_layer_size)\n",
    "            self.hidden_layers.append(hidden_layer)\n",
    "            input_size = hidden_layer_size\n",
    "        \n",
    "        # Fully connected layers\n",
    "        self.fco = nn.Linear(input_size, 10)\n",
    "        \n",
    "    def forward(self, x):\n",
    "         # Apply convolutional layers\n",
    "        for conv_layer in self.conv_layers:\n",
    "            x = F.relu(conv_layer(x))\n",
    "            x = self.pool(x)\n",
    "        \n",
    "        # Flatten the output\n",
    "        x = x.flatten(start_dim = 1)\n",
    "        \n",
    "        # Apply hidden layers\n",
    "        for hidden_layer in self.hidden_layers:\n",
    "            x = F.relu(hidden_layer(x))\n",
    "        \n",
    "        x = self.fco(x)\n",
    "        return x\n",
    "\n",
    "\n",
    "model = MyCNN(3,2,32,2).to(device)\n",
    "outputs = model(images)\n",
    "print(images.shape, outputs.shape, labels[1])"
   ]
  },
  {
   "cell_type": "code",
   "execution_count": 27,
   "metadata": {},
   "outputs": [],
   "source": [
    "def train_model_CNN(num_conv_layers, num_hidden_layers, hidden_layer_size, optimizer, device, normalized=False, EPOCHS=1000, lr=0.001, early_stop_epochs=20):\n",
    "    model = MyCNN(num_conv_layers, num_hidden_layers, hidden_layer_size).to(device)\n",
    "    loss_fn = nn.CrossEntropyLoss()\n",
    "    if optimizer == \"Adam\":\n",
    "        optimizer = torch.optim.Adam(model.parameters(), lr=lr)\n",
    "    else: \n",
    "        optimizer = torch.optim.SGD(model.parameters(), lr=lr)\n",
    "    best_vacc = 0.0  # Best validation accuracy\n",
    "    epochs_without_improvement = 0  # Count of epochs without improvement\n",
    "    best_epochs_num = 0 \n",
    "    if normalized:\n",
    "        T_loader = training_loader_reshaped_norm\n",
    "        V_loader = validation_loader_reshaped_norm\n",
    "    else:\n",
    "        T_loader = training_loader_reshaped\n",
    "        V_loader = validation_loader_reshaped\n",
    "    for epoch in range(EPOCHS):\n",
    "        #print('EPOCH {}:'.format(epoch + 1))\n",
    "        \n",
    "        # One training step\n",
    "        avg_loss = train_one_epoch(model, loss_fn, optimizer, T_loader, device)\n",
    "        \n",
    "        # Validation performance\n",
    "        running_cum_vloss = 0.0\n",
    "        vcorrect = 0\n",
    "        for i, vdata in enumerate(V_loader):\n",
    "            vinputs, vlabels = vdata[0].to(device), vdata[1].to(device)  # Move validation data to device\n",
    "            with torch.no_grad():\n",
    "                voutputs = model(vinputs)\n",
    "                vloss = loss_fn(voutputs, vlabels)\n",
    "            running_cum_vloss += vloss * vinputs.shape[0]\n",
    "            # Count the correctly classified samples\n",
    "            vcorrect += (voutputs.argmax(1) == vlabels).float().sum()\n",
    "        \n",
    "        # Get average loss and accuracy\n",
    "        avg_vloss = running_cum_vloss / len(V_loader.dataset)\n",
    "        vacc = vcorrect / len(V_loader.dataset)\n",
    "        \n",
    "        #print(f\"TRAIN loss: {avg_loss:.3f}, VALIDATION loss: {avg_vloss:.3f}, accuracy: {vacc:.3f}\")\n",
    "        \n",
    "        # Check if validation accuracy improved\n",
    "        if vacc > best_vacc:\n",
    "            best_vacc = vacc\n",
    "            best_epochs_num = epoch\n",
    "            epochs_without_improvement = 0\n",
    "        else:\n",
    "            epochs_without_improvement += 1\n",
    "        \n",
    "        # Check for early stopping\n",
    "        if epochs_without_improvement >= early_stop_epochs:\n",
    "            #print(f\"Validation accuracy did not improve for {early_stop_epochs} epochs. Stopping training.\")\n",
    "            break\n",
    "\n",
    "    #print(\"Training finished. Best accuracy was: \", best_vacc)\n",
    "    return best_vacc,best_epochs_num"
   ]
  },
  {
   "cell_type": "code",
   "execution_count": 450,
   "metadata": {},
   "outputs": [
    {
     "name": "stdout",
     "output_type": "stream",
     "text": [
      "Conv_layers: 1, Hidden Layers: 0, Hidden Layer Size: 32, Optimizer: SGD\n",
      "Conv_layers: 1, Hidden Layers: 0, Hidden Layer Size: 64, Optimizer: SGD\n",
      "Conv_layers: 1, Hidden Layers: 0, Hidden Layer Size: 128, Optimizer: SGD\n",
      "Conv_layers: 1, Hidden Layers: 0, Hidden Layer Size: 256, Optimizer: SGD\n",
      "Conv_layers: 1, Hidden Layers: 1, Hidden Layer Size: 32, Optimizer: SGD\n",
      "Conv_layers: 1, Hidden Layers: 1, Hidden Layer Size: 64, Optimizer: SGD\n",
      "Conv_layers: 1, Hidden Layers: 1, Hidden Layer Size: 128, Optimizer: SGD\n",
      "Conv_layers: 1, Hidden Layers: 1, Hidden Layer Size: 256, Optimizer: SGD\n",
      "Conv_layers: 1, Hidden Layers: 2, Hidden Layer Size: 32, Optimizer: SGD\n",
      "Conv_layers: 1, Hidden Layers: 2, Hidden Layer Size: 64, Optimizer: SGD\n",
      "Conv_layers: 1, Hidden Layers: 2, Hidden Layer Size: 128, Optimizer: SGD\n",
      "Conv_layers: 1, Hidden Layers: 2, Hidden Layer Size: 256, Optimizer: SGD\n",
      "Conv_layers: 1, Hidden Layers: 3, Hidden Layer Size: 32, Optimizer: SGD\n",
      "Conv_layers: 1, Hidden Layers: 3, Hidden Layer Size: 64, Optimizer: SGD\n",
      "Conv_layers: 1, Hidden Layers: 3, Hidden Layer Size: 128, Optimizer: SGD\n",
      "Conv_layers: 1, Hidden Layers: 3, Hidden Layer Size: 256, Optimizer: SGD\n",
      "Conv_layers: 2, Hidden Layers: 0, Hidden Layer Size: 32, Optimizer: SGD\n",
      "Conv_layers: 2, Hidden Layers: 0, Hidden Layer Size: 64, Optimizer: SGD\n",
      "Conv_layers: 2, Hidden Layers: 0, Hidden Layer Size: 128, Optimizer: SGD\n",
      "Conv_layers: 2, Hidden Layers: 0, Hidden Layer Size: 256, Optimizer: SGD\n",
      "Conv_layers: 2, Hidden Layers: 1, Hidden Layer Size: 32, Optimizer: SGD\n",
      "Conv_layers: 2, Hidden Layers: 1, Hidden Layer Size: 64, Optimizer: SGD\n",
      "Conv_layers: 2, Hidden Layers: 1, Hidden Layer Size: 128, Optimizer: SGD\n",
      "Conv_layers: 2, Hidden Layers: 1, Hidden Layer Size: 256, Optimizer: SGD\n",
      "Conv_layers: 2, Hidden Layers: 2, Hidden Layer Size: 32, Optimizer: SGD\n",
      "Conv_layers: 2, Hidden Layers: 2, Hidden Layer Size: 64, Optimizer: SGD\n",
      "Conv_layers: 2, Hidden Layers: 2, Hidden Layer Size: 128, Optimizer: SGD\n",
      "Conv_layers: 2, Hidden Layers: 2, Hidden Layer Size: 256, Optimizer: SGD\n",
      "Conv_layers: 2, Hidden Layers: 3, Hidden Layer Size: 32, Optimizer: SGD\n",
      "Conv_layers: 2, Hidden Layers: 3, Hidden Layer Size: 64, Optimizer: SGD\n",
      "Conv_layers: 2, Hidden Layers: 3, Hidden Layer Size: 128, Optimizer: SGD\n",
      "Conv_layers: 2, Hidden Layers: 3, Hidden Layer Size: 256, Optimizer: SGD\n",
      "Conv_layers: 3, Hidden Layers: 0, Hidden Layer Size: 32, Optimizer: SGD\n",
      "Conv_layers: 3, Hidden Layers: 0, Hidden Layer Size: 64, Optimizer: SGD\n",
      "Conv_layers: 3, Hidden Layers: 0, Hidden Layer Size: 128, Optimizer: SGD\n",
      "Conv_layers: 3, Hidden Layers: 0, Hidden Layer Size: 256, Optimizer: SGD\n",
      "Conv_layers: 3, Hidden Layers: 1, Hidden Layer Size: 32, Optimizer: SGD\n",
      "Conv_layers: 3, Hidden Layers: 1, Hidden Layer Size: 64, Optimizer: SGD\n",
      "Conv_layers: 3, Hidden Layers: 1, Hidden Layer Size: 128, Optimizer: SGD\n",
      "Conv_layers: 3, Hidden Layers: 1, Hidden Layer Size: 256, Optimizer: SGD\n",
      "Conv_layers: 3, Hidden Layers: 2, Hidden Layer Size: 32, Optimizer: SGD\n",
      "Conv_layers: 3, Hidden Layers: 2, Hidden Layer Size: 64, Optimizer: SGD\n",
      "Conv_layers: 3, Hidden Layers: 2, Hidden Layer Size: 128, Optimizer: SGD\n",
      "Conv_layers: 3, Hidden Layers: 2, Hidden Layer Size: 256, Optimizer: SGD\n",
      "Conv_layers: 3, Hidden Layers: 3, Hidden Layer Size: 32, Optimizer: SGD\n",
      "Conv_layers: 3, Hidden Layers: 3, Hidden Layer Size: 64, Optimizer: SGD\n",
      "Conv_layers: 3, Hidden Layers: 3, Hidden Layer Size: 128, Optimizer: SGD\n",
      "Conv_layers: 3, Hidden Layers: 3, Hidden Layer Size: 256, Optimizer: SGD\n",
      "Conv_layers: 1, Hidden Layers: 0, Hidden Layer Size: 32, Optimizer: Adam\n",
      "Conv_layers: 1, Hidden Layers: 0, Hidden Layer Size: 64, Optimizer: Adam\n",
      "Conv_layers: 1, Hidden Layers: 0, Hidden Layer Size: 128, Optimizer: Adam\n",
      "Conv_layers: 1, Hidden Layers: 0, Hidden Layer Size: 256, Optimizer: Adam\n",
      "Conv_layers: 1, Hidden Layers: 1, Hidden Layer Size: 32, Optimizer: Adam\n",
      "Conv_layers: 1, Hidden Layers: 1, Hidden Layer Size: 64, Optimizer: Adam\n",
      "Conv_layers: 1, Hidden Layers: 1, Hidden Layer Size: 128, Optimizer: Adam\n",
      "Conv_layers: 1, Hidden Layers: 1, Hidden Layer Size: 256, Optimizer: Adam\n",
      "Conv_layers: 1, Hidden Layers: 2, Hidden Layer Size: 32, Optimizer: Adam\n",
      "Conv_layers: 1, Hidden Layers: 2, Hidden Layer Size: 64, Optimizer: Adam\n",
      "Conv_layers: 1, Hidden Layers: 2, Hidden Layer Size: 128, Optimizer: Adam\n",
      "Conv_layers: 1, Hidden Layers: 2, Hidden Layer Size: 256, Optimizer: Adam\n",
      "Conv_layers: 1, Hidden Layers: 3, Hidden Layer Size: 32, Optimizer: Adam\n",
      "Conv_layers: 1, Hidden Layers: 3, Hidden Layer Size: 64, Optimizer: Adam\n",
      "Conv_layers: 1, Hidden Layers: 3, Hidden Layer Size: 128, Optimizer: Adam\n",
      "Conv_layers: 1, Hidden Layers: 3, Hidden Layer Size: 256, Optimizer: Adam\n",
      "Conv_layers: 2, Hidden Layers: 0, Hidden Layer Size: 32, Optimizer: Adam\n",
      "Conv_layers: 2, Hidden Layers: 0, Hidden Layer Size: 64, Optimizer: Adam\n",
      "Conv_layers: 2, Hidden Layers: 0, Hidden Layer Size: 128, Optimizer: Adam\n",
      "Conv_layers: 2, Hidden Layers: 0, Hidden Layer Size: 256, Optimizer: Adam\n",
      "Conv_layers: 2, Hidden Layers: 1, Hidden Layer Size: 32, Optimizer: Adam\n",
      "Conv_layers: 2, Hidden Layers: 1, Hidden Layer Size: 64, Optimizer: Adam\n",
      "Conv_layers: 2, Hidden Layers: 1, Hidden Layer Size: 128, Optimizer: Adam\n",
      "Conv_layers: 2, Hidden Layers: 1, Hidden Layer Size: 256, Optimizer: Adam\n",
      "Conv_layers: 2, Hidden Layers: 2, Hidden Layer Size: 32, Optimizer: Adam\n",
      "Conv_layers: 2, Hidden Layers: 2, Hidden Layer Size: 64, Optimizer: Adam\n",
      "Conv_layers: 2, Hidden Layers: 2, Hidden Layer Size: 128, Optimizer: Adam\n",
      "Conv_layers: 2, Hidden Layers: 2, Hidden Layer Size: 256, Optimizer: Adam\n",
      "Conv_layers: 2, Hidden Layers: 3, Hidden Layer Size: 32, Optimizer: Adam\n",
      "Conv_layers: 2, Hidden Layers: 3, Hidden Layer Size: 64, Optimizer: Adam\n",
      "Conv_layers: 2, Hidden Layers: 3, Hidden Layer Size: 128, Optimizer: Adam\n",
      "Conv_layers: 2, Hidden Layers: 3, Hidden Layer Size: 256, Optimizer: Adam\n",
      "Conv_layers: 3, Hidden Layers: 0, Hidden Layer Size: 32, Optimizer: Adam\n",
      "Conv_layers: 3, Hidden Layers: 0, Hidden Layer Size: 64, Optimizer: Adam\n",
      "Conv_layers: 3, Hidden Layers: 0, Hidden Layer Size: 128, Optimizer: Adam\n",
      "Conv_layers: 3, Hidden Layers: 0, Hidden Layer Size: 256, Optimizer: Adam\n",
      "Conv_layers: 3, Hidden Layers: 1, Hidden Layer Size: 32, Optimizer: Adam\n",
      "Conv_layers: 3, Hidden Layers: 1, Hidden Layer Size: 64, Optimizer: Adam\n",
      "Conv_layers: 3, Hidden Layers: 1, Hidden Layer Size: 128, Optimizer: Adam\n",
      "Conv_layers: 3, Hidden Layers: 1, Hidden Layer Size: 256, Optimizer: Adam\n",
      "Conv_layers: 3, Hidden Layers: 2, Hidden Layer Size: 32, Optimizer: Adam\n",
      "Conv_layers: 3, Hidden Layers: 2, Hidden Layer Size: 64, Optimizer: Adam\n",
      "Conv_layers: 3, Hidden Layers: 2, Hidden Layer Size: 128, Optimizer: Adam\n",
      "Conv_layers: 3, Hidden Layers: 2, Hidden Layer Size: 256, Optimizer: Adam\n",
      "Conv_layers: 3, Hidden Layers: 3, Hidden Layer Size: 32, Optimizer: Adam\n",
      "Conv_layers: 3, Hidden Layers: 3, Hidden Layer Size: 64, Optimizer: Adam\n",
      "Conv_layers: 3, Hidden Layers: 3, Hidden Layer Size: 128, Optimizer: Adam\n",
      "Conv_layers: 3, Hidden Layers: 3, Hidden Layer Size: 256, Optimizer: Adam\n"
     ]
    }
   ],
   "source": [
    "num_conv_layers_list = range(1,4)\n",
    "best_accuracy = 0.0\n",
    "best_epochs_num = 0\n",
    "best_params = None\n",
    "\n",
    "for optimizer in optimizers:\n",
    "    for num_conv_layers in num_conv_layers_list:\n",
    "        for num_hidden_layers in num_hidden_layers_list:\n",
    "            for hidden_layer_size in hidden_layer_sizes:\n",
    "                print(f\"Conv_layers: {num_conv_layers}, Hidden Layers: {num_hidden_layers}, Hidden Layer Size: {hidden_layer_size}, Optimizer: {optimizer}\")\n",
    "                accuracy, best_epochs_num = train_model_CNN(num_conv_layers, num_hidden_layers, hidden_layer_size, optimizer, device)\n",
    "                # Check if current configuration has better accuracy\n",
    "                if accuracy > best_accuracy:\n",
    "                    best_accuracy = accuracy\n",
    "                    best_params = {\n",
    "                            \"num_hidden_layers\": num_hidden_layers,\n",
    "                            \"hidden_layer_size\": hidden_layer_size,\n",
    "                            \"optimizer\": optimizer,\n",
    "                            \"num_conv_layer\": num_conv_layer\n",
    "                            \n",
    "                    }"
   ]
  },
  {
   "cell_type": "code",
   "execution_count": 451,
   "metadata": {},
   "outputs": [
    {
     "name": "stdout",
     "output_type": "stream",
     "text": [
      "Best parameters with number of epochs:  32\n",
      "{'num_hidden_layers': 3, 'hidden_layer_size': 256, 'optimizer': 'SGD', 'num_conv_layer': 1}\n",
      "Best accuracy: tensor(0.8862, device='cuda:0')\n"
     ]
    }
   ],
   "source": [
    "print(\"Best parameters with number of epochs: \", best_epochs_num)\n",
    "print(best_params)\n",
    "print(\"Best accuracy:\", best_accuracy)\n",
    "#save accuracy, parameters and number of epochs\n",
    "best_accuracy_CNN = best_accuracy\n",
    "best_epochs_num_CNN = best_epochs_num\n",
    "best_params_CNN = best_params"
   ]
  },
  {
   "cell_type": "code",
   "execution_count": 41,
   "metadata": {},
   "outputs": [
    {
     "name": "stdout",
     "output_type": "stream",
     "text": [
      "Conv_layers: 1, Hidden Layers: 3 , Hidden Layer Size: 256, Optimizer: SGD\n",
      "Conv_layers: 2, Hidden Layers: 3 , Hidden Layer Size: 256, Optimizer: SGD\n",
      "Conv_layers: 3, Hidden Layers: 3 , Hidden Layer Size: 256, Optimizer: SGD\n"
     ]
    }
   ],
   "source": [
    "# I made a typo with a num_conv layer parameter and also it didn't save best_number_epochs so I'll find it here:\n",
    "best_epochs_num_CNN = 0\n",
    "num_conv_layers_list = range(1,4)\n",
    "\n",
    "best_accuracy = 0.0\n",
    "best_epochs_num = 0\n",
    "best_params = None\n",
    "\n",
    "for num_conv_layers in num_conv_layers_list:\n",
    "    print(f\"Conv_layers: {num_conv_layers}, Hidden Layers: 3 , Hidden Layer Size: 256, Optimizer: SGD\")\n",
    "    accuracy, epochs_num = train_model_CNN(num_conv_layers, 3, 256, \"SGD\", device)\n",
    "    # Check if current configuration has better accuracy\n",
    "    if accuracy > best_accuracy:\n",
    "        best_epochs_num = epochs_num\n",
    "        best_accuracy = accuracy\n",
    "        best_params = {\n",
    "                            \"num_hidden_layers\": num_hidden_layers,\n",
    "                            \"hidden_layer_size\": hidden_layer_size,\n",
    "                            \"optimizer\": optimizer,\n",
    "                            \"num_conv_layer\": num_conv_layers\n",
    "                            \n",
    "                        }\n"
   ]
  },
  {
   "cell_type": "code",
   "execution_count": 42,
   "metadata": {},
   "outputs": [
    {
     "name": "stdout",
     "output_type": "stream",
     "text": [
      "Best parameters with number of epochs:  58\n",
      "{'num_hidden_layers': 0, 'hidden_layer_size': 32, 'optimizer': 'SGD', 'num_conv_layer': 2}\n",
      "Best accuracy: tensor(0.8841, device='cuda:0')\n"
     ]
    }
   ],
   "source": [
    "print(\"Best parameters with number of epochs: \", best_epochs_num)\n",
    "print(best_params)\n",
    "print(\"Best accuracy:\", best_accuracy)\n",
    "#save accuracy, parameters and number of epochs\n",
    "best_accuracy_CNN = best_accuracy\n",
    "best_epochs_num_CNN = best_epochs_num\n",
    "best_params_CNN = best_params"
   ]
  },
  {
   "cell_type": "markdown",
   "metadata": {},
   "source": [
    "As we can see CNN improved accuracy significantly  to ~0.885 accuracy. "
   ]
  },
  {
   "cell_type": "markdown",
   "metadata": {},
   "source": [
    "With dropout:"
   ]
  },
  {
   "cell_type": "markdown",
   "metadata": {},
   "source": [
    "Add dropout to the network:"
   ]
  },
  {
   "cell_type": "code",
   "execution_count": 28,
   "metadata": {},
   "outputs": [
    {
     "name": "stdout",
     "output_type": "stream",
     "text": [
      "torch.Size([32, 1, 32, 32]) torch.Size([32, 10]) tensor(2, device='cuda:0')\n"
     ]
    }
   ],
   "source": [
    "class MyCNN_w_dr(nn.Module):\n",
    "    def __init__(self, num_conv_layers, num_hidden_layers, hidden_layer_size, kernel_size=2):\n",
    "        super(MyCNN_w_dr, self).__init__()\n",
    "        \n",
    "        self.num_conv_layers = num_conv_layers\n",
    "        \n",
    "        self.kernel_size = kernel_size\n",
    "        \n",
    "        self.hidden_layers = nn.ModuleList()\n",
    "        self.hidden_layer_size = hidden_layer_size\n",
    "\n",
    "        self.conv_drop = nn.Dropout2d(p=0.1)\n",
    "\n",
    "        width = 32\n",
    "        input_size = width\n",
    "        \n",
    "        # Add convolutional layers\n",
    "        self.conv_layers = nn.ModuleList()\n",
    "        in_channels = 1 # for first layer\n",
    "        for _ in range(num_conv_layers):\n",
    "            conv_layer = nn.Conv2d(in_channels = in_channels, out_channels = 32, kernel_size = 3)\n",
    "            self.conv_layers.append(conv_layer)\n",
    "            in_channels = 32\n",
    "            input_size = int((input_size - 3 + 1)/2)\n",
    "            \n",
    "        # Max pooling layer\n",
    "        self.pool = nn.MaxPool2d(kernel_size = kernel_size, stride=2)\n",
    "        input_size = 32 * input_size * input_size\n",
    "        for _ in range(num_hidden_layers):\n",
    "            hidden_layer = nn.Linear(input_size, hidden_layer_size)\n",
    "            self.hidden_layers.append(hidden_layer)\n",
    "            input_size = hidden_layer_size\n",
    "        \n",
    "        # Fully connected layers\n",
    "        self.fco = nn.Linear(input_size, 10)\n",
    "        \n",
    "    def forward(self, x):\n",
    "         # Apply convolutional layers\n",
    "        for i, conv_layer in enumerate(self.conv_layers):\n",
    "            x = F.relu(conv_layer(x))\n",
    "            x = self.pool(x)\n",
    "            if i == 0:\n",
    "                x = self.conv_drop(x)\n",
    "        \n",
    "        # Flatten the output\n",
    "        x = x.flatten(start_dim = 1)\n",
    "        \n",
    "        # Apply hidden layers\n",
    "        for hidden_layer in self.hidden_layers:\n",
    "            x = F.relu(hidden_layer(x))\n",
    "        \n",
    "        x = self.fco(x)\n",
    "        return x\n",
    "\n",
    "\n",
    "model = MyCNN_w_dr(3,2,32,2).to(device)\n",
    "outputs = model(images)\n",
    "print(images.shape, outputs.shape, labels[1])"
   ]
  },
  {
   "cell_type": "markdown",
   "metadata": {},
   "source": [
    "Training function:"
   ]
  },
  {
   "cell_type": "code",
   "execution_count": 29,
   "metadata": {},
   "outputs": [],
   "source": [
    "def train_model_CNN_w_dr(num_conv_layers, num_hidden_layers, hidden_layer_size, optimizer, device, normalized=False, EPOCHS=1000, lr=0.001, early_stop_epochs=20):\n",
    "    model = MyCNN_w_dr(num_conv_layers, num_hidden_layers, hidden_layer_size).to(device)\n",
    "    loss_fn = nn.CrossEntropyLoss()\n",
    "    if optimizer == \"Adam\":\n",
    "        optimizer = torch.optim.Adam(model.parameters(), lr=lr)\n",
    "    else: \n",
    "        optimizer = torch.optim.SGD(model.parameters(), lr=lr)\n",
    "    best_vacc = 0.0  # Best validation accuracy\n",
    "    epochs_without_improvement = 0  # Count of epochs without improvement\n",
    "    best_epochs_num = 0 \n",
    "    if normalized:\n",
    "        T_loader = training_loader_reshaped_norm\n",
    "        V_loader = validation_loader_reshaped_norm\n",
    "    else:\n",
    "        T_loader = training_loader_reshaped\n",
    "        V_loader = validation_loader_reshaped\n",
    "    for epoch in range(EPOCHS):\n",
    "        #print('EPOCH {}:'.format(epoch + 1))\n",
    "        \n",
    "        # One training step\n",
    "        avg_loss = train_one_epoch(model, loss_fn, optimizer, T_loader, device)\n",
    "        \n",
    "        # Validation performance\n",
    "        running_cum_vloss = 0.0\n",
    "        vcorrect = 0\n",
    "        for i, vdata in enumerate(V_loader):\n",
    "            vinputs, vlabels = vdata[0].to(device), vdata[1].to(device)  # Move validation data to device\n",
    "            with torch.no_grad():\n",
    "                voutputs = model(vinputs)\n",
    "                vloss = loss_fn(voutputs, vlabels)\n",
    "            running_cum_vloss += vloss * vinputs.shape[0]\n",
    "            # Count the correctly classified samples\n",
    "            vcorrect += (voutputs.argmax(1) == vlabels).float().sum()\n",
    "        \n",
    "        # Get average loss and accuracy\n",
    "        avg_vloss = running_cum_vloss / len(V_loader.dataset)\n",
    "        vacc = vcorrect / len(V_loader.dataset)\n",
    "        \n",
    "        #print(f\"TRAIN loss: {avg_loss:.3f}, VALIDATION loss: {avg_vloss:.3f}, accuracy: {vacc:.3f}\")\n",
    "        \n",
    "        # Check if validation accuracy improved\n",
    "        if vacc > best_vacc:\n",
    "            best_vacc = vacc\n",
    "            best_epochs_num = epoch\n",
    "            epochs_without_improvement = 0\n",
    "        else:\n",
    "            epochs_without_improvement += 1\n",
    "        \n",
    "        # Check for early stopping\n",
    "        if epochs_without_improvement >= early_stop_epochs:\n",
    "            #print(f\"Validation accuracy did not improve for {early_stop_epochs} epochs. Stopping training.\")\n",
    "            break\n",
    "\n",
    "    #print(\"Training finished. Best accuracy was: \", best_vacc)\n",
    "    return best_vacc,best_epochs_num"
   ]
  },
  {
   "cell_type": "markdown",
   "metadata": {},
   "source": [
    "Now train and find the best parameters"
   ]
  },
  {
   "cell_type": "code",
   "execution_count": 45,
   "metadata": {},
   "outputs": [
    {
     "name": "stdout",
     "output_type": "stream",
     "text": [
      "Conv_layers: 1, Hidden Layers: 0, Hidden Layer Size: 32, Optimizer: SGD\n",
      "Conv_layers: 1, Hidden Layers: 0, Hidden Layer Size: 64, Optimizer: SGD\n",
      "Conv_layers: 1, Hidden Layers: 0, Hidden Layer Size: 128, Optimizer: SGD\n",
      "Conv_layers: 1, Hidden Layers: 0, Hidden Layer Size: 256, Optimizer: SGD\n",
      "Conv_layers: 1, Hidden Layers: 1, Hidden Layer Size: 32, Optimizer: SGD\n",
      "Conv_layers: 1, Hidden Layers: 1, Hidden Layer Size: 64, Optimizer: SGD\n",
      "Conv_layers: 1, Hidden Layers: 1, Hidden Layer Size: 128, Optimizer: SGD\n",
      "Conv_layers: 1, Hidden Layers: 1, Hidden Layer Size: 256, Optimizer: SGD\n",
      "Conv_layers: 1, Hidden Layers: 2, Hidden Layer Size: 32, Optimizer: SGD\n",
      "Conv_layers: 1, Hidden Layers: 2, Hidden Layer Size: 64, Optimizer: SGD\n",
      "Conv_layers: 1, Hidden Layers: 2, Hidden Layer Size: 128, Optimizer: SGD\n",
      "Conv_layers: 1, Hidden Layers: 2, Hidden Layer Size: 256, Optimizer: SGD\n",
      "Conv_layers: 1, Hidden Layers: 3, Hidden Layer Size: 32, Optimizer: SGD\n",
      "Conv_layers: 1, Hidden Layers: 3, Hidden Layer Size: 64, Optimizer: SGD\n",
      "Conv_layers: 1, Hidden Layers: 3, Hidden Layer Size: 128, Optimizer: SGD\n",
      "Conv_layers: 1, Hidden Layers: 3, Hidden Layer Size: 256, Optimizer: SGD\n",
      "Conv_layers: 2, Hidden Layers: 0, Hidden Layer Size: 32, Optimizer: SGD\n",
      "Conv_layers: 2, Hidden Layers: 0, Hidden Layer Size: 64, Optimizer: SGD\n",
      "Conv_layers: 2, Hidden Layers: 0, Hidden Layer Size: 128, Optimizer: SGD\n",
      "Conv_layers: 2, Hidden Layers: 0, Hidden Layer Size: 256, Optimizer: SGD\n",
      "Conv_layers: 2, Hidden Layers: 1, Hidden Layer Size: 32, Optimizer: SGD\n",
      "Conv_layers: 2, Hidden Layers: 1, Hidden Layer Size: 64, Optimizer: SGD\n",
      "Conv_layers: 2, Hidden Layers: 1, Hidden Layer Size: 128, Optimizer: SGD\n",
      "Conv_layers: 2, Hidden Layers: 1, Hidden Layer Size: 256, Optimizer: SGD\n",
      "Conv_layers: 2, Hidden Layers: 2, Hidden Layer Size: 32, Optimizer: SGD\n",
      "Conv_layers: 2, Hidden Layers: 2, Hidden Layer Size: 64, Optimizer: SGD\n",
      "Conv_layers: 2, Hidden Layers: 2, Hidden Layer Size: 128, Optimizer: SGD\n",
      "Conv_layers: 2, Hidden Layers: 2, Hidden Layer Size: 256, Optimizer: SGD\n",
      "Conv_layers: 2, Hidden Layers: 3, Hidden Layer Size: 32, Optimizer: SGD\n",
      "Conv_layers: 2, Hidden Layers: 3, Hidden Layer Size: 64, Optimizer: SGD\n",
      "Conv_layers: 2, Hidden Layers: 3, Hidden Layer Size: 128, Optimizer: SGD\n",
      "Conv_layers: 2, Hidden Layers: 3, Hidden Layer Size: 256, Optimizer: SGD\n",
      "Conv_layers: 3, Hidden Layers: 0, Hidden Layer Size: 32, Optimizer: SGD\n",
      "Conv_layers: 3, Hidden Layers: 0, Hidden Layer Size: 64, Optimizer: SGD\n",
      "Conv_layers: 3, Hidden Layers: 0, Hidden Layer Size: 128, Optimizer: SGD\n",
      "Conv_layers: 3, Hidden Layers: 0, Hidden Layer Size: 256, Optimizer: SGD\n",
      "Conv_layers: 3, Hidden Layers: 1, Hidden Layer Size: 32, Optimizer: SGD\n",
      "Conv_layers: 3, Hidden Layers: 1, Hidden Layer Size: 64, Optimizer: SGD\n",
      "Conv_layers: 3, Hidden Layers: 1, Hidden Layer Size: 128, Optimizer: SGD\n",
      "Conv_layers: 3, Hidden Layers: 1, Hidden Layer Size: 256, Optimizer: SGD\n",
      "Conv_layers: 3, Hidden Layers: 2, Hidden Layer Size: 32, Optimizer: SGD\n",
      "Conv_layers: 3, Hidden Layers: 2, Hidden Layer Size: 64, Optimizer: SGD\n",
      "Conv_layers: 3, Hidden Layers: 2, Hidden Layer Size: 128, Optimizer: SGD\n",
      "Conv_layers: 3, Hidden Layers: 2, Hidden Layer Size: 256, Optimizer: SGD\n",
      "Conv_layers: 3, Hidden Layers: 3, Hidden Layer Size: 32, Optimizer: SGD\n",
      "Conv_layers: 3, Hidden Layers: 3, Hidden Layer Size: 64, Optimizer: SGD\n",
      "Conv_layers: 3, Hidden Layers: 3, Hidden Layer Size: 128, Optimizer: SGD\n",
      "Conv_layers: 3, Hidden Layers: 3, Hidden Layer Size: 256, Optimizer: SGD\n",
      "Conv_layers: 1, Hidden Layers: 0, Hidden Layer Size: 32, Optimizer: Adam\n",
      "Conv_layers: 1, Hidden Layers: 0, Hidden Layer Size: 64, Optimizer: Adam\n",
      "Conv_layers: 1, Hidden Layers: 0, Hidden Layer Size: 128, Optimizer: Adam\n",
      "Conv_layers: 1, Hidden Layers: 0, Hidden Layer Size: 256, Optimizer: Adam\n",
      "Conv_layers: 1, Hidden Layers: 1, Hidden Layer Size: 32, Optimizer: Adam\n",
      "Conv_layers: 1, Hidden Layers: 1, Hidden Layer Size: 64, Optimizer: Adam\n",
      "Conv_layers: 1, Hidden Layers: 1, Hidden Layer Size: 128, Optimizer: Adam\n",
      "Conv_layers: 1, Hidden Layers: 1, Hidden Layer Size: 256, Optimizer: Adam\n",
      "Conv_layers: 1, Hidden Layers: 2, Hidden Layer Size: 32, Optimizer: Adam\n",
      "Conv_layers: 1, Hidden Layers: 2, Hidden Layer Size: 64, Optimizer: Adam\n",
      "Conv_layers: 1, Hidden Layers: 2, Hidden Layer Size: 128, Optimizer: Adam\n",
      "Conv_layers: 1, Hidden Layers: 2, Hidden Layer Size: 256, Optimizer: Adam\n",
      "Conv_layers: 1, Hidden Layers: 3, Hidden Layer Size: 32, Optimizer: Adam\n",
      "Conv_layers: 1, Hidden Layers: 3, Hidden Layer Size: 64, Optimizer: Adam\n",
      "Conv_layers: 1, Hidden Layers: 3, Hidden Layer Size: 128, Optimizer: Adam\n",
      "Conv_layers: 1, Hidden Layers: 3, Hidden Layer Size: 256, Optimizer: Adam\n",
      "Conv_layers: 2, Hidden Layers: 0, Hidden Layer Size: 32, Optimizer: Adam\n",
      "Conv_layers: 2, Hidden Layers: 0, Hidden Layer Size: 64, Optimizer: Adam\n",
      "Conv_layers: 2, Hidden Layers: 0, Hidden Layer Size: 128, Optimizer: Adam\n",
      "Conv_layers: 2, Hidden Layers: 0, Hidden Layer Size: 256, Optimizer: Adam\n",
      "Conv_layers: 2, Hidden Layers: 1, Hidden Layer Size: 32, Optimizer: Adam\n",
      "Conv_layers: 2, Hidden Layers: 1, Hidden Layer Size: 64, Optimizer: Adam\n",
      "Conv_layers: 2, Hidden Layers: 1, Hidden Layer Size: 128, Optimizer: Adam\n",
      "Conv_layers: 2, Hidden Layers: 1, Hidden Layer Size: 256, Optimizer: Adam\n",
      "Conv_layers: 2, Hidden Layers: 2, Hidden Layer Size: 32, Optimizer: Adam\n",
      "Conv_layers: 2, Hidden Layers: 2, Hidden Layer Size: 64, Optimizer: Adam\n",
      "Conv_layers: 2, Hidden Layers: 2, Hidden Layer Size: 128, Optimizer: Adam\n",
      "Conv_layers: 2, Hidden Layers: 2, Hidden Layer Size: 256, Optimizer: Adam\n",
      "Conv_layers: 2, Hidden Layers: 3, Hidden Layer Size: 32, Optimizer: Adam\n",
      "Conv_layers: 2, Hidden Layers: 3, Hidden Layer Size: 64, Optimizer: Adam\n",
      "Conv_layers: 2, Hidden Layers: 3, Hidden Layer Size: 128, Optimizer: Adam\n",
      "Conv_layers: 2, Hidden Layers: 3, Hidden Layer Size: 256, Optimizer: Adam\n",
      "Conv_layers: 3, Hidden Layers: 0, Hidden Layer Size: 32, Optimizer: Adam\n",
      "Conv_layers: 3, Hidden Layers: 0, Hidden Layer Size: 64, Optimizer: Adam\n",
      "Conv_layers: 3, Hidden Layers: 0, Hidden Layer Size: 128, Optimizer: Adam\n",
      "Conv_layers: 3, Hidden Layers: 0, Hidden Layer Size: 256, Optimizer: Adam\n",
      "Conv_layers: 3, Hidden Layers: 1, Hidden Layer Size: 32, Optimizer: Adam\n",
      "Conv_layers: 3, Hidden Layers: 1, Hidden Layer Size: 64, Optimizer: Adam\n",
      "Conv_layers: 3, Hidden Layers: 1, Hidden Layer Size: 128, Optimizer: Adam\n",
      "Conv_layers: 3, Hidden Layers: 1, Hidden Layer Size: 256, Optimizer: Adam\n",
      "Conv_layers: 3, Hidden Layers: 2, Hidden Layer Size: 32, Optimizer: Adam\n",
      "Conv_layers: 3, Hidden Layers: 2, Hidden Layer Size: 64, Optimizer: Adam\n",
      "Conv_layers: 3, Hidden Layers: 2, Hidden Layer Size: 128, Optimizer: Adam\n",
      "Conv_layers: 3, Hidden Layers: 2, Hidden Layer Size: 256, Optimizer: Adam\n",
      "Conv_layers: 3, Hidden Layers: 3, Hidden Layer Size: 32, Optimizer: Adam\n",
      "Conv_layers: 3, Hidden Layers: 3, Hidden Layer Size: 64, Optimizer: Adam\n",
      "Conv_layers: 3, Hidden Layers: 3, Hidden Layer Size: 128, Optimizer: Adam\n",
      "Conv_layers: 3, Hidden Layers: 3, Hidden Layer Size: 256, Optimizer: Adam\n"
     ]
    }
   ],
   "source": [
    "num_conv_layers_list = range(1,4)\n",
    "num_hidden_layers_list = range(4)\n",
    "hidden_layer_sizes = [32,64,128,256]\n",
    "optimizers= [\n",
    "    \"SGD\",\n",
    "    \"Adam\"\n",
    "]\n",
    "\n",
    "best_accuracy = 0.0\n",
    "best_epochs_num = 0\n",
    "best_params = None\n",
    "\n",
    "for optimizer in optimizers:\n",
    "    for num_conv_layers in num_conv_layers_list:\n",
    "        for num_hidden_layers in num_hidden_layers_list:\n",
    "            for hidden_layer_size in hidden_layer_sizes:\n",
    "                print(f\"Conv_layers: {num_conv_layers}, Hidden Layers: {num_hidden_layers}, Hidden Layer Size: {hidden_layer_size}, Optimizer: {optimizer}\")\n",
    "                accuracy, epochs_num = train_model_CNN_w_dr(num_conv_layers, num_hidden_layers, hidden_layer_size, optimizer, device)\n",
    "                # Check if current configuration has better accuracy\n",
    "                if accuracy > best_accuracy:\n",
    "                    best_epochs_num =epochs_num\n",
    "                    best_accuracy = accuracy\n",
    "                    best_params = {\n",
    "                            \"num_hidden_layers\": num_hidden_layers,\n",
    "                            \"hidden_layer_size\": hidden_layer_size,\n",
    "                            \"optimizer\": optimizer,\n",
    "                            \"num_conv_layer\": num_conv_layers\n",
    "                            \n",
    "                    }"
   ]
  },
  {
   "cell_type": "code",
   "execution_count": 46,
   "metadata": {},
   "outputs": [
    {
     "name": "stdout",
     "output_type": "stream",
     "text": [
      "Best parameters with number of epochs:  28\n",
      "{'num_hidden_layers': 3, 'hidden_layer_size': 256, 'optimizer': 'SGD', 'num_conv_layer': 2}\n",
      "Best accuracy: tensor(0.8853, device='cuda:0')\n"
     ]
    }
   ],
   "source": [
    "print(\"Best parameters with number of epochs: \", best_epochs_num)\n",
    "print(best_params)\n",
    "print(\"Best accuracy:\", best_accuracy)\n",
    "#save accuracy, parameters and number of epochs\n",
    "best_accuracy_CNN_w_dr = best_accuracy\n",
    "best_epochs_num_CNN_w_dr = best_epochs_num\n",
    "best_params_CNN_w_dr = best_params"
   ]
  },
  {
   "cell_type": "markdown",
   "metadata": {},
   "source": [
    "Dropout +  L1 regularization:"
   ]
  },
  {
   "cell_type": "code",
   "execution_count": 30,
   "metadata": {},
   "outputs": [],
   "source": [
    "def train_one_epoch_lreg_CNN(model, loss_fn, optimizer, training_loader, device, l_alpha = 0.1):\n",
    "    running_cum_loss = 0.\n",
    "\n",
    "    # tqdm is used for nice progress visualisation\n",
    "    for i, data in enumerate(training_loader):\n",
    "        # Every data instance is an input + label pair\n",
    "        inputs, labels = data[0].to(device), data[1].to(device)\n",
    "\n",
    "        # Zero your gradients for every batch!\n",
    "        optimizer.zero_grad()\n",
    "\n",
    "        # Make predictions for this batch\n",
    "        outputs = model(inputs)\n",
    "\n",
    "        # Compute the loss and its gradients\n",
    "        loss = loss_fn(outputs, labels)\n",
    "        \n",
    "        # compute the penalization\n",
    "        l_reg = torch.tensor(0.).to(device)\n",
    "        l_reg += torch.linalg.vector_norm(model.fco.weight.flatten(),1)\n",
    "        \n",
    "        loss = loss + l_alpha*l_reg.to(device)\n",
    "        \n",
    "        # Backpropagation\n",
    "        loss.backward()\n",
    "\n",
    "        # Adjust learning weights\n",
    "        optimizer.step()\n",
    "\n",
    "        # Gather data and report\n",
    "        last_mean_loss = loss.item()\n",
    "        running_cum_loss += last_mean_loss * inputs.shape[0]\n",
    "            \n",
    "    # Return of the average over the whole training set\n",
    "    return running_cum_loss / len(train_data)"
   ]
  },
  {
   "cell_type": "code",
   "execution_count": 31,
   "metadata": {},
   "outputs": [],
   "source": [
    "def train_model_CNN_w_dr_L1(num_conv_layers, num_hidden_layers, hidden_layer_size, optimizer, device, normalized=False, EPOCHS=1000, lr=0.001, early_stop_epochs=20):\n",
    "    model = MyCNN_w_dr(num_conv_layers, num_hidden_layers, hidden_layer_size).to(device)\n",
    "    loss_fn = nn.CrossEntropyLoss()\n",
    "    if optimizer == \"Adam\":\n",
    "        optimizer = torch.optim.Adam(model.parameters(), lr=lr)\n",
    "    else: \n",
    "        optimizer = torch.optim.SGD(model.parameters(), lr=lr)\n",
    "    best_vacc = 0.0  # Best validation accuracy\n",
    "    epochs_without_improvement = 0  # Count of epochs without improvement\n",
    "    best_epochs_num = 0 \n",
    "    if normalized:\n",
    "        T_loader = training_loader_reshaped_norm\n",
    "        V_loader = validation_loader_reshaped_norm\n",
    "    else:\n",
    "        T_loader = training_loader_reshaped\n",
    "        V_loader = validation_loader_reshaped\n",
    "    for epoch in range(EPOCHS):\n",
    "        #print('EPOCH {}:'.format(epoch + 1))\n",
    "        \n",
    "        # One training step\n",
    "        avg_loss = train_one_epoch_lreg_CNN(model, loss_fn, optimizer, T_loader, device)\n",
    "        \n",
    "        # Validation performance\n",
    "        running_cum_vloss = 0.0\n",
    "        vcorrect = 0\n",
    "        for i, vdata in enumerate(V_loader):\n",
    "            vinputs, vlabels = vdata[0].to(device), vdata[1].to(device)  # Move validation data to device\n",
    "            with torch.no_grad():\n",
    "                voutputs = model(vinputs)\n",
    "                vloss = loss_fn(voutputs, vlabels)\n",
    "            running_cum_vloss += vloss * vinputs.shape[0]\n",
    "            # Count the correctly classified samples\n",
    "            vcorrect += (voutputs.argmax(1) == vlabels).float().sum()\n",
    "        \n",
    "        # Get average loss and accuracy\n",
    "        avg_vloss = running_cum_vloss / len(V_loader.dataset)\n",
    "        vacc = vcorrect / len(V_loader.dataset)\n",
    "        \n",
    "        #print(f\"TRAIN loss: {avg_loss:.3f}, VALIDATION loss: {avg_vloss:.3f}, accuracy: {vacc:.3f}\")\n",
    "        \n",
    "        # Check if validation accuracy improved\n",
    "        if vacc > best_vacc:\n",
    "            best_vacc = vacc\n",
    "            best_epochs_num = epoch\n",
    "            epochs_without_improvement = 0\n",
    "        else:\n",
    "            epochs_without_improvement += 1\n",
    "        \n",
    "        # Check for early stopping\n",
    "        if epochs_without_improvement >= early_stop_epochs:\n",
    "            #print(f\"Validation accuracy did not improve for {early_stop_epochs} epochs. Stopping training.\")\n",
    "            break\n",
    "\n",
    "    #print(\"Training finished. Best accuracy was: \", best_vacc)\n",
    "    return best_vacc,best_epochs_num"
   ]
  },
  {
   "cell_type": "code",
   "execution_count": 49,
   "metadata": {},
   "outputs": [
    {
     "name": "stdout",
     "output_type": "stream",
     "text": [
      "Conv_layers: 1, Hidden Layers: 0, Hidden Layer Size: 32, Optimizer: SGD\n",
      "Conv_layers: 1, Hidden Layers: 0, Hidden Layer Size: 64, Optimizer: SGD\n",
      "Conv_layers: 1, Hidden Layers: 0, Hidden Layer Size: 128, Optimizer: SGD\n",
      "Conv_layers: 1, Hidden Layers: 0, Hidden Layer Size: 256, Optimizer: SGD\n",
      "Conv_layers: 1, Hidden Layers: 1, Hidden Layer Size: 32, Optimizer: SGD\n",
      "Conv_layers: 1, Hidden Layers: 1, Hidden Layer Size: 64, Optimizer: SGD\n",
      "Conv_layers: 1, Hidden Layers: 1, Hidden Layer Size: 128, Optimizer: SGD\n",
      "Conv_layers: 1, Hidden Layers: 1, Hidden Layer Size: 256, Optimizer: SGD\n",
      "Conv_layers: 1, Hidden Layers: 2, Hidden Layer Size: 32, Optimizer: SGD\n",
      "Conv_layers: 1, Hidden Layers: 2, Hidden Layer Size: 64, Optimizer: SGD\n",
      "Conv_layers: 1, Hidden Layers: 2, Hidden Layer Size: 128, Optimizer: SGD\n",
      "Conv_layers: 1, Hidden Layers: 2, Hidden Layer Size: 256, Optimizer: SGD\n",
      "Conv_layers: 1, Hidden Layers: 3, Hidden Layer Size: 32, Optimizer: SGD\n",
      "Conv_layers: 1, Hidden Layers: 3, Hidden Layer Size: 64, Optimizer: SGD\n",
      "Conv_layers: 1, Hidden Layers: 3, Hidden Layer Size: 128, Optimizer: SGD\n",
      "Conv_layers: 1, Hidden Layers: 3, Hidden Layer Size: 256, Optimizer: SGD\n",
      "Conv_layers: 2, Hidden Layers: 0, Hidden Layer Size: 32, Optimizer: SGD\n",
      "Conv_layers: 2, Hidden Layers: 0, Hidden Layer Size: 64, Optimizer: SGD\n",
      "Conv_layers: 2, Hidden Layers: 0, Hidden Layer Size: 128, Optimizer: SGD\n",
      "Conv_layers: 2, Hidden Layers: 0, Hidden Layer Size: 256, Optimizer: SGD\n",
      "Conv_layers: 2, Hidden Layers: 1, Hidden Layer Size: 32, Optimizer: SGD\n",
      "Conv_layers: 2, Hidden Layers: 1, Hidden Layer Size: 64, Optimizer: SGD\n",
      "Conv_layers: 2, Hidden Layers: 1, Hidden Layer Size: 128, Optimizer: SGD\n",
      "Conv_layers: 2, Hidden Layers: 1, Hidden Layer Size: 256, Optimizer: SGD\n",
      "Conv_layers: 2, Hidden Layers: 2, Hidden Layer Size: 32, Optimizer: SGD\n",
      "Conv_layers: 2, Hidden Layers: 2, Hidden Layer Size: 64, Optimizer: SGD\n",
      "Conv_layers: 2, Hidden Layers: 2, Hidden Layer Size: 128, Optimizer: SGD\n",
      "Conv_layers: 2, Hidden Layers: 2, Hidden Layer Size: 256, Optimizer: SGD\n",
      "Conv_layers: 2, Hidden Layers: 3, Hidden Layer Size: 32, Optimizer: SGD\n",
      "Conv_layers: 2, Hidden Layers: 3, Hidden Layer Size: 64, Optimizer: SGD\n",
      "Conv_layers: 2, Hidden Layers: 3, Hidden Layer Size: 128, Optimizer: SGD\n",
      "Conv_layers: 2, Hidden Layers: 3, Hidden Layer Size: 256, Optimizer: SGD\n",
      "Conv_layers: 3, Hidden Layers: 0, Hidden Layer Size: 32, Optimizer: SGD\n",
      "Conv_layers: 3, Hidden Layers: 0, Hidden Layer Size: 64, Optimizer: SGD\n",
      "Conv_layers: 3, Hidden Layers: 0, Hidden Layer Size: 128, Optimizer: SGD\n",
      "Conv_layers: 3, Hidden Layers: 0, Hidden Layer Size: 256, Optimizer: SGD\n",
      "Conv_layers: 3, Hidden Layers: 1, Hidden Layer Size: 32, Optimizer: SGD\n",
      "Conv_layers: 3, Hidden Layers: 1, Hidden Layer Size: 64, Optimizer: SGD\n",
      "Conv_layers: 3, Hidden Layers: 1, Hidden Layer Size: 128, Optimizer: SGD\n",
      "Conv_layers: 3, Hidden Layers: 1, Hidden Layer Size: 256, Optimizer: SGD\n",
      "Conv_layers: 3, Hidden Layers: 2, Hidden Layer Size: 32, Optimizer: SGD\n",
      "Conv_layers: 3, Hidden Layers: 2, Hidden Layer Size: 64, Optimizer: SGD\n",
      "Conv_layers: 3, Hidden Layers: 2, Hidden Layer Size: 128, Optimizer: SGD\n",
      "Conv_layers: 3, Hidden Layers: 2, Hidden Layer Size: 256, Optimizer: SGD\n",
      "Conv_layers: 3, Hidden Layers: 3, Hidden Layer Size: 32, Optimizer: SGD\n",
      "Conv_layers: 3, Hidden Layers: 3, Hidden Layer Size: 64, Optimizer: SGD\n",
      "Conv_layers: 3, Hidden Layers: 3, Hidden Layer Size: 128, Optimizer: SGD\n",
      "Conv_layers: 3, Hidden Layers: 3, Hidden Layer Size: 256, Optimizer: SGD\n",
      "Conv_layers: 1, Hidden Layers: 0, Hidden Layer Size: 32, Optimizer: Adam\n",
      "Conv_layers: 1, Hidden Layers: 0, Hidden Layer Size: 64, Optimizer: Adam\n",
      "Conv_layers: 1, Hidden Layers: 0, Hidden Layer Size: 128, Optimizer: Adam\n",
      "Conv_layers: 1, Hidden Layers: 0, Hidden Layer Size: 256, Optimizer: Adam\n",
      "Conv_layers: 1, Hidden Layers: 1, Hidden Layer Size: 32, Optimizer: Adam\n",
      "Conv_layers: 1, Hidden Layers: 1, Hidden Layer Size: 64, Optimizer: Adam\n",
      "Conv_layers: 1, Hidden Layers: 1, Hidden Layer Size: 128, Optimizer: Adam\n",
      "Conv_layers: 1, Hidden Layers: 1, Hidden Layer Size: 256, Optimizer: Adam\n",
      "Conv_layers: 1, Hidden Layers: 2, Hidden Layer Size: 32, Optimizer: Adam\n",
      "Conv_layers: 1, Hidden Layers: 2, Hidden Layer Size: 64, Optimizer: Adam\n",
      "Conv_layers: 1, Hidden Layers: 2, Hidden Layer Size: 128, Optimizer: Adam\n",
      "Conv_layers: 1, Hidden Layers: 2, Hidden Layer Size: 256, Optimizer: Adam\n",
      "Conv_layers: 1, Hidden Layers: 3, Hidden Layer Size: 32, Optimizer: Adam\n",
      "Conv_layers: 1, Hidden Layers: 3, Hidden Layer Size: 64, Optimizer: Adam\n",
      "Conv_layers: 1, Hidden Layers: 3, Hidden Layer Size: 128, Optimizer: Adam\n",
      "Conv_layers: 1, Hidden Layers: 3, Hidden Layer Size: 256, Optimizer: Adam\n",
      "Conv_layers: 2, Hidden Layers: 0, Hidden Layer Size: 32, Optimizer: Adam\n",
      "Conv_layers: 2, Hidden Layers: 0, Hidden Layer Size: 64, Optimizer: Adam\n",
      "Conv_layers: 2, Hidden Layers: 0, Hidden Layer Size: 128, Optimizer: Adam\n",
      "Conv_layers: 2, Hidden Layers: 0, Hidden Layer Size: 256, Optimizer: Adam\n",
      "Conv_layers: 2, Hidden Layers: 1, Hidden Layer Size: 32, Optimizer: Adam\n",
      "Conv_layers: 2, Hidden Layers: 1, Hidden Layer Size: 64, Optimizer: Adam\n",
      "Conv_layers: 2, Hidden Layers: 1, Hidden Layer Size: 128, Optimizer: Adam\n",
      "Conv_layers: 2, Hidden Layers: 1, Hidden Layer Size: 256, Optimizer: Adam\n",
      "Conv_layers: 2, Hidden Layers: 2, Hidden Layer Size: 32, Optimizer: Adam\n",
      "Conv_layers: 2, Hidden Layers: 2, Hidden Layer Size: 64, Optimizer: Adam\n",
      "Conv_layers: 2, Hidden Layers: 2, Hidden Layer Size: 128, Optimizer: Adam\n",
      "Conv_layers: 2, Hidden Layers: 2, Hidden Layer Size: 256, Optimizer: Adam\n",
      "Conv_layers: 2, Hidden Layers: 3, Hidden Layer Size: 32, Optimizer: Adam\n",
      "Conv_layers: 2, Hidden Layers: 3, Hidden Layer Size: 64, Optimizer: Adam\n",
      "Conv_layers: 2, Hidden Layers: 3, Hidden Layer Size: 128, Optimizer: Adam\n",
      "Conv_layers: 2, Hidden Layers: 3, Hidden Layer Size: 256, Optimizer: Adam\n",
      "Conv_layers: 3, Hidden Layers: 0, Hidden Layer Size: 32, Optimizer: Adam\n",
      "Conv_layers: 3, Hidden Layers: 0, Hidden Layer Size: 64, Optimizer: Adam\n",
      "Conv_layers: 3, Hidden Layers: 0, Hidden Layer Size: 128, Optimizer: Adam\n",
      "Conv_layers: 3, Hidden Layers: 0, Hidden Layer Size: 256, Optimizer: Adam\n",
      "Conv_layers: 3, Hidden Layers: 1, Hidden Layer Size: 32, Optimizer: Adam\n",
      "Conv_layers: 3, Hidden Layers: 1, Hidden Layer Size: 64, Optimizer: Adam\n",
      "Conv_layers: 3, Hidden Layers: 1, Hidden Layer Size: 128, Optimizer: Adam\n",
      "Conv_layers: 3, Hidden Layers: 1, Hidden Layer Size: 256, Optimizer: Adam\n",
      "Conv_layers: 3, Hidden Layers: 2, Hidden Layer Size: 32, Optimizer: Adam\n",
      "Conv_layers: 3, Hidden Layers: 2, Hidden Layer Size: 64, Optimizer: Adam\n",
      "Conv_layers: 3, Hidden Layers: 2, Hidden Layer Size: 128, Optimizer: Adam\n",
      "Conv_layers: 3, Hidden Layers: 2, Hidden Layer Size: 256, Optimizer: Adam\n",
      "Conv_layers: 3, Hidden Layers: 3, Hidden Layer Size: 32, Optimizer: Adam\n",
      "Conv_layers: 3, Hidden Layers: 3, Hidden Layer Size: 64, Optimizer: Adam\n",
      "Conv_layers: 3, Hidden Layers: 3, Hidden Layer Size: 128, Optimizer: Adam\n",
      "Conv_layers: 3, Hidden Layers: 3, Hidden Layer Size: 256, Optimizer: Adam\n"
     ]
    }
   ],
   "source": [
    "num_conv_layers_list = range(1,4)\n",
    "best_accuracy = 0.0\n",
    "best_epochs_num = 0\n",
    "best_params = None\n",
    "\n",
    "for optimizer in optimizers:\n",
    "    for num_conv_layers in num_conv_layers_list:\n",
    "        for num_hidden_layers in num_hidden_layers_list:\n",
    "            for hidden_layer_size in hidden_layer_sizes:\n",
    "                print(f\"Conv_layers: {num_conv_layers}, Hidden Layers: {num_hidden_layers}, Hidden Layer Size: {hidden_layer_size}, Optimizer: {optimizer}\")\n",
    "                accuracy, epochs_num = train_model_CNN_w_dr_L1(num_conv_layers, num_hidden_layers, hidden_layer_size, optimizer, device)\n",
    "                # Check if current configuration has better accuracy\n",
    "                if accuracy > best_accuracy:\n",
    "                    best_epochs_num = epochs_num\n",
    "                    best_accuracy = accuracy\n",
    "                    best_params = {\n",
    "                            \"num_hidden_layers\": num_hidden_layers,\n",
    "                            \"hidden_layer_size\": hidden_layer_size,\n",
    "                            \"optimizer\": optimizer,\n",
    "                            \"num_conv_layer\": num_conv_layers\n",
    "                            \n",
    "                    }"
   ]
  },
  {
   "cell_type": "code",
   "execution_count": 50,
   "metadata": {},
   "outputs": [
    {
     "name": "stdout",
     "output_type": "stream",
     "text": [
      "Best parameters with number of epochs:  12\n",
      "{'num_hidden_layers': 3, 'hidden_layer_size': 128, 'optimizer': 'Adam', 'num_conv_layer': 2}\n",
      "Best accuracy: tensor(0.8890, device='cuda:0')\n"
     ]
    }
   ],
   "source": [
    "print(\"Best parameters with number of epochs: \", best_epochs_num)\n",
    "print(best_params)\n",
    "print(\"Best accuracy:\", best_accuracy)\n",
    "#save accuracy, parameters and number of epochs\n",
    "best_accuracy_CNN_w_dr_L1 = best_accuracy\n",
    "best_epochs_num_CNN_w_dr_L1 = best_epochs_num\n",
    "best_params_CNN_w_dr_L1 = best_params"
   ]
  },
  {
   "cell_type": "markdown",
   "metadata": {},
   "source": [
    "As we can see CNN with dropout and L1 regularization has the best accuracy by far. Train a final model using given parameters:"
   ]
  },
  {
   "cell_type": "code",
   "execution_count": 33,
   "metadata": {},
   "outputs": [],
   "source": [
    "num_hidden_layers = 3\n",
    "num_conv_layers =2\n",
    "hidden_layer_size =128\n",
    "EPOCHS = 1000\n",
    "early_stop_epochs = 20\n",
    "\n",
    "final_model = MyCNN_w_dr(num_conv_layers, num_hidden_layers, hidden_layer_size).to(device)\n",
    "loss_fn = nn.CrossEntropyLoss()\n",
    "optimizer = torch.optim.Adam(model.parameters(), lr=0.001)\n",
    "best_vacc = 0.0  # Best validation accuracy\n",
    "epochs_without_improvement = 0  # Count of epochs without improvement\n",
    "best_epochs_num = 0 \n",
    "T_loader = training_loader_reshaped\n",
    "V_loader = validation_loader_reshaped\n",
    "for epoch in range(EPOCHS):\n",
    "    #print('EPOCH {}:'.format(epoch + 1))\n",
    "        \n",
    "    # One training step\n",
    "    avg_loss = train_one_epoch_lreg_CNN(model, loss_fn, optimizer, T_loader, device)\n",
    "        \n",
    "    # Validation performance\n",
    "    running_cum_vloss = 0.0\n",
    "    vcorrect = 0\n",
    "    for i, vdata in enumerate(V_loader):\n",
    "        vinputs, vlabels = vdata[0].to(device), vdata[1].to(device)  # Move validation data to device\n",
    "        with torch.no_grad():\n",
    "            voutputs = model(vinputs)\n",
    "            vloss = loss_fn(voutputs, vlabels)\n",
    "            running_cum_vloss += vloss * vinputs.shape[0]\n",
    "            # Count the correctly classified samples\n",
    "            vcorrect += (voutputs.argmax(1) == vlabels).float().sum()\n",
    "        \n",
    "    # Get average loss and accuracy\n",
    "    avg_vloss = running_cum_vloss / len(V_loader.dataset)\n",
    "    vacc = vcorrect / len(V_loader.dataset)\n",
    "\n",
    "        \n",
    "\n",
    "        \n",
    "        \n",
    "    #print(f\"TRAIN loss: {avg_loss:.3f}, VALIDATION loss: {avg_vloss:.3f}, accuracy: {vacc:.3f}\")\n",
    "        \n",
    "    # Check if validation accuracy improved\n",
    "    if vacc > best_vacc:\n",
    "        best_vacc = vacc\n",
    "        best_epochs_num = epoch\n",
    "        epochs_without_improvement = 0\n",
    "    else:\n",
    "        epochs_without_improvement += 1\n",
    "        \n",
    "        # Check for early stopping\n",
    "    if epochs_without_improvement >= early_stop_epochs:\n",
    "            #print(f\"Validation accuracy did not improve for {early_stop_epochs} epochs. Stopping training.\")\n",
    "            break"
   ]
  },
  {
   "cell_type": "markdown",
   "metadata": {},
   "source": [
    "Find an approximate accuracy on new data:"
   ]
  },
  {
   "cell_type": "code",
   "execution_count": 36,
   "metadata": {},
   "outputs": [
    {
     "name": "stdout",
     "output_type": "stream",
     "text": [
      "(10500,)\n",
      "Test accuracy: 0.8740952380952381\n",
      "[[ 863    0   14   39    8    2  139    0   11    0]\n",
      " [   3 1016    2   17    1    0    4    0    1    0]\n",
      " [  22    1  873   12   65    0   63    0    8    0]\n",
      " [  21    9   10  980   19    0   40    0    1    1]\n",
      " [   3    6  100   59  829    0  100    0    5    0]\n",
      " [   0    1    0    2    0  987    2   32    5   11]\n",
      " [ 128    4   75   37   53    0  736    0    9    2]\n",
      " [   1    0    0    0    0   37    2  950    2   20]\n",
      " [   4    1    4    4    5    3   14    4  988    2]\n",
      " [   0    0    0    2    0   10    0   60    0  956]]\n"
     ]
    }
   ],
   "source": [
    "final_model.eval() \n",
    "test_predictions = np.zeros(len(test_data))\n",
    "test_y = np.zeros(len(test_data))\n",
    "print(test_predictions.shape)\n",
    "ii = 0\n",
    "for i, data in enumerate(test_loader_reshaped):\n",
    "    Tinputs, Tlabels = data[0].to(device), data[1].to(device)\n",
    "    with torch.no_grad():\n",
    "        Toutputs = model(Tinputs)\n",
    "        Tloss = loss_fn(Toutputs, Tlabels)\n",
    "    test_predictions[ii:(ii + Tinputs.shape[0])] = Toutputs.argmax(1).cpu().numpy()\n",
    "    test_y[ii:(ii + Tinputs.shape[0])] = Tlabels.cpu().numpy()\n",
    "    ii += Tinputs.shape[0]\n",
    "    \n",
    "print(f\"Test accuracy: {accuracy_score(test_y, test_predictions)}\")\n",
    "\n",
    "# Confusion matrix\n",
    "from sklearn.metrics import confusion_matrix\n",
    "cnf_matrix = confusion_matrix(test_y, test_predictions)\n",
    "print(cnf_matrix)"
   ]
  },
  {
   "cell_type": "markdown",
   "metadata": {},
   "source": [
    "Read data from evaluate.csv:"
   ]
  },
  {
   "cell_type": "code",
   "execution_count": 42,
   "metadata": {},
   "outputs": [
    {
     "name": "stdout",
     "output_type": "stream",
     "text": [
      "          ID  pix1  pix2  pix3  pix4  pix5  pix6  pix7  pix8  pix9  ...  \\\n",
      "0          0     0     0     0     0     0     0     0     0     0  ...   \n",
      "1          1     0     0     0     0     0     0     0     0     0  ...   \n",
      "2          2     0     0     0     0     0     0     0     0     0  ...   \n",
      "3          3     2     2     2     2     2     2     2     2     2  ...   \n",
      "4          4     0     0     0     0     0     0     0     0     0  ...   \n",
      "...      ...   ...   ...   ...   ...   ...   ...   ...   ...   ...  ...   \n",
      "17495  17495     2     2     2     2     2     2     2     2     2  ...   \n",
      "17496  17496     0     0     0     0     0     0     0     0     0  ...   \n",
      "17497  17497     0     0     0     0     0     0     0     0     0  ...   \n",
      "17498  17498     0     0     0     0     0     0     0     0     0  ...   \n",
      "17499  17499     0     0     0     0     0     0     0     0     0  ...   \n",
      "\n",
      "       pix1015  pix1016  pix1017  pix1018  pix1019  pix1020  pix1021  pix1022  \\\n",
      "0            0        0        0        0        0        0        0        0   \n",
      "1            0        0        0        0        0        0        0        0   \n",
      "2            0        0        0        0        0        0        0        0   \n",
      "3            2        2        2        2        2        2        2        2   \n",
      "4            0        0        0        0        0        0        0        0   \n",
      "...        ...      ...      ...      ...      ...      ...      ...      ...   \n",
      "17495        2        2        2        2        2        2        2        2   \n",
      "17496        0        0        0        0        0        0        0        0   \n",
      "17497        0        0        0        0        0        0        0        0   \n",
      "17498        0        0        0        0        0        0        0        0   \n",
      "17499        0        0        0        0        0        0        0        0   \n",
      "\n",
      "       pix1023  pix1024  \n",
      "0            0        0  \n",
      "1            0        0  \n",
      "2            0        0  \n",
      "3            2        2  \n",
      "4            0        0  \n",
      "...        ...      ...  \n",
      "17495        2        2  \n",
      "17496        0        0  \n",
      "17497        0        0  \n",
      "17498        0        0  \n",
      "17499        0        0  \n",
      "\n",
      "[17500 rows x 1025 columns]\n"
     ]
    }
   ],
   "source": [
    "ev = pd.read_csv('evaluate.csv')\n",
    "print(ev)"
   ]
  },
  {
   "cell_type": "code",
   "execution_count": 49,
   "metadata": {},
   "outputs": [
    {
     "name": "stdout",
     "output_type": "stream",
     "text": [
      "torch.Size([17500, 1024])\n"
     ]
    }
   ],
   "source": [
    "ev_Xdata = ev.drop('ID', axis = 1)\n",
    "ev_Xdata_tensor = torch.tensor(ev_Xdata.values, dtype=torch.float, device=device)\n",
    "print(ev_Xdata_tensor.shape)"
   ]
  },
  {
   "cell_type": "code",
   "execution_count": 50,
   "metadata": {},
   "outputs": [],
   "source": [
    "Xdata_reshaped  = []\n",
    "for data in ev_Xdata_tensor:\n",
    "    # Reshape data tensor to [32, 32]\n",
    "    reshaped_data = torch.reshape(data, (32, 32)).to(device)\n",
    "    # Add a singleton dimension for the channel\n",
    "    reshaped_data = reshaped_data.unsqueeze(0)\n",
    "    Xdata_reshaped.append(reshaped_data)"
   ]
  },
  {
   "cell_type": "code",
   "execution_count": 51,
   "metadata": {},
   "outputs": [
    {
     "name": "stdout",
     "output_type": "stream",
     "text": [
      "torch.Size([1, 32, 32])\n"
     ]
    }
   ],
   "source": [
    "print(Xdata_reshaped[0].shape)"
   ]
  },
  {
   "cell_type": "code",
   "execution_count": 55,
   "metadata": {},
   "outputs": [
    {
     "name": "stdout",
     "output_type": "stream",
     "text": [
      "torch.Size([32, 1, 32, 32])\n"
     ]
    }
   ],
   "source": [
    "Xdata_loader = torch.utils.data.DataLoader(Xdata_reshaped, batch_size=32, shuffle=False)\n",
    "dataiter_reshaped = iter(Xdata_loader)\n",
    "images = next(dataiter_reshaped)\n",
    "print(images.shape)"
   ]
  },
  {
   "cell_type": "code",
   "execution_count": 63,
   "metadata": {},
   "outputs": [
    {
     "name": "stdout",
     "output_type": "stream",
     "text": [
      "(17500,)\n"
     ]
    }
   ],
   "source": [
    "ev_predictions = np.zeros(len(Xdata_reshaped))\n",
    "ii = 0\n",
    "print(ev_predictions.shape)\n",
    "for i, data in enumerate(Xdata_loader):\n",
    "    EVinputs = data.to(device)\n",
    "    with torch.no_grad():\n",
    "        EVoutputs = model(EVinputs)\n",
    "    ev_predictions[ii:(ii + EVinputs.shape[0])] = EVoutputs.argmax(1).cpu().numpy()\n",
    "    ii += EVinputs.shape[0]\n"
   ]
  },
  {
   "cell_type": "code",
   "execution_count": 64,
   "metadata": {},
   "outputs": [
    {
     "name": "stdout",
     "output_type": "stream",
     "text": [
      "[9. 4. 1. ... 7. 3. 5.]\n"
     ]
    }
   ],
   "source": [
    "print(ev_predictions)"
   ]
  },
  {
   "cell_type": "code",
   "execution_count": null,
   "metadata": {},
   "outputs": [],
   "source": [
    "Craete a new df:"
   ]
  },
  {
   "cell_type": "code",
   "execution_count": 68,
   "metadata": {},
   "outputs": [
    {
     "data": {
      "text/html": [
       "<div>\n",
       "<style scoped>\n",
       "    .dataframe tbody tr th:only-of-type {\n",
       "        vertical-align: middle;\n",
       "    }\n",
       "\n",
       "    .dataframe tbody tr th {\n",
       "        vertical-align: top;\n",
       "    }\n",
       "\n",
       "    .dataframe thead th {\n",
       "        text-align: right;\n",
       "    }\n",
       "</style>\n",
       "<table border=\"1\" class=\"dataframe\">\n",
       "  <thead>\n",
       "    <tr style=\"text-align: right;\">\n",
       "      <th></th>\n",
       "      <th>ID</th>\n",
       "      <th>label</th>\n",
       "    </tr>\n",
       "  </thead>\n",
       "  <tbody>\n",
       "    <tr>\n",
       "      <th>0</th>\n",
       "      <td>0</td>\n",
       "      <td>9.0</td>\n",
       "    </tr>\n",
       "    <tr>\n",
       "      <th>1</th>\n",
       "      <td>1</td>\n",
       "      <td>4.0</td>\n",
       "    </tr>\n",
       "    <tr>\n",
       "      <th>2</th>\n",
       "      <td>2</td>\n",
       "      <td>1.0</td>\n",
       "    </tr>\n",
       "    <tr>\n",
       "      <th>3</th>\n",
       "      <td>3</td>\n",
       "      <td>7.0</td>\n",
       "    </tr>\n",
       "    <tr>\n",
       "      <th>4</th>\n",
       "      <td>4</td>\n",
       "      <td>1.0</td>\n",
       "    </tr>\n",
       "    <tr>\n",
       "      <th>...</th>\n",
       "      <td>...</td>\n",
       "      <td>...</td>\n",
       "    </tr>\n",
       "    <tr>\n",
       "      <th>17495</th>\n",
       "      <td>17495</td>\n",
       "      <td>6.0</td>\n",
       "    </tr>\n",
       "    <tr>\n",
       "      <th>17496</th>\n",
       "      <td>17496</td>\n",
       "      <td>7.0</td>\n",
       "    </tr>\n",
       "    <tr>\n",
       "      <th>17497</th>\n",
       "      <td>17497</td>\n",
       "      <td>7.0</td>\n",
       "    </tr>\n",
       "    <tr>\n",
       "      <th>17498</th>\n",
       "      <td>17498</td>\n",
       "      <td>3.0</td>\n",
       "    </tr>\n",
       "    <tr>\n",
       "      <th>17499</th>\n",
       "      <td>17499</td>\n",
       "      <td>5.0</td>\n",
       "    </tr>\n",
       "  </tbody>\n",
       "</table>\n",
       "<p>17500 rows × 2 columns</p>\n",
       "</div>"
      ],
      "text/plain": [
       "          ID  label\n",
       "0          0    9.0\n",
       "1          1    4.0\n",
       "2          2    1.0\n",
       "3          3    7.0\n",
       "4          4    1.0\n",
       "...      ...    ...\n",
       "17495  17495    6.0\n",
       "17496  17496    7.0\n",
       "17497  17497    7.0\n",
       "17498  17498    3.0\n",
       "17499  17499    5.0\n",
       "\n",
       "[17500 rows x 2 columns]"
      ]
     },
     "metadata": {},
     "output_type": "display_data"
    }
   ],
   "source": [
    "results =  pd.DataFrame({'ID': ev.ID, 'label': ev_predictions})\n",
    "display(results)\n",
    "results.to_csv('results.csv',index=False)"
   ]
  },
  {
   "cell_type": "code",
   "execution_count": null,
   "metadata": {},
   "outputs": [],
   "source": []
  }
 ],
 "metadata": {
  "kernelspec": {
   "display_name": "Python 3 (ipykernel)",
   "language": "python",
   "name": "python3"
  },
  "language_info": {
   "codemirror_mode": {
    "name": "ipython",
    "version": 3
   },
   "file_extension": ".py",
   "mimetype": "text/x-python",
   "name": "python",
   "nbconvert_exporter": "python",
   "pygments_lexer": "ipython3",
   "version": "3.10.12"
  }
 },
 "nbformat": 4,
 "nbformat_minor": 4
}
